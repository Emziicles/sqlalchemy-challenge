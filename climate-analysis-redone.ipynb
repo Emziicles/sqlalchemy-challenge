{
 "cells": [
  {
   "cell_type": "code",
   "execution_count": 1,
<<<<<<< HEAD
   "id": "a3e6df94",
   "metadata": {},
   "outputs": [],
   "source": [
    "# import dependencies\n",
    "\n",
    "%matplotlib inline\n",
    "from matplotlib import style\n",
    "style.use('fivethirtyeight')\n",
    "import matplotlib.pyplot as plt\n",
=======
   "id": "dbdce94d",
   "metadata": {},
   "outputs": [],
   "source": [
    "%matplotlib inline\n",
    "from matplotlib import style\n",
    "style.use('fivethirtyeight')\n",
    "import matplotlib.pyplot as plt"
   ]
  },
  {
   "cell_type": "code",
   "execution_count": 2,
   "id": "2e076bd6",
   "metadata": {},
   "outputs": [],
   "source": [
>>>>>>> 98fad8eb9852b4b7053b39591301554541b3e7b3
    "import numpy as np\n",
    "import pandas as pd\n",
    "import datetime as dt"
   ]
  },
  {
   "cell_type": "code",
<<<<<<< HEAD
   "execution_count": 2,
   "id": "6e9fbb44",
   "metadata": {},
   "outputs": [],
   "source": [
    "import sqlalchemy\n",
    "from sqlalchemy.ext.automap import automap_base\n",
    "from sqlalchemy.orm import Session\n",
    "from sqlalchemy import create_engine, func, inspect"
=======
   "execution_count": 3,
   "id": "dddf8ed5",
   "metadata": {},
   "outputs": [],
   "source": [
    "# Python SQL toolkit and Object Relational Mapper\n",
    "import sqlalchemy\n",
    "from sqlalchemy.ext.automap import automap_base\n",
    "from sqlalchemy.orm import Session\n",
    "from sqlalchemy import create_engine, func, inspect\n"
>>>>>>> 98fad8eb9852b4b7053b39591301554541b3e7b3
   ]
  },
  {
   "cell_type": "code",
<<<<<<< HEAD
   "execution_count": 3,
   "id": "819b098a",
   "metadata": {},
   "outputs": [],
   "source": [
    "# create engine and use base to reflect database\n",
    "\n",
    "engine = create_engine(\"sqlite:///hawaii.sqlite\")\n",
    "\n",
    "base = automap_base()\n",
=======
   "execution_count": 4,
   "id": "94ab900a",
   "metadata": {},
   "outputs": [],
   "source": [
    "# create engine to hawaii.sqlite\n",
    "engine = create_engine(\"sqlite:///hawaii.sqlite\")"
   ]
  },
  {
   "cell_type": "code",
   "execution_count": 5,
   "id": "045cc33d",
   "metadata": {},
   "outputs": [],
   "source": [
    "# reflect an existing database into a new model\n",
    "# reflect the tables\n",
    "\n",
    "base = automap_base()\n",
    "\n",
>>>>>>> 98fad8eb9852b4b7053b39591301554541b3e7b3
    "base.prepare(engine, reflect=True)"
   ]
  },
  {
   "cell_type": "code",
<<<<<<< HEAD
   "execution_count": 4,
   "id": "ec6fb497",
   "metadata": {},
   "outputs": [
    {
     "name": "stdout",
     "output_type": "stream",
     "text": [
      "['measurement', 'station']\n"
     ]
    }
   ],
   "source": [
    "# view classes\n",
    "\n",
    "keys = base.classes.keys()\n",
    "print(keys)"
=======
   "execution_count": 6,
   "id": "445765e2",
   "metadata": {},
   "outputs": [
    {
     "data": {
      "text/plain": [
       "['measurement', 'station']"
      ]
     },
     "execution_count": 6,
     "metadata": {},
     "output_type": "execute_result"
    }
   ],
   "source": [
    "# View all of the classes that automap found\n",
    "\n",
    "base.classes.keys()"
>>>>>>> 98fad8eb9852b4b7053b39591301554541b3e7b3
   ]
  },
  {
   "cell_type": "code",
<<<<<<< HEAD
   "execution_count": 5,
   "id": "7c82618a",
   "metadata": {},
   "outputs": [],
   "source": [
    "# save references to each table\n",
=======
   "execution_count": 7,
   "id": "f564d216",
   "metadata": {},
   "outputs": [],
   "source": [
    "# Save references to each table\n",
>>>>>>> 98fad8eb9852b4b7053b39591301554541b3e7b3
    "\n",
    "measurement = base.classes.measurement\n",
    "station = base.classes.station"
   ]
  },
  {
   "cell_type": "code",
<<<<<<< HEAD
   "execution_count": 6,
   "id": "b2a854b1",
   "metadata": {},
   "outputs": [],
   "source": [
    "# create a session\n",
=======
   "execution_count": 8,
   "id": "5616f740",
   "metadata": {},
   "outputs": [],
   "source": [
    "# Create our session (link) from Python to the DB\n",
    "\n",
>>>>>>> 98fad8eb9852b4b7053b39591301554541b3e7b3
    "session = Session(engine)"
   ]
  },
  {
<<<<<<< HEAD
   "cell_type": "code",
   "execution_count": 7,
   "id": "a7220034",
   "metadata": {},
   "outputs": [],
   "source": [
    "# use inspect to check columns\n",
    "inspector = inspect(engine)"
   ]
  },
  {
   "cell_type": "markdown",
   "id": "af316421",
   "metadata": {},
   "source": [
    "# Exploratory Precipitation Analysis"
=======
   "cell_type": "markdown",
   "id": "13602188",
   "metadata": {},
   "source": [
    "Exploratory Precipitation Analysis"
>>>>>>> 98fad8eb9852b4b7053b39591301554541b3e7b3
   ]
  },
  {
   "cell_type": "code",
<<<<<<< HEAD
   "execution_count": 8,
   "id": "cb70bbb2",
=======
   "execution_count": 9,
   "id": "f166b90e",
>>>>>>> 98fad8eb9852b4b7053b39591301554541b3e7b3
   "metadata": {},
   "outputs": [
    {
     "name": "stdout",
     "output_type": "stream",
     "text": [
      "id INTEGER\n",
      "station TEXT\n",
      "date TEXT\n",
      "prcp FLOAT\n",
      "tobs FLOAT\n"
     ]
    }
   ],
   "source": [
<<<<<<< HEAD
    "# get columns\n",
    "\n",
    "mcolumns = inspector.get_columns('measurement')\n",
    "for col in mcolumns:\n",
    "    print(col[\"name\"], col[\"type\"])"
   ]
  },
  {
   "cell_type": "code",
   "execution_count": 9,
   "id": "19237dee",
   "metadata": {},
   "outputs": [
    {
     "name": "stdout",
     "output_type": "stream",
     "text": [
      "id INTEGER\n",
      "station TEXT\n",
      "name TEXT\n",
      "latitude FLOAT\n",
      "longitude FLOAT\n",
      "elevation FLOAT\n"
     ]
    }
   ],
   "source": [
    "scolumns = inspector.get_columns('station')\n",
    "for col in scolumns:\n",
=======
    "# Find the most recent date in the data set\n",
    "# Find column names\n",
    "\n",
    "inspector = inspect(engine)\n",
    "\n",
    "columns = inspector.get_columns('measurement')\n",
    "for col in columns:\n",
>>>>>>> 98fad8eb9852b4b7053b39591301554541b3e7b3
    "    print(col[\"name\"], col[\"type\"])"
   ]
  },
  {
   "cell_type": "code",
   "execution_count": 10,
<<<<<<< HEAD
   "id": "4e3b77ad",
=======
   "id": "10e504b2",
>>>>>>> 98fad8eb9852b4b7053b39591301554541b3e7b3
   "metadata": {},
   "outputs": [
    {
     "data": {
      "text/plain": [
       "('2017-08-23')"
      ]
     },
     "execution_count": 10,
     "metadata": {},
     "output_type": "execute_result"
    }
   ],
   "source": [
<<<<<<< HEAD
    "# get the latest date\n",
    "\n",
=======
>>>>>>> 98fad8eb9852b4b7053b39591301554541b3e7b3
    "session.query(measurement.date).order_by(measurement.date.desc()).first()"
   ]
  },
  {
   "cell_type": "code",
   "execution_count": 11,
<<<<<<< HEAD
   "id": "d684309b",
=======
   "id": "d8230b85",
>>>>>>> 98fad8eb9852b4b7053b39591301554541b3e7b3
   "metadata": {},
   "outputs": [
    {
     "data": {
      "text/plain": [
       "[('2017-08-23', 0.0),\n",
       " ('2017-08-23', 0.0),\n",
       " ('2017-08-23', 0.08),\n",
       " ('2017-08-23', 0.45),\n",
       " ('2017-08-22', 0.0)]"
      ]
     },
     "execution_count": 11,
     "metadata": {},
     "output_type": "execute_result"
    }
   ],
   "source": [
<<<<<<< HEAD
    "# design a query to retrieve the last 12 months of precipitation data and plot the results \n",
    "\n",
    "precipitation = session.query(measurement.date, measurement.prcp).\\\n",
    "filter(measurement.date >= \"2016-08-23\").\\\n",
    "filter(measurement.date <= \"2017-08-23\").order_by(measurement.date.desc()).all()\n",
    "precipitation[:5]"
=======
    "# Design a query to retrieve the last 12 months of precipitation data and plot the results. \n",
    "# Starting from the most recent data point in the database. \n",
    "\n",
    "\n",
    "precip = session.query(measurement.date, measurement.prcp).\\\n",
    "filter(measurement.date >= \"2016-03-23\").\\\n",
    "filter(measurement.date <= \"2017-08-23\").order_by(measurement.date.desc()).all()\n",
    "precip[:5]"
>>>>>>> 98fad8eb9852b4b7053b39591301554541b3e7b3
   ]
  },
  {
   "cell_type": "code",
   "execution_count": 12,
<<<<<<< HEAD
   "id": "c46811aa",
   "metadata": {},
   "outputs": [],
   "source": [
    "last_date = session.query(measurement.date).order_by(measurement.date.desc()).first()\n",
    "\n",
    "latest_date = dt.datetime.strptime(last_date[0], '%Y-%m-%d')\n",
    "start_date = latest_date - dt.timedelta(days=365)\n"
=======
   "id": "68a48026",
   "metadata": {},
   "outputs": [
    {
     "name": "stdout",
     "output_type": "stream",
     "text": [
      "2016-08-23 00:00:00\n"
     ]
    }
   ],
   "source": [
    "# Save the query results as a Pandas DataFrame and set the index to the date column\n",
    "last_date = session.query(measurement.date).order_by(measurement.date.desc()).first()\n",
    "\n",
    "latest_date = dt.datetime.strptime(last_date[0], '%Y-%m-%d')\n",
    "start_date = latest_date - dt.timedelta(days=365)\n",
    "\n",
    "print(start_date)"
>>>>>>> 98fad8eb9852b4b7053b39591301554541b3e7b3
   ]
  },
  {
   "cell_type": "code",
   "execution_count": 13,
<<<<<<< HEAD
   "id": "bd414613",
=======
   "id": "9035e554",
>>>>>>> 98fad8eb9852b4b7053b39591301554541b3e7b3
   "metadata": {},
   "outputs": [],
   "source": [
    "sel = [measurement.date, \n",
    "       func.sum(measurement.prcp)]\n",
    "precip = session.query(*sel).\\\n",
    "        filter(func.strftime(measurement.date) >= start_date).\\\n",
    "        group_by(measurement.date).\\\n",
    "        order_by(measurement.date).all()"
   ]
  },
  {
   "cell_type": "code",
   "execution_count": 14,
<<<<<<< HEAD
   "id": "63be8a6d",
   "metadata": {},
   "outputs": [],
   "source": [
    "precip_df = pd.DataFrame(precip,columns=['date','precipitation'])\n",
    "precip_df.head()\n",
    "precip_df.set_index('date', inplace=True)"
   ]
  },
  {
   "cell_type": "code",
   "execution_count": 15,
   "id": "3036d49e",
   "metadata": {},
   "outputs": [
    {
     "data": {
      "text/html": [
       "<div>\n",
       "<style scoped>\n",
       "    .dataframe tbody tr th:only-of-type {\n",
       "        vertical-align: middle;\n",
       "    }\n",
       "\n",
       "    .dataframe tbody tr th {\n",
       "        vertical-align: top;\n",
       "    }\n",
       "\n",
       "    .dataframe thead th {\n",
       "        text-align: right;\n",
       "    }\n",
       "</style>\n",
       "<table border=\"1\" class=\"dataframe\">\n",
       "  <thead>\n",
       "    <tr style=\"text-align: right;\">\n",
       "      <th></th>\n",
       "      <th>precipitation</th>\n",
       "    </tr>\n",
       "    <tr>\n",
       "      <th>date</th>\n",
       "      <th></th>\n",
       "    </tr>\n",
       "  </thead>\n",
       "  <tbody>\n",
       "    <tr>\n",
       "      <th>2016-08-24</th>\n",
       "      <td>9.33</td>\n",
       "    </tr>\n",
       "    <tr>\n",
       "      <th>2016-08-25</th>\n",
       "      <td>0.54</td>\n",
       "    </tr>\n",
       "    <tr>\n",
       "      <th>2016-08-26</th>\n",
       "      <td>0.10</td>\n",
       "    </tr>\n",
       "    <tr>\n",
       "      <th>2016-08-27</th>\n",
       "      <td>0.32</td>\n",
       "    </tr>\n",
       "    <tr>\n",
       "      <th>2016-08-28</th>\n",
       "      <td>3.10</td>\n",
       "    </tr>\n",
       "  </tbody>\n",
       "</table>\n",
       "</div>"
      ],
      "text/plain": [
       "            precipitation\n",
       "date                     \n",
       "2016-08-24           9.33\n",
       "2016-08-25           0.54\n",
       "2016-08-26           0.10\n",
       "2016-08-27           0.32\n",
       "2016-08-28           3.10"
      ]
     },
     "execution_count": 15,
     "metadata": {},
     "output_type": "execute_result"
    }
   ],
   "source": [
    "precip_df.sort_index(inplace=True)\n",
    "precip_df.head()"
=======
   "id": "702eb5b8",
   "metadata": {},
   "outputs": [
    {
     "ename": "ValueError",
     "evalue": "1 columns passed, passed data had 2 columns",
     "output_type": "error",
     "traceback": [
      "\u001b[1;31m---------------------------------------------------------------------------\u001b[0m",
      "\u001b[1;31mAssertionError\u001b[0m                            Traceback (most recent call last)",
      "\u001b[1;32m~\\anaconda3\\envs\\PythonData\\lib\\site-packages\\pandas\\core\\internals\\construction.py\u001b[0m in \u001b[0;36m_list_to_arrays\u001b[1;34m(data, columns, coerce_float, dtype)\u001b[0m\n\u001b[0;32m    496\u001b[0m         result = _convert_object_array(\n\u001b[1;32m--> 497\u001b[1;33m             \u001b[0mcontent\u001b[0m\u001b[1;33m,\u001b[0m \u001b[0mcolumns\u001b[0m\u001b[1;33m,\u001b[0m \u001b[0mdtype\u001b[0m\u001b[1;33m=\u001b[0m\u001b[0mdtype\u001b[0m\u001b[1;33m,\u001b[0m \u001b[0mcoerce_float\u001b[0m\u001b[1;33m=\u001b[0m\u001b[0mcoerce_float\u001b[0m\u001b[1;33m\u001b[0m\u001b[1;33m\u001b[0m\u001b[0m\n\u001b[0m\u001b[0;32m    498\u001b[0m         )\n",
      "\u001b[1;32m~\\anaconda3\\envs\\PythonData\\lib\\site-packages\\pandas\\core\\internals\\construction.py\u001b[0m in \u001b[0;36m_convert_object_array\u001b[1;34m(content, columns, coerce_float, dtype)\u001b[0m\n\u001b[0;32m    580\u001b[0m             raise AssertionError(\n\u001b[1;32m--> 581\u001b[1;33m                 \u001b[1;34mf\"{len(columns)} columns passed, passed data had \"\u001b[0m\u001b[1;33m\u001b[0m\u001b[1;33m\u001b[0m\u001b[0m\n\u001b[0m\u001b[0;32m    582\u001b[0m                 \u001b[1;34mf\"{len(content)} columns\"\u001b[0m\u001b[1;33m\u001b[0m\u001b[1;33m\u001b[0m\u001b[0m\n",
      "\u001b[1;31mAssertionError\u001b[0m: 1 columns passed, passed data had 2 columns",
      "\nThe above exception was the direct cause of the following exception:\n",
      "\u001b[1;31mValueError\u001b[0m                                Traceback (most recent call last)",
      "\u001b[1;32m<ipython-input-14-26f819f1bc99>\u001b[0m in \u001b[0;36m<module>\u001b[1;34m\u001b[0m\n\u001b[1;32m----> 1\u001b[1;33m \u001b[0mprecip_df\u001b[0m \u001b[1;33m=\u001b[0m \u001b[0mpd\u001b[0m\u001b[1;33m.\u001b[0m\u001b[0mDataFrame\u001b[0m\u001b[1;33m(\u001b[0m\u001b[0mprecip\u001b[0m\u001b[1;33m)\u001b[0m\u001b[1;33m\u001b[0m\u001b[1;33m\u001b[0m\u001b[0m\n\u001b[0m\u001b[0;32m      2\u001b[0m \u001b[0mprecip_index\u001b[0m \u001b[1;33m=\u001b[0m \u001b[0mprecip_df\u001b[0m\u001b[1;33m.\u001b[0m\u001b[0mset_index\u001b[0m\u001b[1;33m(\u001b[0m\u001b[1;34m'date'\u001b[0m\u001b[1;33m)\u001b[0m\u001b[1;33m\u001b[0m\u001b[1;33m\u001b[0m\u001b[0m\n",
      "\u001b[1;32m~\\anaconda3\\envs\\PythonData\\lib\\site-packages\\pandas\\core\\frame.py\u001b[0m in \u001b[0;36m__init__\u001b[1;34m(self, data, index, columns, dtype, copy)\u001b[0m\n\u001b[0;32m    472\u001b[0m                     \u001b[1;32mif\u001b[0m \u001b[0mis_named_tuple\u001b[0m\u001b[1;33m(\u001b[0m\u001b[0mdata\u001b[0m\u001b[1;33m[\u001b[0m\u001b[1;36m0\u001b[0m\u001b[1;33m]\u001b[0m\u001b[1;33m)\u001b[0m \u001b[1;32mand\u001b[0m \u001b[0mcolumns\u001b[0m \u001b[1;32mis\u001b[0m \u001b[1;32mNone\u001b[0m\u001b[1;33m:\u001b[0m\u001b[1;33m\u001b[0m\u001b[1;33m\u001b[0m\u001b[0m\n\u001b[0;32m    473\u001b[0m                         \u001b[0mcolumns\u001b[0m \u001b[1;33m=\u001b[0m \u001b[0mdata\u001b[0m\u001b[1;33m[\u001b[0m\u001b[1;36m0\u001b[0m\u001b[1;33m]\u001b[0m\u001b[1;33m.\u001b[0m\u001b[0m_fields\u001b[0m\u001b[1;33m\u001b[0m\u001b[1;33m\u001b[0m\u001b[0m\n\u001b[1;32m--> 474\u001b[1;33m                     \u001b[0marrays\u001b[0m\u001b[1;33m,\u001b[0m \u001b[0mcolumns\u001b[0m \u001b[1;33m=\u001b[0m \u001b[0mto_arrays\u001b[0m\u001b[1;33m(\u001b[0m\u001b[0mdata\u001b[0m\u001b[1;33m,\u001b[0m \u001b[0mcolumns\u001b[0m\u001b[1;33m,\u001b[0m \u001b[0mdtype\u001b[0m\u001b[1;33m=\u001b[0m\u001b[0mdtype\u001b[0m\u001b[1;33m)\u001b[0m\u001b[1;33m\u001b[0m\u001b[1;33m\u001b[0m\u001b[0m\n\u001b[0m\u001b[0;32m    475\u001b[0m                     \u001b[0mcolumns\u001b[0m \u001b[1;33m=\u001b[0m \u001b[0mensure_index\u001b[0m\u001b[1;33m(\u001b[0m\u001b[0mcolumns\u001b[0m\u001b[1;33m)\u001b[0m\u001b[1;33m\u001b[0m\u001b[1;33m\u001b[0m\u001b[0m\n\u001b[0;32m    476\u001b[0m \u001b[1;33m\u001b[0m\u001b[0m\n",
      "\u001b[1;32m~\\anaconda3\\envs\\PythonData\\lib\\site-packages\\pandas\\core\\internals\\construction.py\u001b[0m in \u001b[0;36mto_arrays\u001b[1;34m(data, columns, coerce_float, dtype)\u001b[0m\n\u001b[0;32m    459\u001b[0m         \u001b[1;32mreturn\u001b[0m \u001b[1;33m[\u001b[0m\u001b[1;33m]\u001b[0m\u001b[1;33m,\u001b[0m \u001b[1;33m[\u001b[0m\u001b[1;33m]\u001b[0m  \u001b[1;31m# columns if columns is not None else []\u001b[0m\u001b[1;33m\u001b[0m\u001b[1;33m\u001b[0m\u001b[0m\n\u001b[0;32m    460\u001b[0m     \u001b[1;32mif\u001b[0m \u001b[0misinstance\u001b[0m\u001b[1;33m(\u001b[0m\u001b[0mdata\u001b[0m\u001b[1;33m[\u001b[0m\u001b[1;36m0\u001b[0m\u001b[1;33m]\u001b[0m\u001b[1;33m,\u001b[0m \u001b[1;33m(\u001b[0m\u001b[0mlist\u001b[0m\u001b[1;33m,\u001b[0m \u001b[0mtuple\u001b[0m\u001b[1;33m)\u001b[0m\u001b[1;33m)\u001b[0m\u001b[1;33m:\u001b[0m\u001b[1;33m\u001b[0m\u001b[1;33m\u001b[0m\u001b[0m\n\u001b[1;32m--> 461\u001b[1;33m         \u001b[1;32mreturn\u001b[0m \u001b[0m_list_to_arrays\u001b[0m\u001b[1;33m(\u001b[0m\u001b[0mdata\u001b[0m\u001b[1;33m,\u001b[0m \u001b[0mcolumns\u001b[0m\u001b[1;33m,\u001b[0m \u001b[0mcoerce_float\u001b[0m\u001b[1;33m=\u001b[0m\u001b[0mcoerce_float\u001b[0m\u001b[1;33m,\u001b[0m \u001b[0mdtype\u001b[0m\u001b[1;33m=\u001b[0m\u001b[0mdtype\u001b[0m\u001b[1;33m)\u001b[0m\u001b[1;33m\u001b[0m\u001b[1;33m\u001b[0m\u001b[0m\n\u001b[0m\u001b[0;32m    462\u001b[0m     \u001b[1;32melif\u001b[0m \u001b[0misinstance\u001b[0m\u001b[1;33m(\u001b[0m\u001b[0mdata\u001b[0m\u001b[1;33m[\u001b[0m\u001b[1;36m0\u001b[0m\u001b[1;33m]\u001b[0m\u001b[1;33m,\u001b[0m \u001b[0mabc\u001b[0m\u001b[1;33m.\u001b[0m\u001b[0mMapping\u001b[0m\u001b[1;33m)\u001b[0m\u001b[1;33m:\u001b[0m\u001b[1;33m\u001b[0m\u001b[1;33m\u001b[0m\u001b[0m\n\u001b[0;32m    463\u001b[0m         return _list_of_dict_to_arrays(\n",
      "\u001b[1;32m~\\anaconda3\\envs\\PythonData\\lib\\site-packages\\pandas\\core\\internals\\construction.py\u001b[0m in \u001b[0;36m_list_to_arrays\u001b[1;34m(data, columns, coerce_float, dtype)\u001b[0m\n\u001b[0;32m    498\u001b[0m         )\n\u001b[0;32m    499\u001b[0m     \u001b[1;32mexcept\u001b[0m \u001b[0mAssertionError\u001b[0m \u001b[1;32mas\u001b[0m \u001b[0me\u001b[0m\u001b[1;33m:\u001b[0m\u001b[1;33m\u001b[0m\u001b[1;33m\u001b[0m\u001b[0m\n\u001b[1;32m--> 500\u001b[1;33m         \u001b[1;32mraise\u001b[0m \u001b[0mValueError\u001b[0m\u001b[1;33m(\u001b[0m\u001b[0me\u001b[0m\u001b[1;33m)\u001b[0m \u001b[1;32mfrom\u001b[0m \u001b[0me\u001b[0m\u001b[1;33m\u001b[0m\u001b[1;33m\u001b[0m\u001b[0m\n\u001b[0m\u001b[0;32m    501\u001b[0m     \u001b[1;32mreturn\u001b[0m \u001b[0mresult\u001b[0m\u001b[1;33m\u001b[0m\u001b[1;33m\u001b[0m\u001b[0m\n\u001b[0;32m    502\u001b[0m \u001b[1;33m\u001b[0m\u001b[0m\n",
      "\u001b[1;31mValueError\u001b[0m: 1 columns passed, passed data had 2 columns"
     ]
    }
   ],
   "source": [
    "precip_df = pd.DataFrame(precip)\n",
    "precip_index = precip_df.set_index('date')\n"
>>>>>>> 98fad8eb9852b4b7053b39591301554541b3e7b3
   ]
  },
  {
   "cell_type": "code",
<<<<<<< HEAD
   "execution_count": 16,
   "id": "ce2ad287",
   "metadata": {},
   "outputs": [
    {
     "data": {
      "image/png": "iVBORw0KGgoAAAANSUhEUgAAA1AAAAIwCAYAAACImIrfAAAABHNCSVQICAgIfAhkiAAAAAlwSFlzAAALEgAACxIB0t1+/AAAADh0RVh0U29mdHdhcmUAbWF0cGxvdGxpYiB2ZXJzaW9uMy4yLjIsIGh0dHA6Ly9tYXRwbG90bGliLm9yZy+WH4yJAAAgAElEQVR4nOzdd3xT9f4/8Fc6gNrbNtAfLS205YKAFJC9SoWLIi17ibegImLlAspQUYYXilygZSnIvAyRWRkiIAgKMixb9pBRLLTs1QWl0JH8/uDb3CY5SU/aJOeT5vV8PHw8bM5J8m5OOckrn8/nfVTp6elaEBERERERUZFclC6AiIiIiIjIUTBAERERERERycQARUREREREJBMDFBERERERkUwMUERERERERDIxQBEREREREcnEAEVETmPw4MFQq9VITk5WuhRSSKdOnaBWq0v8OKtXr4Zarcbq1autUFXxWev3cRb2Pgfw+BCVTgxQRGQTarW6yP+2bt2qdJlCSE5OhlqtRqdOnZQupVgMj2uFChUQEhKCyMhILFu2DPn5+UqXaDdqtRr16tWz2uMVfAB31NCfm5uLGjVqQK1Wo3fv3kqXQ0RkFW5KF0BEpduoUaNMbqtZs6YdKyFbKzjW+fn5uHr1KrZu3YrDhw9j7969WL58ucLVPbdw4UJkZ2eX+HE6d+6Mpk2bwt/f3wpVFZ+1fh9b2bp1K+7fvw+VSoXffvsNKSkpCA4OVrosuxH9+BBR8TBAEZFNjRkzRukSyE4Mj/X58+fRrl07bN68GQcPHkRYWJhClf1PUFCQVR7Hx8cHPj4+VnmskrDW72Mry5YtAwB8+umnmDFjBlasWIF///vfCldlP6IfHyIqHk7hIyLFZWRkoEGDBqhYsSKOHTtmtD0qKgpqtRrz58/X3RYbG6tbg7Jjxw68/vrrCAwMRNWqVdG/f39cvXrVoho2b96MTp06ITg4GP7+/mjWrBkmTZqER48eGe1bMK3q2rVrmDNnDlq0aAF/f3/07dtX9/vMnj0bnTt3Ru3atVGxYkVUr14dUVFROHLkiN5jrV69GvXr1wcAHDhwQG8qXGxsrE1qXLx4MdRqNeLi4iRfi8zMTAQGBqJOnTolmn5Xp04dtGrVCgBw/PhxAEBCQgLUajUGDx6Mixcv4u2330a1atWgVqtx5swZvd+1W7duqFq1Kvz8/NCoUSNMmDABmZmZks91+/ZtjB07Fk2bNkWlSpUQHByM8PBwfPnll8jKyjJ6XQorXNPly5fRp08fVK1aFYGBgejQoQP27t1r9HyGa6AKHgMArl+/rnccBw8erLvf1q1b8cEHH6BRo0YIDAxE5cqV0bp1a8yfP9/otVar1Thw4AAAoH79+rrHKzxF0NQaG61Wi++++w6vvfYaqlSpgoCAAISHh2POnDnIyckx2r9evXpQq9XIy8vDzJkz0ahRI/j5+aFOnToYN24cnj17Jvm6m5OUlISEhAS0aNECn3zyCby8vLBq1Srk5eVJ7l+cGix5PaVcuHABarUanTt3NrlPZGQk1Go1Ll++DOD5a7tq1Sq0b98e1atXh7+/P0JDQ9GlSxejkVap42PJ/YlITByBIiLF+fj4YNmyZYiIiMB7772n92F07ty52LFjBzp06IAhQ4YY3fenn37Crl270KVLF7zyyis4c+YMNm3ahISEBPz666+oXr16kc8/ceJEfPXVVyhfvjx69uwJHx8f7NmzBzNmzMDPP/+MHTt2wNvb2+h+n3/+OY4cOYKIiAi0b98ef/vb3wAAly9fxqRJkxAWFoaIiAio1Wpcv34dP//8M3bu3In4+Hi0b98ewPMPjYMGDcLChQsRFBSkC2EAEB4ebpMao6KiMHHiRKxcuRKfffYZXF1d9e7z/fff48mTJxg2bJjRNmu5evUq2rdvj1q1aiEqKgoZGRl44YUXADwfrVi6dCkqV66Mzp07Q61W49ixY5g1axZ+/fVX/PLLL/Dy8tI91qlTp9CrVy88fPgQzZo1Q2RkJHJzc3HlyhXMnTsX/fv3h6enZ5E1JScn4/XXX0edOnXw3nvv4datW9i0aRN69uyJZcuWoVu3bibvGxwcjFGjRmHq1Knw9vbWC02FA8+XX34JFxcXNGnSBIGBgcjIyMC+ffswduxYnDhxAkuWLNHtO2rUKKxZswbXr1/HoEGDdCNecka+Bg4ciPXr1yMwMBB9+/aFu7s7duzYgXHjxmHXrl344Ycf4OZm/BEgOjoahw4dQrt27eDl5YWdO3dizpw5uH//PhYuXFjk8xb23XffQavVom/fvnjhhRfQvXt3rFy5Etu3b0eXLl1M3s+SGix5PaXUrl0brVq1wv79+3H58mWjacV//vknDh8+jPDwcN22CRMmYPbs2QgODkb37t3h4+ODu3fv4ty5c/j+++/x7rvvmn3Okt6fiJSnSk9P1ypdBBGVPgUByNwaKMMpX/Pnz8fYsWPRqVMnrF69GsePH0dkZCT8/f2RkJCA8uXL6/aNjY3F1KlTAQBr165FRESEbtucOXMwbtw4vPrqq9i4caPu9sGDByM+Ph6nT59GSEgIAODo0aNo3749AgMD8dtvvyEgIADA82+JBw8ejO+//x7R0dGYMWOG7nE6deqEAwcOICAgADt27NA9VoGMjAzk5eXB19dX7/aUlBS0a9cOPj4++OOPP3S3Jycno379+mjVqhW2bdtm9DrZosaRI0diyZIlWL16tVHzirCwMFy+fBlnzpxBYGCgUT2GCo51enq63u0XLlzAq6++iuzsbGzbtg2tWrVCQkKC7sPzJ598gvHjx+vdZ+3atfjXv/6Fzp07Y/HixfDw8NBtmz59OiZPnowhQ4ZgypQpAICcnBw0adIEKSkpmD17ttGHz4cPH8LT0xPlypXTe10K11q4pqFDh+I///mPbtuxY8cQEREBb29vnD17VheSV69ejQ8//BDz5s3DW2+9pfdaBAUF4ezZs5Kv1dWrV/H3v/9d7zaNRoNBgwZh3bp12LlzJ5o2barbVlBv4b/ZwqR+nw0bNiA6Ohp16tTB9u3bdcE6JycHb7zxBn7//XdMnDgRw4YN092nXr16uH79Oho2bIgff/xRd0yzsrIQHh6O5ORk/Pnnn6hUqZLk72UoJycHoaGhePLkCS5dugQvLy8cPnwYkZGRaNeuHTZs2GB0n+LUYOnrKXUO2LRpE/r374/Bgwcbjfp+9tlnWLx4MZYtW4YePXoAAKpWrQoPDw8cO3bMKJg/fPhQ79+91PGx5P5EJCZO4SMim5o6darJ/wwNGTIEHTp0wLZt2zB16lS899570Gq1WLp0qV54Kqx169Z64Ql4/iGpSpUq2L17N27dumW2vlWrVgF4/mG+IJgAgEqlwsSJE+Hh4YH4+Hjk5uYa3Xfo0KGSH2p9fHwkPwQFBwejW7duSExMxPXr183WZesao6OjAfxvjUqBw4cP488//0RkZKSs8FRYbGwsYmNjMWnSJHzwwQdo27YtsrOz0blzZ91UvgJ+fn6S4Xr+/PlwdXXFnDlz9MIT8Pz39/X1xbp163S3bd++HSkpKXjttdckv7n39fXVhaeieHt74/PPP9e7rUmTJujRowfS0tLw888/y3occww/7AOAi4uLbnR19+7dJX6Ogr+XmJgYvVHJMmXK6IKnqaliEyZM0Jty5unpiTfffBMajQanTp2SXcPWrVvx4MEDdO3aVTda2KJFC7z44ovYvXu32a6CltRgjdezc+fOCAgIQHx8vF7DhydPnmDt2rXw8/PTm+Ln4uICd3d3yRE8OeGnpPcnIuVxCh8R2ZThqERRFixYgPDwcN03wRMmTEDz5s1N7m/4wRwA3Nzc0Lx5c9y4caPIUZTTp08DeB7EDPn5+SE0NBTHjx9HYmIiQkND9bY3adLE5OMePnwYCxcuxB9//IH79+8brTu5ffu27AXmtqjxpZdeQnh4OHbv3o1r166hatWqAP4XqN5//31ZtRVWEIpVKhW8vLxQv3599O7dG/379zfat27duihbtqzebdnZ2Thz5gzKly9vcrpYmTJlcPv2baSmpqJChQq6NXMFUyJLon79+npTAwu0atUKGzZswJkzZ/Dmm2+W6DlSU1PxzTff4Ndff0VycrLe+izg+d9FSRX8vbzyyitG2+rWrYuKFSvir7/+wuPHj3UjagUaNGhgdJ/KlSsDsOzfcsHfUeHROQDo27evbvqoqWYSltRgjdfTzc0N7777LuLi4vDjjz/qptH+8MMPyMzMxAcffAB3d3fd/m+++SYWLlyIZs2aoXv37mjZsiWaN29u8kseQyW9PxEpjwGKiISiVqvRunVrrFmzBi+88ILkh+/C/Pz8JG+vWLEiAJhsOlCgYLupxyloUy31OKbu89NPP+Hdd99FuXLl0LZtW1StWhUvvPACXFxcsH//fhw4cMCiRfm2qBEAPvjgA+zfvx/Lly9HTEwM0tLSsHnzZlSrVg3/+Mc/ZNdXwJIP2FJ1paWlQavVIjU1VXKEsrDHjx+jQoUKyMjIAACLR8vk1gTI/1sqSnp6Otq2bYvk5GQ0btwYUVFRKF++PFxdXZGRkYGFCxcWq1mDoczMTHh7exuN4BXw9/fH/fv3kZmZaRSgpNZXFayDk9tQ5K+//sL+/ft1jTwKi4qKwqRJk7Bq1SqMHj1achRGbg3WfD379++PmTNnYtmyZboAtWzZMri4uBiNbE6ePBnVqlXDqlWr8M0332D27NlwcXFBmzZtMHHixCKvA1bS+xOR8higiEgoW7ZswZo1a+Dr64uHDx9i+PDhZjtT3bt3T/L2+/fvA4BkY4XCCrbfu3dPspvZ3bt3TT6OSqWSfMwpU6agTJky2LNnD2rVqqW3bcSIEbrOanLZokbg+fqMwMBArFq1CmPGjMGaNWvw9OlT9O/f3+z9rEHq8QvqDw0NxcGDB2U9TsGHbWuM3JT0b6koK1euRHJyMkaNGmW0/u/o0aMWN2kwxdvbG2lpacjOzpYMUeb+XqyhoHlESkqKyVGVO3fu4Oeff0bXrl2L/TzWfD0rVaqEzp0748cff8TZs2eh0Whw4sQJtG/f3ui6Va6urhg4cCAGDhyI1NRUHDp0CD/99BPWrl2LHj164OjRo6hQoYLJ5yrp/YlIeVwDRUTCuHbtGoYOHQofHx/s3r0b7du3x+bNm8120pIKI3l5ebp24S+//LLZ5yxoIZ6QkGC07cGDB7hw4QI8PT1Ro0YN2b9HUlISatWqZRSeNBoNDh8+bLR/wbfrGo3GbjUC/5u6dP/+fWzduhXLly9H2bJljaZd2cvf/vY3hIaGIjExEQ8fPpR1n4IGAb/++muJn//06dOSLeEL/saK+lsCnq9vMXUck5KSAEAyNJgK1UX9bUgp+HvZv3+/0bY///wT9+/fx4svvmg0+mQNOTk5iI+Ph0qlwltvvYV33nnH6L+OHTsCML0OS67ivJ7mFF4XWDAFccCAAWbvU6FCBXTq1AkLFy5Er1698ODBA8l/47a6PxEpgwGKiISQm5uL999/HxkZGZgzZw5CQkKwYMECBAYG4osvvtC7RlBhv//+O3755Re92xYsWIAbN26gbdu2RU7tevvttwEAX331le6beeB5h7vx48fjyZMn6NOnj94aiKIEBwcjKSlJr4GFVqtFXFwcLl68aLR/+fLloVKpTDaWsEWNBfr37w93d3eMHTsWly9fRrdu3RRdyP7hhx8iNzcXQ4YMQVpamtH2R48e6V0rrEOHDggJCcGuXbuwcuVKo/1TU1Px9OlTWc+dmZmJadOm6d127NgxXUe4gg/+5vj6+uLBgwd6zQgKFIxkGAbh06dP4+uvvzb5eAAsajryzjvvAHje+v7x48e623Nzc/HFF18AAPr16yf78Szx008/4cGDB3jllVcwb948zJkzx+i/5cuXw8/Pr8hmEkUpzutpTqtWrRAaGor169djw4YNqFKlitHaumfPnmHv3r1GgVar1epGKs01LSnp/YlIDJzCR0Q2ZdgWuLB27drpRhBiYmJw/PhxfPDBB7pvlH19fbFkyRJ06dIFAwYMwN69e42+Ne/QoQPeeustdO3aFVWrVsWZM2ewa9cuVKhQQa+ttynNmjXDJ598gq+++gotW7ZE9+7d4e3tjT179uD06dMIDQ3FuHHjLPqdhwwZgo8//hht2rRB165d4ebmhiNHjuDSpUuIjIzEjh079Pb39PREixYtcOjQIfzzn/9EgwYN4ObmhrCwMLRq1comNRbw9/fXTV0Civ7G3dbeeustnD59GosWLUKDBg3w2muvITg4GBkZGUhJScHBgwfRtm1brFmzBgDg7u6O5cuXo2fPnhg6dChWr16NZs2aIS8vD3/99Rf27t2Lo0ePSnYiNBQWFoYVK1bg+PHjaNGiBW7duoUff/wRWq0Ws2fPljVi07ZtW6xbtw69evVCWFgYypYti7p166JDhw6IiorCN998g7Fjx2L//v2oXr06/vrrL/zyyy/o0qWLXsv9wo/3448/Yvjw4ejWrRs8PT3h4+ODgQMHmqyhV69e2LFjB9avX48WLVqgU6dOuutAXblyBW3atNG7TpU1fffddwBgdu2iu7s7+vbti1mzZmHFihXF/tstzutZlPfffx+ffvopgOfTbV1c9L9nzs7ORvfu3VGlShU0bdoUQUFByM3Nxf79+3H27Fk0adJEstmLte5PRGJggCIimzLXDMDHxwdNmzbF9u3bMX/+fNSrVw+TJk3S2ycsLAxjxozBpEmT8Mknn2DRokV62zt37oz+/ftjxowZ2LFjB9zd3dGtWzfExMSgWrVqsmocP348Xn75ZSxatAjr16/Hs2fPEBISgpEjR2L48OGSndnMee+991CmTBksWLAA8fHxKFeuHFq2bIl58+Zhy5YtRgEKABYuXIgvvvgCBw8exM6dO6HRaDBq1Chdl0Fr11jY22+/jR9//BGhoaFo0aJFsR/HWqZNm4b27dtj6dKl2L9/P9LS0uDj44PAwEC8//776N27t97+DRo0QEJCAmbPno1ff/0VCxcuhIeHB4KDg/HRRx/pmkAUJSQkBLNmzUJMTAyWLl2KnJwcNGrUCKNGjZLdVCMuLg4uLi7Ys2cPjhw5gvz8fPTp0wcdOnRAQEAAtm/fjgkTJuDw4cPYvXs3atSogZkzZ6JNmzaSH/jffvtt3Lx5E+vWrcO8efOQm5uLoKAgswEKAP773/8iLCwMK1euxMqVK6HRaFC9enVMnDgRgwYNKtZoZVEKmkf4+vrqtf2W0q9fP8yePVu3/k6qmURRivN6FuWf//wnRo8eDeB/I3mFeXp6YuLEiUhISMAff/yB7du3w8PDAyEhIZg0aRLee+89s79LSe9PRGLghXSJyCEVXEjX8EKmZLmZM2fiP//5D2bMmKFbB+JMCi6k26dPHyxYsEDpckhBR44cQUREBLp3764bTSMiMsQ1UERETuzx48dYvHgxvL298c9//lPpcogU9dVXXwF43uKfiMgUjhMTETmh7du34+TJk9i5cyfu3LmDmJiYEk0DJHJU586dw88//4wzZ87gl19+wauvvip5gW4iogIMUERETmjLli2Ij4+Hn58fRowYgWHDhildEpEiTp8+jSlTpsDb2xtdu3bFzJkzlS6JiATHNVBEREREREQycQ0UERERERGRTAxQREREREREMjFAERERERERycQAZSOJiYlKl0D/h8dCHDwW4uCxEAOPgzh4LMTBYyEGHgfTGKCIiIiIiIhkYoAiIiIiIiKSiQGKiIiIiIhIJgYoIiIiIiIimdyULoCIiIiIyJry8vKQlZWldBkOrVy5csjIyFC6DJvx9PSEm1vxohADFBERERGVGnl5eXj06BHUajVUKpXS5TissmXLoly5ckqXYRNarRbp6enw8vIqVojiFD4iIiIiKjWysrIYnsgslUoFtVpd7FFKBigiIiIiKlUYnqgoJfkbYYAiIiIiIiKSiQGKiIiIiIhIJgYoIiIiIiInpVarsXnzZtn7JycnQ61W4+TJkzapJzY2Fi1btrTJY1sLAxQRERERkZO6dOkSIiMjZe9fpUoVXLp0CfXq1QMAJCQkQK1W4+HDhxY9r6kgNnToUGzbts2ix7I3tjEnIiIiInIwOTk5KFOmTIkfx9/f36L9XV1dLb6PJf72t7/Z7LGthSNQREREREQK69SpEz7++GOMGjUKISEhCAkJwbhx46DRaAAA9erVQ2xsLD788EMEBwfjgw8+AAAcOXIEHTt2REBAAGrXro1PPvkEmZmZusfVarWYM2cOGjVqBD8/P4SGhuLLL7/UbS88ha9gVGj9+vXo2rUr/P390bRpU+zevVu3f+GRo+TkZHTp0gUAUL16dajVagwePBgAsGvXLnTo0AEhISGoWrUqevbsiUuXLukep379+gCAtm3bQq1Wo1OnTgCMp/BpNBpMmzYNderUgZ+fH8LCwvRGqArq2bx5M7p3746AgAA0b94ce/bsscJRkcYRKCe17+ZNxB4/jooeHpgaFoZAT0+lSyIiIiKyGfXixXZ9vvT/CziWWL9+Pfr06YOdO3fi/PnzGD58OPz9/fHRRx8BAObPn4+RI0di79690Gq1OH/+PHr27InRo0djzpw5SEtLw5gxY/DRRx9hxYoVAICJEydi6dKlmDx5Mlq1aoUHDx7gzJkzZuuIiYlBTEwMGjZsiMWLF6Nv3744ceIEAgMD9farUqUKVqxYgX79+uHw4cMoX7687uK7WVlZGDRoEOrWrYvs7GzMmDEDUVFROHLkCMqUKYPdu3fj1VdfxQ8//IC6deuaHE1bsGAB5syZg6+++goNGzbE2rVr8c4772Dv3r14+eWXdftNmjQJEydOxMyZMzF9+nQMGDAAZ8+etcmIFgOUE8rJz0e/XbuQkZMDAPBwc8Oitm0VroqIiIjIufn7+2PatGlQqVSoWbMmrly5gvnz5+sCVFhYGIYPH67b/1//+hd69OiBoUOH6m6bOXMmWrdujfv378PDwwPz589HbGws3nnnHQBAtWrV0KxZM7N1DBgwAN26dUO5cuUwdepU7N69G99++y3+/e9/6+3n6uqK8uXLAwAqVqwIX19f3bZu3brp7Ttv3jwEBQXh+PHjaNmypW7fChUqmJ0SOHfuXHz00Ufo3bs3AOCLL77AwYMHMXfuXCxatEi335AhQ9ChQwcAwPjx4/H999/j7NmzNmlIwSl8TmjPzZu68AQA665cUbAaIiIiIgKAJk2a6F3gtVmzZrh165ZuSl7Dhg319j99+jTWrVuHypUr6/4raAhx9epVXLp0Cc+ePUObNm0sqqNp06a6/3dxcUHjxo1x8eJFix7j6tWriI6ORoMGDRAUFISaNWtCo9Hgxo0bsh8jMzMTt2/fRosWLfRub9mypVE9derU0f1/QEAAAOD+/fsW1SwXR6CcUE5+vtIlEBEREZGFPA2WXGg0GvTr1w9Dhgwx2jcgIADnz5+3V2lGoqKiEBAQgFmzZiEgIABubm5o3rw5cgp9iV8ShYMmALi7uxtt02q1VnkuQwxQRERERFTqFWdNkr0dP34cWq1WFwD++OMPBAQEwNvbW3L/+vXr48KFC6hWrZrk9lq1aqFs2bLYt28fqlevLruOY8eOoXnz5gCeh5ATJ04YTckrULB2Kb/QF/Spqam4dOkSpk+fjtatWwMATp06hby8PLP3M+Tt7Y2AgAAcPnxYbxTt0KFDqFWrluzfx9oUncJ34MABREVFoXbt2lCr1Vi9erXJfYcPHw61Wo05c+bYscLSyTCxExEREZHy7ty5g9GjRyMxMRGbN2/GN998Izm6VGD48OE4ceIEPv74Y5w+fRpJSUnYsWMHRowYAQDw8vLCoEGD8OWXX2LVqlW4evUqjh8/jqVLl5qt49tvv8VPP/2ExMREjB49GtevX8eAAQMk9w0KCoJKpcIvv/yCBw8e4PHjx1Cr1fD19cWKFSuQlJSE/fv345NPPoGb2//GbipWrAgPDw/89ttvuHfvHjIyMiQff+jQoZg7dy42bNiAK1euYPLkyTh06JBuXZgSFA1QWVlZCA0NRVxcHDw8PEzut3nzZpw4cUI3n5GIiIiIqLTp3bs3NBoNXnvtNQwbNgzvvPOO2QBVt25d/Pzzz0hJSUHnzp0RHh6OiRMnomLFirp9YmJiMGLECEyfPh3NmjVDv379cOvWLbN1xMTE4L///S/Cw8Px22+/YdWqVahcubLkvoGBgRgzZgwmTZqEGjVq4LPPPoOLiwu+/fZbnD9/Hi1btsRnn32GL774AmXLltXdz83NDVOnTsXKlSvx0ksvoW/fvpKPP2jQIAwdOhQxMTFo2bIltm3bhhUrVuh14LM3VXp6um0mB1qocuXKmDZtGt566y2921NSUhAREYFNmzbhjTfewMCBA/U6jYgqMTERNWrUULoMSVuvXcPbO3fq3eYIw9rFJfKxcDY8FuLgsRADj4M4eCzEUdJjkZGRAR8fHytWZB+dOnVCaGgopk+frlgNycnJqF+/Pvbs2YPatWvrWpKXVsX9WxG6C19eXh6io6MxcuRIRec5ljacwEdEREREVDxCB6jY2FiUL18e77//vtKlEBERERERiduFb//+/VizZg0SEhIsul9iYqKNKrKcSLUUdvvBA6PbRK3VWkr77+dIeCzEwWMhBh4HcfBYiKMkx6JcuXJ6a20cxQ8//AAAePr0qWI1+Pv7486dO7qflazFHjIzM3Hv3j2j24uaQipsgEpISMCdO3f0pu7l5+cjJiYGCxYswJ9//il5P1HmL4s8lzqxTBng3Dm920St1RpEPhbOhsdCHDwWYuBxEAePhTissQaqtK/dsYenT5+W+tfR29sbQUFBFt9P2AAVHR1t1G++V69e6NWrF959912FqioduAaKiIiIiKh4FA1Qjx8/RlJSEoDnV1K+ceMGzpw5g/LlyyMoKEivBSPwvN2hv78/vyEqIQYoIiIiKs0KX4yWSIpWW/xG5Io2kTh58iRat26N1q1bIzs7G7GxsWjdujWmTJmiZFlERERE5KA8PT2Rnp5eog/IVLpptVqkp6fD09OzWPdXdATqlVdeQXp6uuz9z549a8NqiIiIiMjRubm5wcvLC5mZmUqX4ou0njQAACAASURBVNAyMzPh7e2tdBk24+XlBTe34kUhYddAke1wSJuIiIhKMzc3N4e8mK5I7t27V6wGC85A6OtAERERERERiYQBioiIiIiISCYGKCfECXxERERERMXDAEVERERERCQTA5QTYhMJIiIiIqLiYYByQlLXReC1EoiIiIiIisYA5YQ0EmFJ6jYiIiIiItLHAOWEpKKSxu5VEBERERE5HgYoJ8QRKCIiIiKi4mGAckIMUERERERExcMA5YQkp/AxQBERERERFYkByglJddxjgCIiIiIiKhoDlBOSnMKnQB1ERERERI6GAcoJSY018TpQRERERERFY4ByQmwiQURERERUPAxQTohNJIiIiIiIiocByglxBIqIiIiIqHgYoJwQm0gQERERERUPA5QT4hQ+IiIiIqLiYYByQpzCR0RERERUPAxQTogBioiIiIioeBigCAADFBERERGRHAxQTkgqLDE+EREREREVjQHKCXEKHxERERFR8TBAOSF24SMiIiIiKh4GKCfEESgiIiIiouJhgHJCHIEiIiIiIioeBignJDkCpUAdRERERESOhgHKCXEKHxERERFR8TBAOSGpqJTPAEVEREREVCQGKCckeR0oBigiIiIioiIxQDkhqbDEKXxEREREREVjgHJC7MJHRERERFQ8DFBOiF34iIiIiIiKhwHKCbELHxERERFR8TBAOSFO4SMiIiIiKh4GKCfEESgiIiIiouJhgHJCHIEiIiIiIioeBignJHkdKAXqICIiIiJyNAxQTohT+IiIiIiIiocByglxCh8RERERUfEwQDkhLUegiIiIiIiKRdEAdeDAAURFRaF27dpQq9VYvXq1bltubi5iYmIQFhaGwMBA1KpVC9HR0bh+/bqCFZcOnMJHRERERFQ8igaorKwshIaGIi4uDh4eHnrbnjx5gtOnT2PkyJHYt28f1qxZg5s3b+KNN95AXl6eQhWXDpJT+OxeBRERERGR43FT8snbt2+P9u3bAwCGDBmit83HxwebNm3Su+3rr79GixYtcOnSJdSpU8dudZY2HIEiIiIiIioeh1oD9ejRIwCAWq1WuBLHxgBFRERERFQ8io5AWSInJwf//ve/ERkZicqVK5vcLzEx0Y5VmSdSLYWlpqUZ3Xbr1i0kluKpkaIeC2fEYyEOHgsx8DiIg8dCHDwWYnDW41CjRg2z2x0iQOXl5WHgwIHIyMhAfHy82X2L+oXtJTExUZhaDPk8eADcuKF3m3+lSqhRvbpCFdmWyMfC2fBYiIPHQgw8DuLgsRAHj4UYeBxMEz5A5eXl4f3338eff/6JrVu3okKFCkqX5PDYRIKIiIiIqHiEDlC5ubkYMGAALly4gK1bt8Lf31/pkkoFroEiIiIiIioeRQPU48ePkZSUBADQaDS4ceMGzpw5g/LlyyMgIADvvvsuTp48ifj4eKhUKty9excA4O3tbdT2nOTjhXSJiIiIiIpH0S58J0+eROvWrdG6dWtkZ2cjNjYWrVu3xpQpU3Dz5k38/PPPuH37Nv7xj3+gVq1auv82btyoZNkOT3IKHwMUEREREVGRFB2BeuWVV5Cenm5yu7ltVHySU/gUqIOIiIiIyNE41HWgyDq4BoqIiIiIqHgYoJyQVFSSWhdFROTstFotvrtwAVG//IKF587xyyYiIhK7Cx/ZBkegiIjk2X/7Nkbs3w8A2JGSgqpeXogMCVG4KiIiUhJHoJwQAxQRkTwjDxzQ+3nQvn0KVUJERKJggHJCvJAuEZE8N7Oy9H5Of/ZMoUqIiEgUDFBOiCNQRETy8E2SiIgM8b3BCfFCukRE8ri48G2SiIj08Z3BCfFCukRE8qiULoCIiITDAOWEOIWPiEgeFxUjFBER6WOAckKS14GyexVEROJjgCIiIkMMUE6II1BERPK4MkAREZEBBignxABFRCQP4xMRERlyU7oAsj+pqJTPAEVEgnial4cVly7BRaXCO7Vqoayrq2K1cAofEREZYoByQhyBIiKRRe/Zg63XrgEADt6+jW9fe02xWlQMUEREZIBT+JwQAxQRiSpfo9GFJwDYmJSEPI1GsXq4BoqIiAwxQDkhyetA2b0KIiJjUueie9nZdq+jAOMTEREZYoByQhyBIiJRSZ2L7jx5okAlz3ENFBERGWKAckYSH1C0DFBEJACpAHUrK0uBSp5jgCIiIkMMUE5IaooMR6CISAQcgSIiItExQDkhTuEjIlFJnYnuKDkCpdgzExGRqPje4ISkpuuxiQQRiUByCh9HoIiISCAMUE6IU/iISFSSU/gUHIHidaCIiMgQA5QT4hQ+InIkXANFREQiYYByQpJT+BigiEgAUuei2wxQREQkEAYoJ8QpfEQkKqlzUdqzZ8jOy1OgGr5JEhGRMb43OCGpDyiMT0QkAlPnorsKjUJxBIqIiAwxQDkjTuEjIkGZOhcpNY2PAYqIiAwxQDkhTuEjIlGZDFAKdeJjgCIiIkMMUE6ITSSISFSmzkSKjUAp8qxERCQyvjc4IY5AEZGoTJ2LlGplzutAERGRIQYoJyR5HSgF6iAiMmQyQHEKHxERCYIByglxCh8RicrUuegWm0gQEZEgGKCcEKfwEZGj4QgUERGJggHKCUleB4oBiogEYOrLnHvZ2Xau5Dm+SRIRkSG+NzghySl8CtRBRGTIVIDK0ShzluIIFBERGWKAckKcwkdEojJ1JlLqHMUARUREhtzk7njq1CkcOnQIly9fxsOHD6FSqeDr64uaNWuiefPmaNiwoS3rJCtiEwkiEpWpc1G+QOcojVbLYEVE5MTMBqj79+9j8eLFiI+Px82bN6HVauHu7o7y5ctDq9UiPT0dubm5UKlUCAwMRJ8+ffDBBx/Az8/PXvVTMTBAEZGoTJ2LlDpHST1vnkaDMq6uClRDREQiMBmgvvzySyxatAienp7o1q0b2rRpg0aNGiEwMFBvv5s3b+LEiRPYs2cPli9fjvnz52PgwIGIiYmxefFUPJzCR0SiMncmUmLkR6qePK0WZexaBRERicRkgNq3bx/mz5+PLl26wMXF9FKpypUro3LlyujSpQtmzJiBn376CbNnz7ZJsWQdbCJBRKIy92WOEgHK1AgUERE5L5MBavfu3RY/mIuLC7p164Zu3bqVqCiyLakPBByBIiIRmIsm+Vqt/IW7VsLzJRERGWIXPick9QGF14EiIhGYOxcpEVw4AkVERIZkB6gLFy5gy5Yterf9/vvv6NmzJ1599VXMmzfP4ic/cOAAoqKiULt2bajVaqxevVpvu1arRWxsLF566SVUqlQJnTp1woULFyx+HtLHJhJEJCpzAUqJTnym1kAREZHzkh2gJkyYoBdwbty4gb59++L06dN48uQJxo0bhzVr1lj05FlZWQgNDUVcXBw8PDyMts+ePRvz5s3D1KlTsXv3blSsWBE9evTAo0ePLHoe0scpKUQkKnNjOxyBIiIiEcgOUGfOnEFYWJju53Xr1kGj0SAhIQGHDx9GREQElixZYtGTt2/fHuPHj0e3bt2MGlVotVosWLAAI0aMQLdu3RAaGooFCxbg8ePH2LBhg0XPQ/oku/DZvQoiImNFNZGwN6kRMZGuSUVERPYnO0ClpqbC19dX9/POnTvxyiuv6NqaR0RE4MqVK1YrLDk5GXfv3sWrr76qu83DwwNhYWE4cuSI1Z7HKXEEiogEJdwaKInb8jkCRUTk1GQHqIoVKyIlJQUAkJ6ejmPHjqFt27a67c+ePbNqYXfv3tU9r2Ed9+7ds+pzORteB4qIRFVUFz57kwp0XANFROTcZHeEbdu2LRYtWgRvb2/s378fANCxY0fd9osXL6Jy5cpWL1BlcM0PrVZrdFthiYmJVq+huESqpbCc3Fyj27KePBG2Xmsozb+bo+GxEIeIxyIlPd3ktit//YX0smXtWA3wJDvb6Laka9eg8vS02nOIeBycFY+FOHgsxOCsx6FGjRpmt8sOUOPHj8eVK1cwbtw4uLu7Y8KECQgODgYAPH36FJs2bcKbb75ZsmoL8ff3BwDcu3cPVapU0d3+4MEDo1Gpwor6he0lMTFRmFoMuUpMgSxbrpyw9ZaUyMfC2fBYiEPUY3H/9m3g1CnJbSF//zsCrRhc5Chz/jxg0LioclAQahSa0l4Soh4HZ8RjIQ4eCzHwOJgmO0BVrFgR27dvR2ZmJsqVK4cyZcrotmm1WmzZskUv6JRUSEgI/P39sWfPHjRq1AjA86B26NAhTJw40WrP44w4hY+IROUIXfi4BoqIyLlZfFF3b29vo9s8PDxQr149i5/88ePHSEpKAgBoNBrcuHEDZ86cQfny5REUFITBgwdj5syZqFGjBl588UXMmDEDnp6eeOONNyx+LvofyetAKVAHEZEhcyGJ14EiIiIRyG4iAQApKSkYNmwYGjRogKCgIN1aqIcPH+LTTz/FKRPTLkw5efIkWrdujdatWyM7OxuxsbFo3bo1pkyZAgAYPnw4hgwZgs8++wxt27bFnTt3sHHjRnh5eVn0PKSP14EiIlGZ68JnbputSI5A8XxJROTUZI9AXbp0CZGRkdBoNGjSpAlSUlKQn58PAPD19cUff/yBZ8+eYe7cubKf/JVXXkG6mQXDKpUKY8aMwZgxY2Q/JhWNU/iISFTmzkRKBBdeSJeIiAzJDlAxMTHw8vLCrl274OrqihdffFFve/v27bFp0yarF0jWJzmFjwGKiATgCBfSZYAiInJusqfwHTx4ENHR0fDz85NsIx4UFITbt29btTiyDQYoIhKVuWl6oqyB4hQ+IiLnJjtA5eXlwdNM+9i0tDS4urpapSiyLckpfHavgojImEN04WOAIiJyarIDVGhoKBISEiS3abVa/PTTT2jQoIHVCiPbkfqGV4nF2UREhkTrwsc1UEREZEh2gBo8eDA2b96MadOmITU1FcDz1uOXL1/GgAEDcPLkSQwdOtRmhZL1sAsfEYnK3Jc5ooxAMUARETk32U0kevXqhevXr2Py5MmIi4vT3QYArq6umDRpEl5//XXbVElWxS58RCQq0abwcQ0UEREZsuhCuiNGjMAbb7yBLVu2ICkpCRqNBn//+9/RtWtXhISE2KpGsjI2kSAiUYnWhY9roIiIyJBFAQoAqlSpgiFDhtiiFrITySl8CtRBRGSIa6CIiEh0FgcoAMjKykJaWprkSEZQUFCJiyLbkvoIwhEoIhKBuTORIiNQErfl8XxJROTUZAeonJwcTJs2DcuXL8fDhw9N7lfQYILExSYSRCQq0a4DBakpfByBIiJyarID1Oeff44VK1agQ4cOaNWqFdRqtS3rIhuS+gjCNuZEJALh1kBJ3MY1UEREzk12gNq0aRP69u2LuXPn2rIeh7c2MRFH795FWno6vO7cQVSNGmhZqZLSZemYCkr8PpWIRCDcFD6ugSIiIgOyA5RGo0GTJk1sWUupsP/2bay8dOn5D7dvo3HFikIFKFMfQDiFj4hE4BBNJHi+JCJyarIvpPvaa6/h8OHDtqylVHBRqfR+Fi2YmPreVLQ6icg5iTaFT+oZOQJFROTcZAeoadOm4dy5c5gyZQru3r1ry5ocmuELKlowMTmFT7A6icg5mTsTiTICxfMlEZFzMzmFr1KlSlAZjKbk5+fjzz//xIwZM+Du7g4XF/24oFKpcOvWLdtU6iCMRqAUqsMUTuEjIpGJNgLFNVBERGTIZIDq0aOHUYCiohkGKNHa3ZqcwmfXKoiIpHENFBERic5kgFqwYIE96yg1DEOnaMGEU/iISGSideHjGigiIjIkew0UyeMqehMJE/XwOlBEJAJz5yJFAhTXQBERkQHZAerrr79GRESEye2RkZGYM2eOVYpyZKJ34TNVjWh1EpFz4hooIiISnewAtX79ejRt2tTk9mbNmuH777+3SlGOzDBAiTaywyYSRCQyroEiIiLRyQ5Q165dQ40aNUxur169OpKTk61SlCNz2Dbmdq6DiEgK10AREZHoZAeosmXL4vbt2ya337p1y6ituTMSvY05p/ARkcgcYQSK50siIucmO/E0a9YMK1euRFpamtG2tLQ0rF69Gs2bN7dqcY5I+DbmnMJHRALjGigiIhKdyTbmhkaPHo0OHTqgVatWGDx4MEJDQ6FSqXD+/HksXLgQDx48wHfffWfDUh2D6CNQDFBEJDLRpvBJncO5BoqIyLnJDlANGzbE2rVrMXz4cIwfP153vSOtVouqVati7dq1aNKkic0KdRSO2oVPi+fHkhdPJiIliTYCJbVuVImphEREJA7ZAQoA2rRpg5MnT+L06dO4evUqtFotqlWrhvr16/OD9/8RPUCZq0cLgEeRiJQk0hoorVbLJhJERGTEogAFACqVCg0aNECDBg1sUY/DM1xU5ihtzAu2GQZAIiJ7EmkKn6ln4wgUEZFzszhAXbp0CdeuXUNaWppkOOjTp49VCnNUoq+BEunDCRGRIXNfOtk7uJg6J3IEiojIuckOUMnJyfjXv/6Fo0ePmnyDU6lUDFAO2oWvqG1ERPYg0jmKI1BERCRFdoD6+OOPcebMGUyePBmtWrWCWq22ZV0Oy6FHoOxWBRGRNHPnKI5AERGRCGQHqEOHDmHYsGEYPHiwLetxeKI3kTA7PYYfCohIYWYb3QgSoDgCRUTk3GRfSNfHxwe+vr62rKVUED1AmZ0eY8c6iIikiNSFjyNQREQkRXaA6tu3LzZt2mTLWkoF0QOUuWpE6xhIRM7HXDThGigiIhKB7Cl8r7/+Ovbs2YMuXbrgvffeQ5UqVeDq6mq0X+PGja1aoKMxTKSiBSiRFmgTERliFz6S41FODrLy8lDphReULoWInJDsANWxY0fd/x84cMBou1arhUqlQmpqqnUqc1CGI1CiRRIGKCISmUgjUFwDJaaDt2+j786dSH/2DANq18ZX4eFKl0RETkZ2gJo3b54t6yg1RG9jzutAEZHIRFoDZWo0jCNQyvr84EGkP3sGAPj2wgX8q04d1CpfXuGqiMiZyA5Qffv2tWUdpYbobczZRIKIhCZQFz6ugRLTOYOZLr/duMEARUR2JbuJBMnjKngTCU7hIyKRmfsih2ugSAoDLRHZm9kRqNmzZ1v0YCqVCsOGDStRQY5OJXiA4hQ+IhKZSF/ycA2UY+B7FxHZm9kANWHCBIsejAFK/DbmIn04ISIyJFQXPhO3cwRKLAy0RGRvZgPU6dOn7VVHqSF6G3OOQBGRyETqwmcqzPEDu1hEa9ZERKWf2QAVHBxsrzpKDdHbmJv7dle0WonI+YjUhY9roBwDAy0R2ZvQTSTy8/MxadIkvPzyy/D398fLL7+MSZMmIS8vT+nSTDJqYy7YiZ1T+IhIZOa+5LH7GigTt4t2Xnd2xTke+RoNgzARFZvJADVw4EBcunTJ4ge8cOECBg4cWKKiCsyaNQtLlizB1KlTcfToUcTFxWHx4sX46quvrPL4tiB6Fz5O4SMikYk0hY8jUI7B0r+LTUlJCFq+HCHLl2PjX3/ZqCoiKs1MBqjHjx+jVatW6Ny5M7777jtcvXrV5IMkJSVh6dKl6NixI8LDw/HkyROrFHf06FFERkaiQ4cOCAkJQceOHdGhQwccP37cKo9vC2wiQURUfCKdo7gGyjFYejw+P3gQT/LykJWXhw/37bP79cWIyPGZXAO1Zs0aHD9+HN988w1GjRqF3NxceHt7Izg4GGq1GlqtFunp6UhJScGjR4/g5uaGDh064Ndff0Xjxo2tUlyLFi2wdOlSXL58GTVr1sTFixeRkJCAjz/+2CqPbwuitzEX6cMJEZEhkbrwmXq2PJ4rhWLJ34VGq8W97Gzdz9n5+XiSlwdPd3dblEZEpZTZJhKNGzfG8uXLkZaWhh07duDIkSO4fPky7t27BwCoUKECevbsiebNm6N9+/aoUKGCVYsbMWIEHj9+jObNm8PV1RV5eXkYOXIkoqOjTd4nMTHRqjVY6u79+3o/P3r8WPGaCruenm5y27XkZLg9fGjHauxHpGPg7HgsxCHisUgzc45Kz8iwa80pJmZT5OblWbUOEY+DI3mYmir7NcyRmH557vJlVChTBgCPhUh4LMTgrMehRo0aZrebDVAFypcvjz59+qBPnz5WKUqujRs34vvvv8eSJUvw0ksv4ezZsxg9ejSCg4PRr18/yfsU9Qvb2mV3d+D8ed3PHp6eitdU2L3bt4FTpyS3VQkORg1fXztXZHuJiYlCHQNnxmMhDlGPhffdu8CtW5LbPL287Ftzejpw9KjRzRpY771G1OMgtL179X708vGR/Ro+zs0Ffv9d7zb/oCBU9fbmsRAIj4UYeBxMkxWglDJ+/Hh89NFH6NWrFwCgTp06uH79Or7++muTAUppRmugBFtszCl8RCQykc5Rpp6Na6DEYsnfhVQDkCyBO/sSkZiEbmP+5MkTuLq66t3m6uoqXCgpzChAKVSHKebeZriQloiUJlKnUJNd+HiuFIolgTZXKkDl5lqzHCJyAkKPQEVGRmLWrFkICQnBSy+9hDNnzmDevHmIiopSujSThG9jbu7bXTvWQUQkxewIlB3rAEzXotFqodVqjZoGkTJKGqCecASKiCwkdICaNm0aJk+ejE8//RQPHjyAv78/3n33XXz++edKl2aS6G3MRfp2l4jIkLnzUL6dZx+YrUWrhRsDlBAs+buQClCPOQJFRBYSOkB5eXkhLi4OcXFxSpcim+gBSqT1BUREhsx+yWO3Kp4zV0ueRgM3F6FnwTsNS0agJNdAMUARkYV49rcyw+8jRQslDFBEJDJHGYHiOihxcAofEdkbA5SVOXITCQYoIlKaSGugzK0ZlRrJIGVY8t7FKXxEZA0WTeHbu3cvli9fjmvXriEtLc3ozUWlUuGUiWsMOQuHbmNuxzqIiCxl7/OpuWfjF07i4BQ+IrI32QFqwYIF+OKLL/D//t//Q5MmTVC7dm1b1uWwRB+B4hQ+IhKZSF/ycATKMXAKHxHZm+wANW/ePLRq1Qo//PADypQpY8uaHJrwbczNbROsViJyPlwDReZIvU9ZEmZ5HSgisgbZa6AePnyInj17MjwVgV34iIiKT6QufOaejyNQypD6+7AkWEsdN66BIiJLyQ5QDRo0QEpKii1rKRUYoIiIis9RRqB4vlSG1HS9nBKOQHEKHxFZSnaAmjx5MtasWYPff//dlvU4PMMXVLTvKEX6dpeInNOJ+/fRfP161F2zBpuvXtXbxjVQZI7U34dUKDKFU/iIyBpkr4GKjY2Ft7c3unfvjurVqyMoKAiurq56+6hUKqxbt87qRToSlcEIlL2/MS2KuQ8E/EaViOzh34cP41J6OgDg44QEdAoJ0V2U1myAEqgLH9dAKUNqBKrEAYojUERkIdkB6uLFi1CpVKhSpQqePXuGK1euGO1jGB6ckehd+BigiEhpB+/c0f1/6rNnuJiWhrq+vgDEGiU320RCsC/HnEVJR6DYxpyIrEF2gDp79qwt6yg1DLvwidbZjtc1ISKRmV0DZedzlLnzt71roeck10Dl58u+v9TIIUegiMhSstdAkTxsIkFEVHwijZKbezYGKGVI/X1wDRQR2ZvsEagC+/btw6+//qrryBccHIz27dujTZs2Vi/OEYkeoESaHkNEBOifl0QKLZzCJ56SroGSOm7swkdElpIdoHJycvD+++9j27Zt0Gq18PHxgVarRWZmJhYsWIBOnTrh22+/hbu7uy3rFZ5RFz7BApS5ekSbbkhEzkekUXIGKPFIHZOStjHPys0V7r2aiMQmewrftGnTsHXrVgwaNAgXL17EtWvXkJycjEuXLmHw4MHYunUrpk+fbstaHYLoTSREWl9ARGRIpHOUSLXQc1KvuyVhVipAaQFkcxSKiCwgO0CtX78evXv3xpQpU+Dv76+73c/PD5MnT0bv3r2xdu1amxTpSAwDlHBtzM1s4zdwRKQEuVP47D1KLtJ0QnpOcgTKkiYSJt6TuQ6KiCwhO0DduXMHLVq0MLm9efPmuFOoNa2zMmzlLlZ8Emt6DBGRIZFGfTiFTzy2GIECuA6KiCwjO0D5+/vj+PHjJrefOHECfn5+VinKkYnexlykDldE5HykzkGFbxPpSx4GKPHYYg0UADzmCBQRWUB2gOrZsyfi4+MRGxuLzMxM3e2ZmZmIi4tDfHw83njjDZsU6UjYhY+IyDSpEYTC50mRps2JNBpGz5X0Qrqm9uW1oIjIErK78I0ePRrnzp3DtGnTMGPGDN06qLt370Kj0aBdu3YYPXq0zQp1FKIHKJG+3SUi5yN1nskXdATK3LNJXZCVbM/U349GqzV6/5ViauTwSW4uKpS4OiJyFrIDVLly5bBhwwbs2LFD7zpQkZGRiIiIQEREhM2KdCRGbcwVqcI0c1P4RJtuSESlT5EjUAKN+pithVP4FGHqbyBXo0FZV9ci788pfERkDRZfSDcyMhKRkZG2qKVUEH4Eytw2wWolotJH6gOw3giUmfva+0ses2ugeL5UhKljkpOfX6IAxSl8RGQJ2WugSB6jNuaCvcmKND2GiJxPUVP4RBqBMhfmOAKlDFN/A3KbepibwkdEJJfJEajOnTvDxcUFGzduhJubG7p06VLkg6lUKmzZssWqBToa0UegzHbhs2MdROScJANUoQ+1Io2SmztfcgRKGSZHoGQGKLMjUO7uxa6LiJyLyQCl1WqhKfymptEYXeNI6j7OzjBAifaaiPThhIicT1FroETqfMcRKPGYWwMlh9k1UB4exa6LiJyLyQC1bds2sz+TNNFHoDiFj4iUVJIpfEJdB4rnyxLLyc9H3IkT+OPuXfR+8UW8U6tWsb+olRugTE7h4xooIrKA7DVQBw4cwIMHD0xuf/jwIQ4cOGCVohyZ6AFKpA8nROR8StJEQqjrQHEEqsTiExPx1alTSLh9G8MSEnA+NbXI+9hqBCqLa6CIyAKyA1SXLl2wZ88ek9v37dsna51UaSd8G3Mz2xigiMjWpIKH3OtA2XtKNK8DvOJcgAAAIABJREFUZVvDExL0fp5w9GiR9zHXhU8OtjEnImuQHaCKeuPKycmBiwub+hl14RPsW0qzH07sWAcROSepM2Lh86RQXfg4AmVXqc+eFbmPqWNS4i58nMJHRBYwex2ozMxMZGRk6H5OTU3F9evXjfZLT0/HDz/8gICAAOtX6GCMpvApVIcpnMJHREqSCh4amVP4ROrCJ9olKpyFqde9xF34OAJFRBYwG6Dmz5+PadOmAXjeonzMmDEYM2aM5L5arRbjxo2zfoUOxlXwNVAifTghIufjUNeBMtdEgiNQVidniqbN2pgzQBGRBcwGqH/84x8oV64ctFotJk6ciJ49e6JevXp6+6hUKrzwwgto2LAhmjRpYtNiHYFUByGtVltkZyF74QgUESmpqCYSIp2jzD1bLs+XirDVFL4sTuEjIguYDVAtWrRAixYtAADPnj1D165dERoaapfCHJmLSmV0XRPDkSmlsI05ESmpqBEoR+nCp+EIlNXJObq2aiLBESgisoTZAFXY6NGjbVlHqeIC/Q8BGgCuCtViyOwUPrtVQUTOqsg25kWEJHuO6JurRW7bbJJPToCyWRtzjkARkQVkB6gCR48exalTp5CRkWH0DZxKpcLnn39uteIclYtKBVjwgcCeRJoeQ0TORzJAyezCV3B/NwECFNuYK8PUMSnxhXQ5AkVEFpAdoDIyMhAVFYUjR47ovgEseKMr+H8GqOeMWpkL9EbLJhJEpCSp84zcLnym7m8rZtdAcQRKESUdgTIVfLNlTgEkIgIsuA7UhAkTcPLkSSxcuBAnT56EVqvFxo0bcfz4cfTr1w8vv/wyLl++bMtaHYZRK3OBgolIF6kkIudT5BooGSNQ9sLrQNmXkl34NFot3wOJSDbZAWrHjh3o168f3nzzTXh7ez+/s4sLqlWrhlmzZiEgIABjx461WaGOROhW5uam8NmxDCJyTiVdA2XP8ymn8InHVICW24XP3EiVSLNFiEhssgNUamoq6tatCwBwd3cHAGRlZem2v/7669i1a5eVy3NMhgucRQpQnMJHREoq8jpQRdzfnh9yOYXPvuQcWVOjRHK78JkLWjyiRCSX7ADl5+eHe/fuAQC8vLzg5eWFxMRE3fa0tDTkcw4xAOMpfCJNC2AbcyJSUkmbSNh1DRQvpCscW3XhM/fYRESGZDeRaNKkCQ4cOICRI0cCANq1a4c5c+agUqVK0Gg0mD9/Ppo1a2azQh2JYSoV6W2WXfiISElSH1INr5tnjihT+PhhWxkl7cLHAEVE1iB7BGrgwIGoUaMGnj59CgD4z3/+gwoVKmDQoEEYMmQIKlSogLi4OJsV6kiMuvAJ9E0lp/ARkZJKOoXPrgHKzDZO4bM+ObM1StyFz9wUPr4HEpFMskegWrZsiZYtW+p+rly5Mo4cOYJz587B1dUVNWvWhJubxZeVKtKdO3cwYcIE7Ny5E48fP0bVqlUxc+ZMhIeHW/25rMWoC59CdUgxOwJlxzqIyDmVli58nMKnDFt14QM4AkVE8skegYqPj0dycrLebSqVCvXq1UNoaChu3bqF+Ph4qxaXnp6OiIgIaLVarFu3DkeOHMG0adNQsWJFqz6PtTlqG3OR6iSi0klqRN5cgFKyq6m5L5xEmllQWsg5siXpwqfVahmgiMgqZAeoDz/8EEePHjW5/dixY/jwww+tUlSBb775BpUqVcJ///tfNG7cGFWrVkWbNm1Qq1Ytqz6PtYncxtzcW4xIzS6IqHQqqo254VY3FxeT+9oap/CJx+QIlIwmVkX97fCIEpFcsgNUUR+us7Oz4erqWuKCCtu2bRsaN26M9957Dy+++CLCw8OxaNEi4T/oi9zGnE0kiEhJUucZTaEwYrjdTcHzKa8DJZ6SNJEoah+OQBGRXGYXLV2/fh0pKSm6ny9fvowDBw4Y7Zeeno5ly5YhJCTEqsVdu3YNS5cuxZAhQzBixAicPXsWo0aNAvC8qYWUwq3VlaLJy9P7OenqVTzz8FCoGn1p6elmt4nw+tlCaf29HBGPhTiUOBY3Hjwwuu1+aqquljyDkQSVwYfav+x4Pn3w8KHJbY+ysqz2+vHfxHPPnj0r8rW4c/eu5O0P0tKKvO9jg/dmQ/laLY+FQHgsxOCsx6FGjRpmt5sNUKtXr8bUqVOhUqmgUqkwc+ZMzJw502g/rVYLFxcXzJ49u2TVGtBoNGjYsCFiYmIAAPXr10dSUhKWLFliMkAV9QvbQ5njx4H/61YIACFVq+Lv3t4KVvQ/3vfuATdvSm7z8vER4vWztsTExFL5ezkiHgtxKHUsLri5AefO6d3mo1bralEdPKi3rYybG1AoVIWEhKCaj4/tCwVQPiMDMFj7W8C9bFmrvH5O/W9i7169H8uUKVPka+GbkwNIfKB7wcuryPumPn0K7N9vcnu+Vuu8x0IwTv3vQiA8DqaZDVDdunVDzZo1odVqER0djejoaL1OfMDz6WovvPAC6tevj0qVKlm1OH9/f6P1TjVr1sSNGzes+jzWJnIbc07hIyIlSZ2D9NZAGWx3V3ANlNkL6fJ8qYiSrIEqagof3wOJSC6zAap27dqoXbs2gOdD62FhYahatao96gIAtGjRAleuXNG77cqVKwgKCrJbDcUhchtzduEjIiUV1UTCaA2UQYASZQ0Um0gow2QXPhl/F1wDRUTWIruJRN++fe0angBgyJAh+OOPPzBjxgwkJSVh06ZNWLRoEaKjo+1ah6UctQsf3zyIyNYkA5SZJhKG51NRrgMl0swCZ1KSEaiiWp3zPZCI5DI5AlWw9mnkyJFwcXHB1KlTi3wwlUqFzz//3GrFNWrUCKtXr8bEiRMxffp0VKlSBWPHjhU+QIl8HShO4SMiJUl24bOgjbldrwNlZhun8FmfnFe0JBfSLXIKn4znJyICzASouLg4qFQqjBgxAmXKlEFcXFyRD2btAAUAERERiIiIsOpj2prIbczN1SJ6e3gicnyWTuFTcg0Up/DZl5z3IFPHRM6FdLkGioisxWSASktLM/szmWY4L1Kkt1lzbw8i1UlEpZOlAcrVIEDZ84ses9eBYoBShKkAbY0mEhxVJCK5ZK+BIvlEnsLHJhJEpCSp80y+uSl8Sq6BMrON62WUUZIRqKL24XsgEclltguflEePHiEhIQHXr18HAAQFBSE8PBzeglznSAQMUERE0iQDlJkmEoqugeIUPruSc2RNjkBxCh8R2ZFFAerrr7/GjBkzkJ2drffG4uHhgU8//RSffvqp1Qt0RCIHKLNT+ASqk4hKJ6kPwGabSAjahY9T+JRh6lWXE2g5hY+IrEV2gJo9ezYmTpyI8PBwREdH48UXX4RWq8Vff/2FJUuWYPLkyXBzc8Pw4cNtWa9DELmNObvwEZGSpNp/F4QiqfOTkudTs134GKBKpKhujCbvZ+J1lxOgipzCV+QjEBE9JztALV68GG3btsXGjRv1bq9bty66du2KHj16YPHixQxQEHsEytwbBN88iMjWpM4zBQHK8FzpolLBRdAufAxQJSN1HOWMANlyBIrr2ohILtlNJFJTU9GxY0fJbSqVCp07d0ZqaqrVCnNkRl34BDopcwSKiJRkbgTKcIsKyp5PzZ0vOd2rZKT+DuSEUlMXMLZGFz4GKCKSS3aAql+/Pi5evGhy+4ULF9CgQQOrFOXojK4DpVAdUngdKCJSkrkufIbnIBeVyqiN+f9n783j7KjK9PHnLt19e0s6+x4SQhDDIgZRFgFhUAfBHQcUPuP3K/p1Bn/jOI7LqOM4M+IXZUYdRx1+IoOCSgCHKEhYRJaQBBJCQgLZOwlNkk7SSbrT+3KXqu8f3XWpeus9p07dW1W3bvd5/knu0vfWrTp1znnf53mfN8oASjZ35wxDz5llgAtAlSR8Pj7P73t0ElFDQ0MVyhK+f/u3f8NHP/pRLFiwADfddBOampoAAP39/bjzzjuxatUqPPjgg6EdaDWBSvhEGbNKQCrh04uHhoZGyGBrX8bmSFbCp/D3YcHruwzTdNVoaaiBlfCFzEB5fb5moDQ0NFShHEDddNNNSCQS+Jd/+Rd8+9vfxsyZM5FIJNDR0QHDMDBr1ix86lOfcvxNIpHA+vXrAz/ouIMGUHGakrWET0NDo5KQNdLlJHyUgYpLDRQwymikIjqW8QZWwlfhGii9BmpoaKhCOYCaPn06ZsyYgdNOO83x/OLFiwM/qGpHrE0kZAFUhMehoaExMSENoGLGQHl9U84wUJfSIVQpCJqBCsREwvMTNDQ0NEahHECtWrUqzOMYV4izjbmW8GloaFQSfmug4urCB2gnvnLg1Q9MBNE7grAx1xI+DQ0NVSibSGioI84MlJbwaWhoVBJ+JHxJuBepOAVQesNdOrhgplwGysvUQ0v4NDQ0goKQgTp48CAAYMGCBY7HXrDeP5Ghbcw1NDQ0eMhMJFzzE+PCF6XzXbkbcg0xgu4DZf19jcTUw+t6aWt6DQ0NVQgDqHPOOQeJRAJHjx5FbW1t8bEXdC+oeNuYy5YHbcmroaERNmQMFCvhU/j7sOD1TVrCVzq4QLocBgoYdeKrSYqFNV6fr5OIGhoaqhAGUD/5yU+QSCRQU1PjeKzhjVjbmGsTCQ0NjQpCVgPFSfgq2gdK10CFBu7cmRg953QNtcOrN5cMWsKnoaERFIQB1A033CB9rCGGqwaqQsfBQRpA6cVDQ0MjZPhx4UtUmIHSAVR4EF3HglcAJbkm5QZQWsKnoaGhCm0iEQKoC1+cpHGyI9EBlIYdI4UChvP5Sh+GxjiDbwlfBU15vMIjveEuHaIAqhyZnVczXc/Plr6qoaGh8QaUA6ivfe1rWL58ufD18847D9/85jcDOahqR5xd+DQDpaGCx15/Haf96ldYcPfduGvHjkofjsY4gl8Jn0sSrU0kxgVEwUw5AZSW8GloaEQF5QDqj3/8Iz7ykY8IX//whz+Mxx9/PJCDqnZUbQAV4XFoxBt/89xz6MvlkDMMfHHdOox4ZHY1NFQhc+HjJHyV7KvnaWOuA6iSITq3XgGy7HW/AVRtBXuMaWhoVDeUA6j29nYsXLhQ+PrChQvR3t4eyEFVO1w25hU5Ch5awqehghPDw47HRwcHK3QkGuMNXNChJXwTD2FI+DxrnMjrmbSzDFwHUBoaGqpQDqCam5vR1tYmfP21115DJpMJ4piqHi4b8xhNyrJj0dlUDYCXLcmsgTU0/ICbZaQufDFmoLSEr3SIAqVyGKisTwYqk0r5+m4NDQ0NC8q7oksvvRR33XUXG0S1tbXhF7/4BS699NIgj61qUUnNvhdkmn6dTdUAgGFGrhenJIBGdUPGQLnGGcNARTqfahe+0BAGA+U34K0jAZSe5zQ0NFQhtDGn+PrXv44nn3wSF198MT7xiU9g2bJlSCQS2L59O1asWIFUKoVvfOMbYR5r1SDONVCyI9GbAQ0AGGKc9/TY0AgKvlz4UNn51GvUxyk5Vm0QmkiUwUB5zVM0gKqnEj7pX2toaGi8AeUAasmSJXjiiSfwpS99CXfeeafjtYsvvhi33XYbli5dGvgBViPibGNejn5cY2JgUAdQGiGCNZGwAijyPFcDFac+UHrOLB1CEwmPcypbT/3WQFEGSgfEGhoaqlAOoADgzW9+M1atWoXOzk60tbXBNE2ceuqpmDp1aljHV5XQDJRGNYNloGI0hjWqG6yNucCFLxkzF76aZNKxSddzZukQSvgiZKBoDVSc1moNDY14w1cAZWHatGmYNm1a0McybuBy4YvRpCw7Fr1J1gCAIaYGSmfaNYKCTMLnsjFHZRNS9JtqSQCl74vSITSRKKMGyotB0iYSGhoaQcGXtdaBAwfw+c9/Hueeey4WLFiAtWvXAgA6Ozvx93//99iyZUsoB1ltcC34FToODlrCp+EFjoHSDo0aQUFaA0Wejx0DRTfc+r4oGZVgoLSNuYaGRlBQZqB2796NP//zP4dhGHjb296GAwcOoDCWqZ42bRo2btyIkZER/OQnPwntYKsFLs1+jBZZ2fIQp+PUqBy0hE8jTLASPgEDFbcaKNp4Vd8XpUN0HcthoLyuR1gSvp9v344fbd2KRZMm4fZ3vQsLmppK+hwNDY3qgTID9a1vfQvNzc3YuHEj7rjjDlch53ve8x6sX78+8AOsRrj6QFXoODhoBkrDC5yJhB4bGkGB2zgbEglfnBgoGkDp+6J0iAKlchgor+vhKeGT/jWPIwMD+OoLL+DQwADWHjmCH2oljobGhIByAPX888/j05/+NGbOnOkKEABgwYIFOHLkSKAHV62Is4mENHunNwMaAIa1C59GiGAlfGPji5Pw0fUmSgaKfhOV8On7onSU2gdK5sLnxV6F4cL3y127HOvqXTt3+v4MDQ2N6oNyAJXP59HY2Ch8/eTJk0iRyWiiopIZUy9IXfhMM1aW6xqVAcdA6doAjaDAzTFCEwmuBiq8Q3OBHmsdYaD0fVE6hBK+cmqgfEr4aB+oUtZqbr7U0NAY/1AOoJYtW4Y1a9awr5mmiT/84Q8499xzAzuwagZloOIUlHgdi9b0a3A1UFqqpBEUynbhi3As0uNJawlfYBCtNV4MVDkqCvqdQTBQWca1VENDY/xDOYD667/+azz00EO47bbb0NXVBWB0IduzZw8+9alP4eWXX8bf/M3fhHag1YRqtTEHtCRFQ2AioceFRkAo24UvrANjQL+rVkv4AoNIblcWA+XXhU8HUBoxQsEwsLq9Ha92dlb6UDQUoOzC99GPfhQHDx7Ed77zHXz3u98tPgcAqVQKt9xyC9797neHc5RVhjjbmHstDznDQH0kR6IRV2gTCY0wIUriGIyEmHXhi3Asekn4dABVOkTjIEwGis5jlIEqJdk5oseARkD45FNP4ZG2NiQA/OiSS/CXZ5xR6UPSkMBXI90vfOELuPbaa/Hwww9j//79MAwDixcvxgc+8AGccsopYR1j1SHONuZeC0ScjlWjMhhmMqp6XGgEBVnti5ILX1gHxsCrD5SWPJcOoYQvwhqoIPpA5TQDpREA9vX04JG2NgCjie7Pr1mjA6iYQymAGhoawl/8xV/guuuuw4033oibb7457OOqasTZxlyFgdKY2OAYKL1R1AgKohqmgmGoufBFWQNFHrv6QOn5smQIJXxluPCVLeGT/jUPzUBpBIE93d2VPgQNn1Cqgaqvr8fWrVuLjXM15KhWG3NAb5Q1tImERrjww0BVvAbKg4HS90XpCMOFz+tvQ5Hw6X2RRgCg+0aN+EPZROKd73wnnn/++TCPZdwgzjbmXseiNwQa2kRCI0yIRpJIwhenGijKQGkb89JRah+ocprBhyHh0yYSGkFAh0/VB+UA6nvf+x42b96Mb37zm2hra4vUSrbaQE9qrGzMyWN60+paFw3dB0ojTIjmGEORgYpyJNIjpYyFTiyUDtE4KKsGqhIufHoMaAQAKlXWiD+UTSTOP/98mKaJn/70p/jpT3+KZDKJmpoax3sSiQQOHz4c+EFWG+Lswkc3KLWplEOCoBkojWEt4dMIETLplivBEzMXPt0HKjiE0gfKr4mEtjHXiAmU2QyN2EA5gPrwhz+sI2RFxNmFj5Ok6ABKww4t4dMIE6INcMEwYl8DpU0kgoMoWPF0ipXVQFXCxlwHUBoBQO+vqw/KAdTtt98e5nGMK8SZgaLLQw3dEGip1oTHIGdjrseFRkAQBlBxrIEij2kjXX1flI5Sa6BKdeEzTdP1nbQGqpSRxTFQpmnqDbFG2dDjKN7wZA1HRkbwu9/9Dj/84Q9xzz334OjRo1EcF4vvf//7aGlpwZe//OWKHYMKqsmFT2v6NSi0C59GmPDjvsY10o0TA6Xvi9IRRg2U7HrQ19IMu1lKAnFIJ5w0AgC399LzS7whZaA6Ojrwvve9D6+99lox69PQ0IAHHngAF198cSQHaGHjxo24++67ceaZZ0b6vaWgmgIoFwOlb9gJD7YPlB4XGgHBDwPFBVCR9oFiakbt0PdF6QjDhU8WANHNaE0yiXQAa/VALsd+F62X09CQgRu7WcNwzTka8YH0Dr/lllvQ1taGm2++Gffffz9uvfVWZDIZfOUrX4nq+AAAPT09+MxnPoMf//jHaGlpifS7S0GcAygvSYrOeGhwJhJa2qkRFGS1L5yEr6IufDrhFBpC6QPlg4GqSSaRJNczyABKQ8MPWAZK19fFGlIG6umnn8bHP/5x3HLLLcXnZs6ciU9/+tNob2/HvHnzQj9AAPjCF76AD37wg7jssstw2223RfKd5YBGpXEKoLwkKVp6oKFNJDTChHDjbBiu4IhloCKco1wJJ10zGhhEc4oXw1gqA0W/L80wUH6vZ8EwWAmfni81/EJL+KoPnhK+d7zjHY7nLrjgApimiUOHDkUSQN19993Yv38/fvaznym9v7W1NeQj8saJEyccj092d8fiuAAgTyZ7g2TP2g4eROvgYJSHFAnicv7jDtM0WQnf8c7OwM6hvhbxQSWuRTabZZ/f39aGw8PDjueGBgdxrKPD8VxPb29kx02PtffkScfj7oCOZSLeE13kXFroOHFCej5kWfkuyVp7fGTE8Thhmjh04IDjOcM0fV2LAWauBIDde/diel2d8ueUiuFCAd25HGbW1bkSDeMBE+m+OETmOQDYvW8fejKZChyNExPpOtixdOlS6evSAKpQKCBDLp71eJgsdGGgtbUV//qv/4rHHnsMtbW1Sn/j9YOjwOxcDrANuOZJk2JxXACQeOEFx+NJDQ1Af3/x8cw5c7D0lFOiPqxQ0draGpvzH3cM5/MwV692Pd80eXIg51Bfi/igUtciuXEjQDazADB/4UIYfX3Aq68Wn2tqbMS8OXOAHTuKzzU0NUV23ClyrHNmzgT27Ss+rmtoKPtYJuo90XzsGNDe7np+8pQp0vORWLdO+Fq9ZGzU9fUBtvWvvqYGpy5aBGzcWHzOgL89xNHBQWDtWtfzCxYtwvymJuXPKQX7enrwiUcfxcH+flw2dy4evOqqcVV3NdHuixdNE9i50/Hc/FNOweJJkyp0RKOYaNfBDzxtzNva2rBp06bi497eXgCjJ7WJmSDOO++8wA7uxRdfRGdnJy688MLic4VCAc8//zzuuusuHD58GHURZHn8Is425i5Nvy6K1rBhWJDd1eNCIyiU20g3Skk0HfVa8hwcRHNKOS58stdYCV+Z13OQqX/ivisM/GDLFhwcS36uPnwYj7S14UOnnhr692qEA066qps0xxueAdStt96KW2+91fU8NZKw/Oq7uroCO7irr74ab33rWx3Pfe5zn8OSJUvwxS9+UZmVihpVZSKhi6I1bODke4DeKGoEB1kApeTCF2UNlHbhCw2yWjgZpDVQfk0kyhxb/YL5Morald/s2eN4/PMdO3QAVcXQNVDVB2kA9dOf/jSq42DR0tLict1raGjAlClTsGzZsgodlTdiHUB5mEjoouiJDc5AAtATuUZwEM2Hqi58kTJQHgGUvi9KRxgufH4DKDq2/AZQnAMf911RQAfz1Q1uzOj5Jd6QBlCf+MQnojqOcYU4B1BeEj59w05siBgovThrBAUZ80BHGdtIN04SPn1flAyhhC9KF74ybcxFEr5KrKN67a5uiPpAacQXnhK+uGHVqlWVPgRPxNnGnB5JHQmg9IZgYkPEQGkJn0ZQMET21aYJMBK+ODFQrj5Q+r4oGaLrWE4NVNQMlEjCV4mEk66XqW5wY0Zf03hj/Fi2xAg0YxqnJdZrQ6CzWBMbWsKnETZEI4mtgYJ7Po1TDZS+L0pHKX2gTMZoROUzAS3h04g3uOunr2m8oQOoEFDJBd8LXo109YZgYkMUQOmJXCMoiDbIBdN0BVeJSjNQ5LE23QkOonVRxkB5XXvZ39K1LZ1MIkUlfNJPd0MkedYSPg2/4K6flvDFGzqACgFxroHykvDpDcHEhjCAitEY1ggPg/k8/m7NGlz4P/+D727aFMrcJdo4G6bpYnySiQQSFUxIeUr49HxZMkpx4fM627K/pd8XJgNVEQmfHotVDbYGSkv4Yo2qq4GqBsS5BkpvCDRkGNR9oCY0HmhtxS927QIA7Dx5EpfMnYuL58wJ9DtE8yFrIoHKuvB52pjHaG6vNoiCnagYqJoA+kD1awmfRkDg7gfNKsYbmoEKAckynX3ChKsPVEw3BGuPHMEd27fjyMBApQ9lQkFL+CY2Nh8/7ni89cSJwL/DTx+oSjfS9Zwv9X1RMkphoLwCHNmGk5XwlTm24iTh0wxUdUPbmFcfNAMVAqqZgYrDDftIWxtufPJJAMD3Nm/G1uuvR1NNTYWPamJAB1ATG73ZrONx0NddZgJQYCR8sesDpRn7wBBKDZTketDXOAmfgdExSmWjIsRJwheHtVujdGgb8+qDZqBCgCtjWqHjoKCbE8AdQMXBxvyzzzxT/H/n8DB+sXNnBY9mYkEHUBMbfWRDGPSmTLYB5kwkuD5QlayB0o3Hg0MpfaA8m+z6dOHjGE4/40u78GkEBe765XQNVKyhA6gQ4AqgYjKx0WUhgXgyUANkE09lRRrhQZtITGz0EQYq6AyobHMqkvDFiYGijcf1prV0yKScdpg2ZpJLAtrh14UPcDOcvgKoOEn49Ga7qsH2gdLzS6yhA6gQEFcGituc0CJavVGe2BBp+vVGUYxjg4P42zVrcNPTT2P3yZOVPpyyELaET7Y5NQzD7cIHVNSFz1UDFcOEU7VCZiZi4VB/P674/e8x/5e/xL+8+KLntfcr4QPcAZSfMR8rBkqv3VUNloHS80usoWugQkBcbcy5JpVxZKA0KgfdSNc//n7dOvyhrQ3AKFu6+S/+QrmGIm6gEr6oGSj6ajJmDBQNoOLU46/aINrw25//v5s24eUxI5Mfbt2KKxcskH+mHxOJsXGVTiYBG3sTBAMVRcIplUjo8TeOoE0kqg+agQoBlVzwZeA2Jy4GSt+wExrDAhmIXqjFsIInAHittxf7enoqdzBlgkpiNXFkAAAgAElEQVT4Iq+BipkLn5bwhQehjfnY86Zp4t49exyvrTtyRPqZpUj4yhlflWSguBSN3nBXL7g1dl9PD/75xRfx8+3bY1GfruGEZqBCQLUwUIlEoir6QHnp3jWCQ9S2vI+//jr+a9s2nDZ5Mv757W/HpNraUL4nLHDnZahKaxEM03QxUEHPB14BFCfhq2gfKPJYS/iCg5cL305GDlufdm5Z0omEI2jyw0BZa1+6CiV8pmmyweJALoeWurpQv1sjHHBj5je2BMLx4WF8/bzzojwkDQ9oBioE0MyQ6oJ/cngYr/f1hRYwcBI+ujnRG4KJjShd+DqHh3Hjk0/iucOHcdfOnfjR1q2Bf0fYODk87HpO1Fwz7ujP5VwBQ9CF6Z4mEuS5SrrwKbmWMkGfhhpEbJFlurTm8GHXazQLX+ejj6GwBqoMWWalJHyidVqUANOIP7zGzG2bN0d0JBqq0AFUCCjFRGJ1ezvOue8+vOW++/D5NWtCOS5OwsdtCDQmLoQmEiGMi1/s3On43O9v2RL4d4SNTiaA6hkZqcCRlA8q3wOilfAZjISvkjVQ3LFwroC6eL80iNxprfO5hpHrUYkxlVT6tTEHynThqxADJapNFB2PRvwRR/WPhhw6gAoBKjbmNGv5d2vXFuUzv9q9G3u6uwM/LhUXPs1ATWwMR5hR7a7SQMOOLuY39FbpJobK94Dg5wMpA2UYbHBUKQaK/nLrKHTdaDAQmkiMjQOu3okGUHU+1i9RDVSpEr6CYQhrRnMhj1FRfyARI6YRf+hETPVBB1AhQMZA7e3uxtt/+1tMufNO/OP69cXn9/f2Ov7Gq1i2FLgYKFTHZkBPK9EhSglfXGoDy8F4YqCohTkQQgDl0SSVY8krVVPKMVCAW8YXxzmzGiCrgdrW1YWTzH1EA5ZaH6YeIglfqeNLFqyEPSZEDNRglSZvNPQ8Uo3QAVQIkE3IP3711SK79JNXX8XOrq7Ijsul1WckfJqBmtiIUsI3HkYat8nrYQKRagAn4Qvaxlz2aZwLXyUDKJehxdhxlNM3SOMNiILpgmGw9U+AmyGnph55SU2aUMJXYkAsk8tVTMKnGaiqhd57VR90ABUCZJr9u3ftcrz2S/I4THCbk3IciEpBwTDQPTIyLtiH8QiRg5xmoHh0MQwUx+RUAzgJX+CNdD0YKJfMGJVz4XMZWoz9q5uPBwMRA1UwTWw+fpx9jTJQ6WRSOcBWlfCpSkRlhg1hb4ZFEj7NQFUvdP159UHbmIcAPxnTKLOXnITPJUcJ8SY+MTSEjz3+OF4+cQKXzJmD+977XjTW1DiPkfl+Pa1EhyhroMaDexkr4avSACoKCZ+XiQRFJV34uJpRQEv4goJQwmcYQhksnZ9SY0nArN3K3DSRon8IiQtfieNL5rZZKQmfZqCqF5qBqj5oBioE0JMquy2ivGm4DQGVL4R5PHfv2lXsKr/myBH8du9e13u4AE5PLNEhyhqo6g+feBOJ8VQDFamNOWMiETcXPsDNWOj5qTTIaqBETDhloPwYIYkkfMkSk4iiuVJ2DEFBu/CNP6isseMh6TieoAOoEJCgGS0fzkBhgtsQuGzMQzyeb7/0kuPxv2zc6HrPCLNwBr2J0+CRNwyxM1YI/W7Gg4SPY6C0hE8Mr0a6nISvYn2gyGNrpiynb5DGGxCNrYJhCIMTGkClmABK9LmqEj6RvToFt1aJvitoCCV8moGqWqgE7jpZEy/oACoE+OkDFeXiy7rwVTCbyv12LliSLVQawUGWUQWCH6vjIYDiGumOJwlf0CYSXo10ORe+cvr0lAOaMNASvmAhY6BEUuIR8jxXxyuTBtpRroRPdm9oCZ+GX6iMGb0Xihd0ABUCaAAly9xXWsIXZQ0UBcd2cQuDZqCigainiYUo2YhqwXiqgYqika5scypqpFupVguiGigt4QsGovu/YJpCJoVK+8phoKy1r1RTENm6FLqET9QHSkv4qhYq81rQCS2N8qADqBDgqoHyCKC4QCKMzaXK5iTKzQC3UHEZlhE9aUQCrwAqSkOBagHbSLdaA6gIGumWIuGrI71+osrCuubLsX9dttfjYBxXAqINY17SoJZeez8BtkjC52KgFMd8JQMo0W/ULnzVC5UxI2JmNSoDHUCFALrAegVQ3I0TxgQct0a6LAOla6AqBq/JOWjpFPd51VQka1nyU1QrAxUHFz76akIg0QqzVtMCJycEtIQvKAhtzA1DzEAxLnw0ABKNWdVGusoMVAVrm7WEb/xBZX3VDFS8oG3MQ4AfBqpgGOxNEcYE7DoOTsIXRwZKB1CRQOR8ZSGIsbF/YAB3rFuHBU1NbJY5b5qoIRuauKI7m2WdBEcKBQzn88ikq2t6ZRmoKF34BBK+RCKBulTKMQ9kDQP1yXDzf0IXPh1ABQJZDVRekYHiZOiiz1WV8Kky47J1qWI1UDFmoPb39OBn27djflMT/uqss1zXbaJD10BVH6prha8S+DGREDFQYbAuNLufhFu+UGk9f1TnQsMNLwaq3LExkMvh5q1b0SlhaLKFQtUsrFz9k4XebLb6AqgKM1AiCR8A1CaT7gAq0CNzQ3QsNMDXAZR/mMy1tpAtFIQsUBg1UKVK+GT3hnbhcyJnGPjzP/wBx4aGAAAnR0bwT+efX+GjihdUxowOoOKF6tipVBlctrtjNwa3YGQNg5ethTABcxpw1exdEKALFQddA1U5eLnwlVvrce+ePdLgCah8AO8HXZIAqhplfFFI+Lz6QLmSPGNzRi2pg4oiqSJioKLsnTdeIRsHsnlGxYVP1orBDlENlOo8V0kbc9H+IK4B1KNtbcXgCQB+sGVLBY8mnlAJ3HUyOV7QAVQIoH2grNuCG/yD+XxkEj66qZtUWxupiQT9Lg5awlc5hO3Ct/rwYc/3VNMC4cVAVRuiMJEoxcYcGGWg7IhinIiOhc5jug+Uf5Q6l3AMlGpAK7QxL/F6yu6NsFlJ0Xf3x1TCd6C/v9KHEHsoMVA6WRMr6AAqBIhszLnBP5DLsXR8GBuEHlLwPrm2NtIaKBUGStuYVw5eEr5yx8bOri7P91RTNp9z4LNQbQxUwTDYzVfUJhIi1sfFQEUwTkQ25tpEonwEFXSyfaAikvBVlIGqMgmfdo/zhgrzqfdC8YIOoEIAnZCthdgPAxXGBoFu6lrq6iItiFYKoJhzNFwoVJU7W7UiTBMJ0zSxr7fX831VFUDJJHyS4CqO6BdscIKeh8qpgXIcVwUkfNaxxK1utBoRVACV8tHLUGRjXiqjGEcXvrjamHutLRMFW0+cwIcffRTXPfEE9vX0FJ83TVPXQFUhqqvKuUrgMpGwGChm8PfncryELwwGigRQkyOW8FGpBAfRxihnGK4stEaw8Jqcc2Vsel5TCJ6Aytm0nhweRsfQEE5vaXHdvyLIAqjemG5kRBBJDo0xy3CVe1cFsuy+VMJHe0FV0Ma81MarGm8gKBv6BCPhk/WXskPIQAXQSDd0CZ+okW5MmR6v+tqJANM0cdPTT2PvWODUn8th1TXXAAjG+VEjeugAKgS4bMzH/uWCk8FcLjITCZeEr64uUjkKlVpwEG2MRgoFHUCFDK9FrpxNz6bjx5XeVwmJwqZjx/DRxx9H98gILp83Dw9edZVSECWrgao2Bopz4LOQCzKA8jCREEr4aKInihoowbG4jHc0A+UbQTJQLhOJMiV8qmtgHBmogVwOpmm66rArDS3hAzqGhorBEwCsO3Kk+P8gjEs0ooeW8IUAPwxU3jQjqT0ABAwU40AUllyO25TSzYdoA60byIWPMGugVAOoSsihbnnppWJD3Gfa27G6vV3p78ZTDRRnIGEhyGviV8JnoS4GNVDWYknnTC3h849Aa6BKtDEXufAFwUBVKoAy4W0GVAloCR+//7PmGNXxogOoeEEHUCHAZWMuCaCA0Z4IFKGYSDABVILp5B6WqxQ3SdCJVbQw6IkjfHgtcuVsCjYfO6b0vkoEys+QgGnl/v1KfyeV8FVZACU73iA3g6W68FHWJ5IaKPLYyuq7JGNawucbQSkd2D5QIhvzgF34KtlIV8bAxrGZLmduMdHMV7gEpRXsBsF6akQPHUCFABEDJVr0u7kAKoQbhX7P5Lo6AG5Nf1jZM+73U9mYaFHS7jPhw5OBKnGjmDMMbO3sVHpvHK6z6gZqXDFQMQig4u7CJwrmJtpGMAjEgYEKs5Fu2ONT9vlxrIPiJM0TLSnKXRdrzVWdQybaOYs7dAAVAqj+WGZjDvAMVFQSPiC6DQE36dPMlGgDrSeO8OHFQJVa67Gnu1v5+sVBDqX6O2WsTdUFUBFJ+GTyYKkLHzWRqEQN1Ni/qjU3GmKoFs17ga2BUnThs9Y9lw16FTTSlX1+HJ34upn5MA7JsijBlWoUGagAZKMa0UMHUCHAj405IGCgIpDwtQgYqDA2BIbAppNO9qJFSTeQCx9eDFSpm4LX+/qU3xuHBUJ1cyfrudJbZSYScZHwUVTSRIL+aqELn56bfCOoc8YxUKIECP3OlECSGYSNedhjQjZPxpGB4vY4cazVChNcYKsZqOqGduELAX4lfGwNVBQufGMMlGoGrxyINmGU9RC9Lw4b6/EOrwWt1HFxwE8AFYPNqOoGShZwVhsDFYsASuLCR00krIRK98gI7t61C1MzGXxi6dLA3AIBJpAWBFBxYE2rDWE20hVdDxEDRddr5XqUGJpIAPGsgeLmw4kWDHCB7ZCugapq6AAqBIhszEUsCpedqaSEL4zvFk2WNIsvZKAm2GRbCXjZmJeaVfXDQMVhM6oSKOYNQ7qYVZuJhEzCF2TyotRGupyJhGmauOaRR7CtqwsAsK+nB//89reHdqxFCV+JjIXGGwgygEKJjXTLlfB5BVBh2olLJXwxY6AM09Q1UOADW78MlLaDjxe0hC8EuFz4xm4OXwxUFC58YxI+mrUNYxMr+j2qEj7NQIUPeu7rSda/1ADKFwMV8XXmvm9EYZHyCjbHEwMVpBzJ00SCPCdioLKGgW1dXcXgCQD+Y+vWwI4TEDfSpXLCibYRDAJBqRxSiYRSX66CYTiuZwJvrHt0/VOV8HqxAWEG1rJ5slIBVFtvL764di2+tWGDIyncl8u57iVg4snyZQyU6p5LM1DxgmagQoBLwjf2r2ih5Qosgw5ihvJ5x/fXJJPFDXIUjSFFNz7diGob88qBXovm2loMDQ0VH5cs4evvV35v1AwUlxVUYY+o3LGlrs61aSgE2IA2bMhc+IJctD1tzBWd77KFgtRGPgiIjsUlJ9Rzk28YAdZA0TuMC/hF7BNQuimIV7InZxgutjIoyOZJr+ROGDBMEx97/HG0jjWKPTQwgP++4goAvMIGUEtUjSdIGSjdSLcqEevV/Qc/+AEuv/xyLFiwAEuWLMF1112HHTt2VPqwPBGIjXnAN4qoBxQQTWNIIQOlXfhiAxoUNNXUOB5HwUBFHUD1M4t4j0INAR23Tek0msn5ksni4oa4u/C5GKhCweXMBwTn7sZ9lnUs9Wln3nGiFcMHgaAYqCQYUw/ms2UBVKl9EL0YlDDnMtlnV2Kt3N/TUwyeAODBffuK64WIjZ9wDBQzx1rBrmrSWu+D4oVYB1Br167FTTfdhCeeeAIPP/ww0uk0PvShD+HkyZOVPjQpONWzaZrCTG4UfaBEBhIAY2MegvSgbAZqgk22lQC9FkEEUN0jI77kbFFLFFgGitwrfdksvrF+PT711FPYcvw4ALcWvT6dRiM5X3Es5hYhNiYS5LmEQDaXNQz2uDir4FKhbGihNzW+EZS8LZVMKknQ6dxlD7qSJa5/Xk6QYTrxyRKslWCg2gcGXM/tGwuoNAM1CrYPlF8Jn55rYoVYS/hWrlzpePyzn/0MCxcuxPr163HVVVdV6Ki8kRiTFdhvCcM0lVkYQP2G6hwexg+3bEHBNPHFc8/FjPp69n0iC3MgGlcp0SaDTiraRKJyCIOBOuhDvgdEY09th4qE75aXXsLPtm8HADx16BD23Hija5OSSaddm8JKbGRKRRwa6cokfK5GuoUCW1Ddk81iki05VA5ENVAZcizVdJ3jgqBk4gkwJhBlSvhU5YVea9JEYqAOMQHUtq4uvGnKFHEANcGSojIGSlnCN8HOWdwRawaKor+/H4ZhoKWlpdKH4gnqvmPA38Smmmn47DPP4Cevvorbt23DX/7pT8L3iRz4AMZVKkIJn4uB0iYSFQPdkFJJWikbAj/yPSB6BopjLPpyOQf7YAVPwOh99Pjrr7uSHg3ptEvaFcd+LCJEJeGTzS0GI+GzZiaOgeKkc6LNWikQMVAZcp295nXTNPHA3r341oYN2FUB9cTaI0fwnocewkcefbTIClQagZlIJJNKCoowJHxe90WYAZRsnvRqiB4GDjLz/KudnQAkEr4qmh+DAFsDpRmoqkasGSiKf/iHf8DZZ5+Nt0usaltbWyM8IjGSAOxDfU9rK46cOKH89yP5vOdvyRsG/nToUPHxC0ePYtuuXS6JCQDs7uhwHl82W/z8PNl0vHbgACYFvNDu7+5mn28/ftzxO7sFjMWho0fRSjb0fhCXcRFn9NOFjoyLo8eO+T6Pm2zjUwVHyXgIG63MPWkC2LprF5rS/PS45+BB9GYyzr/JZpEki1trWxsaYi43ts51j8SQ4cChQ2gNyFWwY0wCyWFgaAg9ZPN6rKMDrYkEemxuewDQ0dmJNmZDsn3/fmTIe0vFATJnDQ8NobW1FSfJbzjR0yMdsw8fOYJv794NAPjZtm149MILXcmJsMZ83jDwv9evx/Gx6/e5J5/Ej9/yllC+yw8OBHSNeru7kSXrXQczh7TbzHAAAIVC8T0nybEc7+pSuh6D5J6oTyYxZNsIt+7fjyGBIqRc9A0OCl87EvEcCgA7Dh92Pbfh4EG0TpmCve3t7N8cOHwYrR6Bw3hat48ze6pDR4+itbZW+X7o7u+vyDkZT9fBD5YuXSp9vWoCqK9//etYv349Hn/8caSYAMGC1w+OCsnnngNsm4HFS5agSRBEcMjD+7ccZmjzOYsWYRrZ3AHAc2SzMX/atOLnN+3aBfT2Fl+bNXculs6dq3ysKjjc3g5s2eJ6PtPc7PidqV272L+fPHVqyde2tbU1NuMizsitXet4PGfqVODYseLjKbYxo4ohEqBMralBl4TtaG5pifRabRH0aZk2fz4WNjePPnj2Wcdrs2fPxhSbBBYApjY3j7Kptvto6uzZWDp/fqDHGySs+yJvGBgiv9GO6bNmYelppwXynVOHhoC9e9nXaurq0Nzc7Bhzc+bMwdLTTsO8XA7Yt6/4fOOkSWiZPt31Gc0zZmDpokWBHGvHkSOOOauhoQFLly7Fa3V1gI2VTGcy0jH7bdu5HTYMPD0ygi8tW1Z8Lsz5acvx48XgCQDWnzwZi7nwwMGDwCuvlP0506ZORWM6Dbz+evE5bq1IdHcDGzYUH9fX1RXfM2toCNi/v/japMmTlc6RsW6d43FzXZ3DtXT+woVYGpJaJsmspRYaJk2K/Br37Nnjeu614WEsXboUNYJkbMuMGdLjHG/rtsnsbZqmTBmdUw4cULofUrW1kZ+T8XYdgkRVSPi+9rWv4cEHH8TDDz+MRQEtjmGDbssMiYkEB6tRpAzHmCyUqJaBSltkJhJh9K8Q/XZlF74q0P7etWMHlt9/Pz72+OM4wgS3cYZpmi7pB62BCkLCd2pjo/T9dJw8f+QIvrBmDe7ZtcvzfigFIqMHmalCAm65Y0M6jQZyvuLW0FIEL+OFIGWVno10yXMiCd9IocDWHgXZf0tUj0UlfH4lU7sjZCW5HoNxgB8JH3W1dbwGxoXPZw1UyS585LpTE5mKSfgqMO8cYpQjRwcHcXxoiG2iC0y8prAyEwnV+0E7fsYLsWegvvrVr2LlypV45JFHcPrpp1f6cJTBWZn70a+aGJ3IaYGrHUeZAEpUdyFqogtU1kSCTvbV2ki3vb8ff79uHUwA+3t78cOtW3HbRRdV+rCUkSf1J6lEwrVRLKVugfaAWtzQgJckTKz9Oh/q78c1q1bBME38ctcu1KZSuD7gTJgoeLACKFHNDg2OMum0q+6xWgIor75XQbqJSQMow3BbhwtMJHKCGqggAyhRPRY1kfBbtB9lKoirbTNN0zVWo4afJN2k2lphbRtbA8UFUOT70mUGUJyrbgOZL0M1kZCMuahNJAzTZE0kAGBbZ6fwnhxPTWFHCgXcsX07BnI5fPbMMzGFUQENykwkdA1UVSLWDNSXvvQl3HvvvbjzzjvR0tKCjo4OdHR0oN+ns1clQE+sYZq+JzavCaaD6rohzqi7XPgkJhJh2K+qOhCKFp1KuvD1ZrO4fds23N/aKtwA/mbPHodr1x02iU81gAay9em00sbEC5SBWuzBQNmv/w+2bHGc75tXr/b9/V4QBVDW/cIFQcMM+9GQTrs2UNyCGUd4BVBRNdI1OBe+sX/rVBmoABkXeqQJEQPlM1AOg0kVoZOpbYtDFtuPUdFkiatiEu4AiJun6HMOF74STJToOpVOJFwsaag25jEykTgxNCRcn7d1dQmD3/HEQH1x7Vp8c8MGfHfzZnzsiSfY97AMlM8AqhqUOBMJsWag7rzzTgDABz/4QcfzX/3qV/G1r32tEoekDMpAmT4ZKGA06KCbMjs6GAZKuCGkEj4bA0U3yqE00lXM5MfNxtw0TXxw1Sq8PFbLs6e7G988/3zX+6rdZp0uZplUysV++t0Q0B5QmVQKc5nMnB32cbKTSJ2CbJJqQcTY9koCqKF83nUs9em0ayNXLQyUV8PfKG3MXRK+sXNaQ23MDYO957rDZKAENua+GagIA6jjTJJtKJ93OUZGDb8MlAjJZDLwRroqTDu95nWpVCTrqAVZACULTFa3t+PQwAA+sGgRmgOy+5e1qni1s3NC2Jj/xlYD9tKxY3i9rw+nWDW0Y+D2ZkM+JXyagYoXYh1AdfswXYgbXDVQ8D9heE3AvgIomY25Qh+NcqFsYy747krR/du7uorBEwB8f8sWNoCqtCSmXNCsZSaVUtqYyEB18fObmlAvMYABnNKUKDaaXjVQ3OsDuZyLneACzqoJoOIi4WNszCFoXpstFNhMe6AMlKKEz28mPcqZTBRAVRp+AigvBkqFQZI10qWNeFWOzRWQMfNlpSR8IobxFzt34u/GjIJ++uqrWPuRj0jry1QhC6C2dXYKz2e1Jx0tcIzyiaEhRwBlmiarSLDmDtWxMl7O2XhBrCV81Yxya6AA72xDORI+mYkE1Yv7hWGa+N7mzbjsd7/DtzZsQMEwqpaB4urMONAsZrXBxUCl02VLO4+Qcze3sRGZpHzKsS8kUQRQXjVQ/QIGijWRKFPaVSl4SvgCvPd8N9Id+9fVB0rSSDcoiNgwVwDl8/xEKeGr9gAqAbeZjR2pRMKVuOA2ozIJn6sGSmGeczFQirVYQUHKQAnG49/ZXFZ3dHVhDWM9XgpkAdTu7m7XOmBhvAQD3O+gc2rWMNgEpJUEUk1aawYqXog1A1XNoNvpQgkBVKAMlETCRzNw5WbOnjp0CLdu2gQA2HriBN40ZYqyiYQosxb3yZbL5Bmm6Xi+J5tFW28vTmluRguxwa40WAaqTAkfdSKc09DA9iizw74xCMMNkkKUcFjR2oq6VAoLmppcr3HMUiaddi2C1dJIN0oJn6eJBHkuKTCRyBpG6C58IkMLWgPlN4CKUsJ3jAugYjCXqs4l9em0dM5IJhKBS/hU5h0awNREKOEzTVP62aqM6M6TJ3HZvHllH48sgCqYpjBBE/c1XRXcnus4qT0UrTO6Bqq6oQOokMAxUH4Hv6eJBOfCJ7hRaW2A1Mbcx3EWDAPHhoYwpa6uuLF4gDRdu3n1anyLkb0BDAMVMxMJkSUuPWfc8Q3kcmiurcWz7e347qZN2HjsGAqmiemZDB6++mosmzo1tOP2C7ro1ofAQM2JIQMlCnL29vTgH219Y+wYzOdd93dDOu063jhk+lXgJeGLqgbKYCR8xQCKY6BClvCpuvDJNqwc2xTlFugEYyIRh3GpmhzJpFKua29HigugFGzM0zITCZUAimGgopLweX2uakAflGaCszBXwbgOoEjiQrTOWNfKj4QvDi6aGqPQEr6QwLnwBSnhM02TlfBxkiPTNN0MlKQGSvVmHsjl8JHHHsOb770XFz34IF4fc1yj2RdAPFnaAyhT4lRYKeqamxy5IJV7X282i/b+fnz0scewvqOjuDCfGB7G3YKGwWHilc5OPPb66+w5potuhsmo+q2B4hgouvmksF/nSjJQMgzm86xrIS3Mr1YXvjDtmL1qoGjAYc1MlIEaMYzQJXwiF76aZNIRQOdNU5hc4JJgIxEGMCwDFYcAipyXuQJ3zoZ02mUgYkeSkfBx80bYDFQtN1+GFEB5JVZVGaigNuGUgXrfKaco/d14CaA4Bv8EDaAEa0HRxtzHWjee7N+rHTqACgksAxWghK8nmxWyHhSD+bzjBs2kUg4ZSqlMw3c3b8bqMR31/t5e3DMWFCwm7jMAsEPQPNK+mMt+b6UmWy4w4iZM7rz3ZrNYc+QIuyC3R9xo98F9+3DZypX4+B//iGseecS1UeUCgnKlnaUwUKVK+LpHRrD2yBGcZIJ3GUoNoFx9oFIpt415DDaqKugl52AqcUqMysa8YJquoEXEQOVEDFQELnyJREK5DooLVqKSdmYLBdYBLRYBFDm3nFQWGJVL0sDEDlbC57MGiq7VKusfTehxAVRoDJTHWsiNRe5YgkpQUQbq/YsWKf3deAmglBgokYTPcuHzMVbGy3kbD9ABVEgIxERCclNx8j2Av5npZp26GpUy8b/e14cfv/KK47mXjh0DwGvsn21vZz9npFAoZiNlv7dSWRcuWOpnNmncBNmXy7F9WABxrVpYuHn16uLmdOOxY1h75IjjdTopcxuX+1pb8Zmnn0Zbb6/Sd7I1UD4kfJz8iXvuyMAA3vHb3+KaRx7BhQ8+iD6OsMoAACAASURBVHYfkpJSrsNgLqdkIlEtARSV8E0jAVSQmXRPG3NB0ELrYEYEAVRvNhuYi6irBsr2f1UZHzcGSgnaSwEn3wPiGUAtFARQ9em0VMKXTCRcDBK3fskYqJIkfOTzKinho86m3H3ByXS5dcwvBnI5nLQF6TXJJN67cKHS346XQECpBkpwz/ltpAtoI4k4QQdQIYGS4yb8BwGyG0XkDsctzuvIZpnW3pSygPzziy+6nrN+n4iNEWHuL3+JL69bJ5UexImB4iZD7rnebBZdgk2MV91J0KDnb4vNmh1wb6o4EwkA+O2+fbj28ceVNgccA5VOJqUbIvuY5zYC3D302717i3LWo4ODWLl/v+exWSiFDRhimrhmqjiAovfmNGJwEuSC7dfG3BqBXJJHFAh4mWKowuUIaLsfVI0kuDktqnHBOfABwGAMNmB0wzg1k2F7HtYzzI4dqURCqYZXVgNFAzCV2ks6n0ZpIkHnQNrPiRtz3PobxH1CGc5pmQymZjJYxKhQKKxzaJomDg8MRJZYCBpcIKoq4bPOgZ+xMl4Cz/EAHUCFBMpAFQyjbBc+wzSLkyOnbQfeuFGPDAzgXzduxPc2b8bjr7/ueM8lc+c6Hvud+F/p7MTvmE2qtfD4nQhHCgX8fMcOPHnwoPA9caqBUn2uN5uNDQPlBa4Gikr4LOzt6cHKffukn5czDMcGLgFgVkMDAEibeNrHHhdkcnVFrxFGjDJfMpQk4cvlXCxrQzqNBmK3XC0BFN1IUQYqqhoowzCEEj5VBgpwb+pKhehYgOpgoEQBlN++VWGAJunSySRbB1WfTrvq3+xQdeGTSfhKcRulMroobcxdDFQ67VmTR2W6QDBJPLqOWZbz506f7vm3liHCp595BsvuvRdvvf9+V2KvGsAFosoSPl0DVdXQAVRICKKRrj1oePLgQSy65x4svPtu3LF9u5CB6svlYJomPvmnP+EHW7bg1k2b8AQJTC6ZM8fx2G+tyyNtbezzxeajJS7Q9m7eFHFioLiFx6+EL6gseVDgGBVZ5vc/X3lF2s+Gjs8Z9fXFz+MyzRbsY16V/aNMl2odTN4wfFtQAwITCa4GKmbXWAQ6nmkNVKASPslnySR81EhAxkAFVQclOhZAvRcUd4wVZ6BiEEDRc5tKJNgAymseKtWFz2EiUYICg67lkTJQNHhLpTxlfNyaFcQaROfjRkkAdTmxTB8pFLD1xAk8OJaMOzY0hP/YsqXsY4oa3DpF5bOie85vHyhAM1Bxgg6gQkIQJhJWpuFAXx8+9dRT6M1mkTUM/OvGjUXHO4qBfB77e3vx4lg9EkVTTQ3OnTHD8VyNz0aCzx46xD5vTdKlsisnJZnjSvU/CI2BiljC5wW64NYLJHwWtnd14SnBOACY+ifb5kjGQFljXmRTzS1ENFjzagxrodRAnzORqOca6VbJQkfPV5gmErJP4gIoC7R2TsZAhRVA2e8GyogJAyjO6Cefj6SZbpwZKBrkiBiohhJqoFT6QNmDriBMJOpSqchqoFw9qJJJ93gk15iV8AVwn9DPKDJQZI8BADctW+Z4PFIo4P69ex3P/f6118o+pqjBBaKD+bwjqSraE+UMAwXD0BK+KoUOoEKCi4EqsZGuaZr4/Jo1jpu0P5fDy8ePs38zkMvhxY4O4WdeOHu2K1PmZ+LvHhnBS4LvLjJQJQZQsvNTMQkfxzYpynJ6ZDVQY0xhFODOHb3GHANFxwXFT159VfgaZYVmj8n3ADUJn2jB4VidkgOoEsfpUD7vDjiZAKpaNP1RSvi8GCihCx/TSFcUCATVC0rU1BdQr4HiGCjDNEtiPv2CaycBxCOwpyxPMpHAfI6BSqX8S/h8uvDRRJFKDZTLxryCEr7aZNI1p9JrzG3yOVmfX4gkfG+bOdMxj/zZ/Pk4k9RejxQKUnaxWiBaq+wJDNlaMFQo+JPwxeD+1RhF9Y/emIIrTC3FROJXu3ezDnY7Bbbg/R4BFJXvAYyNueRmfu7wYeEC05fLwTDNkjP7IlYNqFzWRdmFj/nNfdksOgWbOVPwN2FApZcVy0B5LG5rDh8WbhIoAzVXMYCyFgeRvISes/xYI2c7wg6gBhgJH2ciEQe3MxW4XPiIiURUjXRlEj6u349ojNCm4aVCaiJBa7I8XLYoopDRHRPIvOMg4aPjQCThq1ewMVcJXAKX8FXQxpyzUHfVCEbEQNH52Aqgmmpq8N9XXIGLZs/GBxcvxu2XXeZiEkcKBdc+yXq+miBSk9hlfLJ77okDB7Dh6FHl74si+aKhBvFORqMs0GkhZxhKmS36N/+9cyf7muiGHMjlhPI9ALiUGEgA/kwknpHItkyMbtZLZqBkNuYxqoGizxmm6ZuBAkYXsCZiPBAGuI0mfY5m8zPptFTCB4xuNDqHh4vmEHZIJXySjLK1+REt7nTcHx8act1XqhKuUsepYZquMdAwdr4SeMN8IGsYyBuGZyBaSeQMw5GtTiYSmERcvSIzkZA00gVGN4p5hc1/YAyUzMacBMuPHziAF48dwzWLFuHsadOKz4sCqIFczsX0BQ2RjXkcJHyUiUxLAigZA5ViAmsVCZ994+6SAJZgIlHL2Zgzx3HXjh24f+9eLJ8xA986/3zXOFIBJ+Gjn+NioEKqgaLBg309e9e8eXiXre6JytmHCwVWtn9kYACLJk0q+9iiggoDJStruOnpp319n2ag4oP4ruxVDqqrLiUbnTUM5Z47FvpyOezo6mJfm1xb61jcLbhszAULiGma0roXYFTiF0aGc3jMsSdqsAEU+X1D+bxLegSMdmiXZTOjcuJTCQI5SZrKxl/kBimT8ElNJKwASlHCx5mpqDJQ9DqWivRYFjyRSBSLqC3EIdsvA91YNdfUuOVyEdmYA+7Nr30elW2k7QisBoo8TkgYqJ/v2IHvbd6My3/3OxywMemyACpsiO7NOIxJFwOVTGIe0wuqPpXyroEKWMJXiokEx0DR73ylsxNfXLcOGzo6cPu2bcLkqBe44I0mpSiLw82JQaw/IgkfB3ods4UCG+TTtSPuEK1VDglfgPdcperBNdzQAVRIoCe2FNp1KJ8vaTMgmv6/snw5a02tykDt7enBAVuT0rpUytVBXuQOWC5M+LP6DAps8EGuiWgz9LpH8Os3A5gtFNAxOOibyeSOzxVAMX2gVPTpIpmQS8Ln00RCtLjThYhbbMOW8FHYfw/9bXHYrMpAz9Wk2tpQazm8Nqd07nEEUIpMXiVc+CzkTRPf3by5+FhUbxTFuKC9aCzEQQLksjFPJDCvVBc+BQZJJuFLliDhc9mYK0j4/ocYJnxj/XrP7+HgYqAYCR8N3FkVguA+2XL8OC5ZuRLL778fj5IWKBQ0CUUTSHZwdYPcGD3sow1FHCBaqxwSvgATJpqBig+0hC8kJMikXsqCKXJR8oPrly7FZ5YtQyaddhVxWlBxMQJGravtuHD2bPTncjhoC6rCzB5VouhUxt7s7e7GL3btEm4wD3ksBH406EcGBvDhRx/Fru5uXDh7Nn531VXK8g+VIJBu9GR9oOwohYGSBVCGaaJgGMoSvqPMObYMBrzODw2gLps7F7MaGrDz5Em82tkp/Vs77L+n2uqg6MaqubaWNWwICn4DKCrhU0FQEj5XDZTt/6IACoCjn52QgQp5XBimKVw/Kj0mTdPEvp4ex3PJRAJTSO0dMDoegjCR8NNIV8VS2lUDxUn4yOdwbEvBMJTmWTs4Aws6p9IgmUsqZQ0DI4WCK/j68vPPF+e/zz/3HN59ww3CdZeuI82SAIpKnAumySZcx0sAFRoDpQOo2EAzUCGBnthSBn0QbM5Fs2fjvJkzhcET4GaguAWotbvb1afp2iVLXBOmnyamfhF15qVgGHwjzDGL0vevWoWfvvoqfrZ9e0mf74eB+vXu3djV3Q0AeOHoUTws6MWl+j10Qi+lBgoQB/l07NoZKJmEDxhd2FVd+EQBuwoLQb9jflMT7rj8cqz5yEd81abZN9ONVebE52KgampCtWP2Yk/p5rWSDJS0ka5kDNs3lZWS8PVms8JEWCVZ0d5sFlc/8ghWEWYjNSaBpegaHvZkoFzrl0INVLkSPlcQoyDho7WFgNgMSgaXhI9hoFRszAF3Ei9nGNhoq6E+MTyMQ7YEKYUfCV8ikXAlHrhgabwEUCcUa6D8QgdQ8YEOoEJCEDVQouy+H5w/c6bne1Q2TN956SXH5mfp5Mm4fulS16KgGvSdNnmybwOFKCeOg/392C+Q4PVns3hw376y2TY/k+p3Nm1yPP6XF19U/ltRk187OAZKhe3rYMZobzbr+G11qZQju0wXe4qsYQgXfBr4icabioxP1AQSGK0XVEVDlUr49vb34/svv+x4rrm21hWoRCnhoxtT+zzqNW4shNYHSkHCBzjvpUq58Ml66lXSROKeXbvwPOM4Rvt8WejNZqWBc4KpgeIYJFkNlKoCww6XEx5jY07XUc5QaJOgJYj0u5nf4sVAiZJ19PmDjBOuLNHnJ4AC+HYEFGEmYcOAkIFSdOHziyAVARrlQUv4QgINoErRnXeUuUFvTKfxpilTPN/nJYHY39PjanD3jbe9Delk0hVAqU5+K6+6Cgubm/GP69dL+wnZEVUA9Z2XXsK/kY2lHX25HJ5hrOX9ohwbWT+TqIqEj26qVE0kOAaKjoHZDQ2OzaeXZCVXKIhNJGgNlGC8KQVQksV/cm0t2hXHcjVK+HZ2deEvN21yOYVxNVD2sVYwDNyxYwe2d3bixje9CRfMnu3re70CKHpP2MeNqnw3LBc+h4RPUT5bKQZKFkBVckxuPXHC9Vw6kcCFY+PoE6efjnttSodPnnGGdO0s1YXPwUApmijZwTFQXolILoDa2NGBT55xhuf3yT63Npn03G+I5kP6/GtM0vCkxEmWjmNZDRQwmnjokb5j/DBQqn2gOPzXZZeha3gYsxsasPHYMYfKRTNQ8YFmoEICFSPQRYvTe1OUG0Cd0tzsmlg5eGXOaOPcs6dNwwcWLwbg1jyrsjJWJmo2Y4EtQhSZl75sVho8AaPMxd4er2XAG+XQ+n7kjCoufC4GKp1me3RQcCwplXzMJ0YjXpNOEBI+lQCKfoddfueHgcpIAihO+941PIxbN23Cj7Zurdhm9qHXXmNtlptraqTzwX/v3ImvvfACfr1nD96/apXvOk0vJ01qdWwfgaoMlCx48AOphM/jWKxNuLDdRMjXvVsWQFVwA3aQzg2NjXjo6qvx5jGJ+ZfOPRenjllYX7NoES5gGr/bwdVAcQoKWQ0UXSOVGukqMFA0EdnFXJOXJC1HlL87lXK58NGEmChZRxNVrzEMlGws0b/3YqBU7uHDVeTCx7W0sGCfy/wGUDPq6/H/nXMOrj3tNNdco00k4gPNQIUEV0aITGjTMhnPhZ6bcP2AOuSJ4KUBp4X6F82eXfx9pUr4LMnGHMZ5SYQoMi+yZr4Wjg8NsVIHL8xrbHSwGuX04fAziXKTt1cNVH0ZLnzUPGM+ucZeQX22UBAu+KoSPhUZlyx7OkkhwWHBHjQ1kA0EFyDd+OSTRRnTix0d+M173qP8XUFBxK41MwyUvebiK88//8bzhoH/3rED/3Deecrf68VAyYIWVQZKNq8e7O/HA62tOGPKFFy9aJH0c0px4bPQMTSEuY2NQvYkSFcuDnFloGgA9dDVV2PJ5MnFx6dOnoz1116LwXwek2trkUgkPPtAqdTwUlaqbAkf+Q4VFz6Ogdrd3Y2ebNZXwoaT8JXKQNF5lmOgZI2pafAgM5EA1AKoowMDvp1mKwVZYHRirEdhMpHwnTCxjyU6/uPgoqkxCs1AhQQXA0UGfdhNFAFgQXOz0vu8Jn6aEbIbApQq4SuJgYpg4pAtFhb6c7mSLNUXkusRlYSPC9RGCgXHdaYBR4NAwreMSEI5Bopukmgg7xVA5WQMlG0hGikUXIyFBfuG4eTwMD786KOY94tf4G/XrCkuzi4GqsQaKPtmmtYi0AX2xNCQowZk1euv4wUfXeiDgijwbOECKMlYo25qXqABlNeGqpQaqOFCgQ0SBnI5XLZyJb790ku44cknXaY4FLJNnJeEz5IhVaoGSsYaVKouL2cYLsaYsy6vTaXQUldXlG969oFSMIHwJeFT6QNF1qIaBRc+LoAyAbzssw6K6wNFA3p7Qsw0TeUaqLAlfCr3cF7iIBk3yFQkedPEyZERjBQKvhmolGTe0wxUfKADqJDgxUA1ptOeWUxVTBVky1UZKK9GhJSBsrNGzWSjqcqqWAHUHB8BVBQMlKh3ShBYRAIoVQkfV/RdME3l8yH6HqsOqj+XcwQi6UQCsxsa2Iz/MuLm2Dk87BovXhI+zm3LjqxhKDXSlUlc7QHhf+/ciWfa2zGQz+PuXbuKzaBdBdAlSvjsDBR14aMbaC5w+Tdb36CowCU6EgCuXLAANWRekgVQKhJhO2hQMt0jkeSwMfdh98wxMCtaWx2s/t+vXSv9jHIYKIvhEwUrYTfRjqOJRHt/v+OczqqvV6ol8+wDVQEbc7qJ9WKgcoaBXsE139jRUXzPl9atw1krVuDzzz0nvE5cHyhXAGU7Pposs4Mm8dq4AEoylvyaSKgmQarFSMLrPj46OIh/fvFFpaDcDvv4pOcszjVQOYkB1HiEDqBCglcj3dpUyrcLnQiLxjTjFKoBlJcEQtbTh7Nm9UICb8gGZ8WsBioI50MRTqEMlOImSiTlVK2RE03y1vdT2eL8piakkkm2BmpuY6MjYDfh7m/iWQPlxUApSvhkclH7JH7LSy85XvvBli0A3PU2U22beT8BlMxEgm6guWv2dHt7cRMVFah74odPPRW/f9/78Jbp04UbQa5+yW8ARTcSXky8w8bcR8KJdTwj9SZeUphyaqAsBkoo4asgA5U1jECdFVXhYqYVFRJB9IEK3IWPMZGgAT5lwUXY3tUFAHi0rQ137tiBQ/39uGf3bpdxkwXORIJrUssdB4V9njVNs2wJX1ABlKqBT6XhFUD9cudO3L5tm+/PdUj4JKY+ccLWEydw7n33YdE99+BrL7xQ6cOJBDqACgleNuZ1qZSLvSkVlNmwUGoAdai/3zFJU1ecubagx89G00JdKlVkIRprapSDsCi0+2EGUDTQVc1Ci2RqqoYdIvnAgCCAsgI9TsI3o74eM+vrHc/Rc+YVQHmZU+RkDJRtDMh+v2zTYB0fDfym237XZB81UBkfNuZHBePrP7ZuVf6+cpEzDIdEJgHgjssvx2Xz5gEQL9jcNfGrxzfI4u/FQJUaQHFZc79ZYJeNue3/XsxJ+9gYEwVKlbQxBypTB+Ul7RXBS8LHufDRYF8aQJXiwsfI6BaT+X3TsWPFOVZWz7xnrL/fN9avdzz/dcEmlA2gJBI+VRvyo4ODrMGIaCwZpuluBeFxXygzUFViJOGVBP35jh2OxwuamvC355zj+blpiYTPzkA90taGDz36KL7+wguB9usrBbdt3oz2sfq127dtw/oKSNOjhg6gQoInA5VMBsZAUWbDgmqG77TJkx037KGBAfxm924Ao1kpmumfbZfwlfAb6IKoKuOLQhcdpoRvIdkwqNZAcdl0wC2tFEEo4Rt7nso2rECPk87MamjATHK9jg8OYiCXw//s3YtH2tpwgGyUaJ3DO2bNkh5v1jCE58Yu4ZP9fkvCx9WxWJspeq2nl8hAOSR85H6gG2XOdAMA1h45ovx95YIew/T6emlG3jBNGKbJ3huisSkCXeK9GKggJXzcWJC5AlIWx57wUmagApDwmaaJVW1tuHfPHmX5nYyBAt5Yjw7290vZkSBRagDl5cKXUKiDkkn4uKSHF0PHmUicOmmSYy3OGgbWHD4MQJwEA4C9PT3IG4bLfEcUdNHgrSaVKpmBsssKOfYJELNnNDHXkE57tqhQDaDCtDJ/6dgx/O2aNXjLffdh4S9/iW9u2ODpDiqCnzrmZCKBu664Qkl1Yx+fNHFkBVBHBgbwv596Cs+2t+O/tm3DP23YoHwsYYA2x/53Dzfj8QAdQIUEWudBM361qZTv4EPENFFzAmB0s0GZAhFa6upw45ve5Hjue5s3YyifR+fwsGPxmVRT4wj8vNgjzq6dTggiI4kW8rdetP5gPo/vbtqEL69bJ1wMvBAWAzW5ttZ1LqJioERZsn4PBopjimZkMq5x1TE0hP/11FP49DPP4MYnn3RsVFvq6lxM62Vz5xaDKJo9BtQZKBUJH/eerrHCXrpBmVZiACUzkaBuazLXwKhYAXoMs8j1TCQSrmAlZxiOxpAWZBtDDi4Jn8ccVSoDxQUQ3P0mc8eic4F93JdtIuEjgPq/mzbhhiefxM2rV+O6J55Q+hsvBmown8eX163D2StW4KwVK/DkwYPKx1MqqHOpMgMlue7Wfeol45MxUDXJpEuW7JWscwUxySQSiQTevWCB43mr3lKWaMgaBlt7JIISA1WChI+zMAfEEj6/8j1APYCiKgYLJ4aGlBhCEZ45dAjvfugh3L1rF17v60NvLocfv/JKSQ2NAX+JkMXNzTh/1izXGsHBPp5FNubrjhxxjIXbt22rmPkGx6hv6OioOCsWNnQAFRK8GKhSJHynMrVOU+vq2M3e/KYmX/UJX1m+3HGjHhkcxM+3b3dt0qntuFcANVfgsmTHPMFCupgEhu2CSdXCP65fj+9u3oyf79iBD6xaVdJEGxYDNS2TQVOJhhtUamZB1TJeJOET1UBZARRn9jAlk8EMsul9cN8+4QaMWphbn/uHq6/GyquuwrqPftS16RgpFIQL04BPCR8XSI8UCi7nq6l1dY5Fy4+Er8FHDZQsQC+375sq6LjhWgm4mukWCix75juAIvfkNI/z7AigymSguM2F7H6nv9c+7r02gl4mEn4kfPa+dKsPH1babHu5ie7v6SnKiwbyedymYGTyy507cdnvfofPrV6NnmwWt2/bhktXrsTfrVmj5DIWBgNlJQ+9munKXPgAdxLP617kGCgAuHL+fMfzTx48CHPMjU2G3WMyPhXQoL+GCaCGFCV8fSoMlODY/TrwAeoB1B8PHnTsmXKGgY88+ihO+/WvcfpvfoN/2rDBV9Bp4Ve7d7tqGwH/TogW6DpF+3HZYSmCVMzD0pLE0cjY2OMSynfYGu5GCW7s9OVyeGYsgTBeoQOokEA3n1R64ZeBSiYSrFRven09O3GpLk4W5jY24jNnnul47j9feQX7iU0xXWi8gkA2gCKL10dPPdVl+w4Ay2fMcDz2YqDu2rmz+P+D/f3Y4KMw/1B/Pw7294fGQE3NZFzXu1+R/hdtUlVlDl4SvgOCAIrD9EzGxVg8JZkkaf2ThdpUClfMn483TZni2sz053LCzNUg0eyLIAugADisxAFn/RMQnomE7Jij0v27JLkMA0yd+PKGwQbyncPDvuQvfk0kHBI+ycaDfg6X8afGGYA8AJQxULKNEjAqrykYhrBGTNXWmJOS0UCEA2XgKPv9bHu74/HGY8ek17G1uxtfWLsWW0+cwG/27MH/efppfO2FF/BKZyd+sWuXY+4VIWgTiSl1dcUEnpeTrEzCB7jNjLySUy4b87FjvGTuXMf61tbXh309PZ6Jhj1MACVKf27r7HQ8nt/U5GJER0pgoEQBiUgOGiYD1T0ygidtpi8r9uzB02NjtnN4GP/5yit42wMP4Evr1gll0Rx2nTzJPk9l56qg58De04zCSib6ZaBcNVBjawo3H/98x47QHT45iNpZ/M++fREfSbTQAVRIoCeWFmfWJZO+AqiW2lp2szEtkwkkgAKAv3vLWxzHdGJ4GN/ZtMnxHpqtrk+lWBlW8f3M5oxOCH+2YAEeuvpq/Jkte3f2tGn4+OmnO94nCxg4tkmFoTkyMIDrnngCZ61Ygbfcdx/aSmiQq4JpdXWuBaYvl1PafAproMp04RsY+34RAwWMNk22cHpLC+Y1NmKGD+dElXFIAygvuYu1OZJZ3Vo1UKJNAe29RM0MfEn4JAEUlXDJMtuVYqA4Tb6LgSLGE/bn/SzYtA7JS8KXkBRT20HnGZo1N02T3WiJ2F3AzVjN9MFA5cdqR0WWw6qNNblzrtJgnW566bzNMVSy5NGvxmpiLTxBGOdvetRfGKbpkmWVayJhn6dcDJQPCR/gvge4YNsOGpBZjeEba2pw0Zw5jteePHTIdc3oeOWSfSbcidehfL7o2mdh+YwZcgZKFkApMFCihBZltlQCKBH7kkwk8Lmzz3Y89+BY/RgAPMw4EuZNE3fu2IF3rlypxEblDQN7BRt9mkRUBT0Hp0kCKF8MlMSFz7q23HrRPTJSrF+PEjTRbmFVW5uQbT8+NIQvrVuHv3r2WbT6YGDjBB1AhQSvPlA1qZRL0iXD1EwGU5gAanom4+hfY4Gri1L5jv9DWCiaGaOMUiKRkMr4OAaKk2RcOncuHrzqKmz/+Mfx5Ac+gKc/9CFXzVf7wIAw4ODqM7z0wKvb23Hhgw/iiQMHAMgbZ5aLS+fNQzqZdGywTahtpETZS5UAKmcYwk1cfy6HE8PDjmNoTKcdwcRPL7sMV51yCq6cPx93XnEFEomEi4GSQcRA2UEXCK9srXW8ShI+wcK4jpg2UFliqRI+VyNdHxK+SjFQXJKDszIX3U9+ZHx++0DZ51GZlIvOMzSA6h4ZYe1/RQGUaZqua2UfIypZ5H2STZ2qhI8bE149ckYKBcfnpxIJzCDnmdvwyJoiqyZrRDg2NOQ4/5Nra5XdV1OJBMvG2Nc4VyuOMiV8fhkoO0tGZXxrDh92JYUusCWmgNG1iANd117p7HSwuIsnTcLUTMY1Hv0yUCOFAnYK2BmAZ6Eoi1oOAzUtk8FNb36z47ntfX3444ED6B4ZwWpbMEVxbGgIv5Y0xTZNEz3ZLF7v6xNagJcaQNHkkSyAstZClbmjRiInX9/RgQ0dHcKEGzVziAKiuW4gn8dmgTzy82vW4M4dO3BfayuufOghvHz8uG9TokpDB1AhwdPG3CcDNaWujjVkukyBEwAAIABJREFUmFFfz05cpTBQAHDz2WdLrUg5uY9MxscFULLs7bymJpw/axZqkklMy2Qc2Zr+XM7RINUOjp2SSV1M08TnnnvO061KhhrFa3j90qX47Fhg6mKhFGR8wgBKQcInkwr153Is+2TP+i+eNAkr3vMe/M9VV+GcadMAuIMNGVQCKCoX89qQD+ZyGMjlHBsDanjRm80K+5oA7g0s/U1++pvZxyhlg+33fX8uJ2VrVF0VywVdeFUYKFkApcKIWKASvpa6Ommtpv0opAyURwAlYhQ6Bc/3ZLOOzVY96dunIkUSZWUBdQkfFyx5be45+R7dtHH3xX5JwOfVesALpRpIAGOmJsz5djBQPiV8ngyUxznmjBwsvJMwUDtPnnTNaRcQJ1LOPhxwJwFpL7PzxmTudDxuOn4cf/b73+O+1lalGqgNHR3SoJ6rgwpSwjcjk8GpkyfjirFWChb+4oknsOiee1znm8rMRdK87pERvOv3v8cpd9+N8x54QHhcVMJnmCbu2bUL3964UcpuURn+/KYm4W+0xrxK82j7eD5n2jSHg68J4OZnnxWqZTZ2dLhMTsKGLPmygzCmwOj5fdom/e/JZnH573+Pv169OpTjCws6gAoJNWTBodlMvyYSUwUBlFDCVwIDZX3ep5ctE77OZatlm02uQF21GDyRSLgCMJGMz28AdWJ4WOj0o4pFzc1sQGn/fZ9Ztgz/ddllxQnRVQfFLG4Fw8CrnZ3FTYAooOj12JAD3gXENIBSYS5V3R2B0hgoFQcxusGZ09joCGQKponBfF7ZjZHKY2VsB4WqiYSXVr/cLL8qXMYwqgGUYByWw0ClEwmpXDKhyEB5SfhEG2IRA0U3rjPq6x3HopJF3iWRpQwXCkomN9yY8GKg6G9vqatzjUtqmQ2IJVyAmjupKLkFlF7/ZIFbM+ybaFczXA8Jn6sGisxp5TBQp0+Z4mDM2np7XevTmdOmKSXf6Lil2XyrTpirydt0/Dj+6tlnsaK1Vfj5VgLPq9hfxdWynADKao3xaaKA4fDFc8/FnZdf7nhOtIG/fds2bD1xwvMzO4eHHb/nR1u34vNr1uD7W7bgvQ8/LHTT5M6BaH0sBlA+JXzJRAI/uuQSx+v7entda7eFoUIBWxR+sxf81Lb6DaA6BPLmdUeOVKSGq1ToACokLCQLuqsPFMloemFKJsMGUNMDrIGy8LmzzxZmHLmAyK+Ez48dMf17kZGE3wCqFAcfilMnT2bZmBc/9jF898ILsfKqq3DbRRc5MuxeTny92SzOe+ABXLJyJZbffz96sllpht+LtZAZVQwIGCgvzKivd/3u5poaLGFcIkupgfIKegbyeTYIoOPwQF+fZzBmwQ+rRlEvkfCp2q6rvB4UVBgoVzPdQkHoWOcngKIMVCqRYOc1C0nFGigvCZ8oABAFUC4DCXKOapNJYZG/hZ3MxsEOFRkfJ+ErhYFSyXrTTZBpmjjY34++bNbTARVws0yO10qsf7LABc/2rDwNiOg4ozVfXgyUV8CYkwRQDem0Yx41MSq9s2NqXR3eNGWK9DsAhoEiAdR5M2cCAOok11cmZR/I51EwjKJBgwjcPErXrnJc+Cx1w1ULF7pqoSg+sGiRSyq3v7eXleB/30cvIvv4/c5LLxX/3zE0hFVtbezfcAEUl1RN4I05SslEguy/Lp8/H//7jDM8/87C82X0FRzK5/HJP/0Jp/361/j6Cy94BlJ92ay0ZpALoETBX38uhweryHhCB1Ah4VSPQvu6VAqTApDwTRdI+LjARRUzGxpwBdFxW+Cy1bJM2lwFEwkZaBNW0ULOZWXpot09MoJbNm7EP23YgPU+HPpEWDJpkqtXFTDaiPavzjoLV8yf73JjpOeKSvh+sXNnkZo/0N+Pn2/fLt2getXNyGqsRBI+L6STSXz7He9A81hPsM+eeSZevu463MwsfCr1UjSg9urJMZjLsU5yNICimxYZaI2IH9g3p1T+ancNpIEL3URGYSLBSfG4AIqTRAVRA0U3tkmvAMr2fxlz7ZLwkWMSBR0iCR/HQNmRSCQ8M8k7JDUlgFr9Izeved3zKgwUB7uEzzRNfOrpp3H2ihU49/77pWyaBVnCigZntKm4F7wkfHRNsYLI3mwWX163zrXR9VsDlTMMPH3oUNEBb0RgImHhDI/gaFomg9NbWqTvAZxzQtfwsCO5lEokioGHlyukDK/39blYmncRKR0XQAVZA/W2sUAwkUjgOxdcgFXXXIMzmDEyv6kJb5k+HVMyGUfvrpFCgVWU0Fo4GSwZn2Garr8TrUmuAKq2lp1PZzU0FH+7XwbKwhff+lbPv7NAXWb94M4dO/DQa6+hc3gY/7VtG9Z4rKNU+kuv8c6TJ11BmCiAaqmri6wfYhDQAVRIONUjgKlJJn0xUCIJ3/RMBslEAn9pa4T7v844w5cEicO1S5awz3OTg4iBqkkm2QDDj5qeSsD8MFDHh4YcN+PNq1fj37dswX++8oqna5QKTps8WVovxoHKNmkW71svvuh4fMtLLwlNIADvzZSMDucCqEUMi8Th+qVLsefGG3Hgk5/E9y66CNPr6/GehQsd73lTS4tnZ3rAX38fYDRzTzeWsxsaXFIwFemGBWpjDkBpgwPITSTs449m6d4yfbrjcRQmEscGBx19UGbU17NzBd2wDubzQia0HAmfVwBlT0DImOsZmYwjaztUKDjOfdkMFDM+ZFl/wNvERqWZLhf4ebHOKjVQHPb39hY3OhuPHcPv9u8HoH59ZYX4tM+RCvtiB1cnZ5cB0h6JllPd5597rtjvykIC7k2si4EaHCyeC9M08ck//QkfeewxvHPlSvxy505XjQkdm2/2+H1T6urwJoX5xT4OqXzvzKlTi9dVhWEU4Q+EXXnL9OlYShgeFQmfiiTRK4CycPGcOfj5W9/qqon62JIlxTmBslA0SJeZZwBwuP4Cb4xfbo8hSsBwToRc0nCBhC3lwM3J8xobhYkQel7XHz1acsPh/2tj3wDgDgH7ZoHWel4yZ45jT9iXy7lqzOi+4+0zZ+L373sfdn7iE/irs84q4agrAx1AhYR59fXSTIPfGqgpAhe+qWPP/ccll+BXV16JX115JX7wznf6P2CC951yCvs8d/OLahgaa2rYZqyi3igcypHwAW9kRQfzeTwasDvNksmT0eAjCAbUaqD8YLdHlltmUtGfy2Ev2dioMFAW6tNpx8ZmQVMT/nps8ksnEvjiuecqfQ41kbDjq8uX4yoyFgcYBmpOY6MrkPejA+fc4G676KJigPxhQa+yxnTakU13BVCFQjFooAzTsqlTHVLZnmw29OwbDeJEDCGt4ZTJxvwEUFS2lk4mlSV8skA7k0675kf7ps9vDZRKAFVO1h9QZKCY4/aqfaRsweTaWqWsd38uVwz6frt3r+f7KUS9dEzTdBX5ezE0FFz9oH0zedYYE2Ph1c5O5AwDj405rNrx7gULXHKzpjE23ULWMIrncXtXl2PtuHXTJkcSIp1IuAI82e9rrqlBbSqF80nQwMEehLvke7Y+iSrXFxjtRUTZPyqZumLePFfiU8VEolQJ37zGRlYxk0mlsOK978Xnzj4bM+vrcc2iRfjK8uXF12nPJWpRLrPGbq6pwduJkYc1fumaCLh7b1nggkguyWxPBM9paGDl7nZwCYNkIuFKFFi4bO5cByPXm8thm006lxurq5YlY4HRe5Uamuz2kO9SB74lkydjGRn/VMZHDTA+dtppeNe8eUqJnjhBB1AhIZVIYKkkw+S3BmpqXR2blbAmumQigfcvXoz3L14sdbVSRXNtrbJOXRQIcvbqgL8Aikr4RIGSKHtv6Zq96hFKwamTJytJY+yQSfhKcQR81YNel23S9vf2OorJa5JJqQ2rCm698EJs/NjHsPX663Hd0qVKfyPaGH9syRL8w/LlbllcPq8k4aMyBppxtIOrgXrXvHnYcv312HDttbjriivYDcLHTz/dkf1NJhKua2yNWRq8zGlo8O3+VS4oc8fVNALuoFbWg001gDo6OOh4byaVwuyGBpaltuCQ8Ek2iZlUyrGBAJzugCIGSnTssh5QsuPx0z9MxYlPZBghY6Fovc+UTEZ5nrLkOKXMRSIJX8fQkMNgoqmmpthUVBVUUkXXzrNJALWtqwut3d2uDeNXli/H3VdeyX6HyEjiGVIfRO9jbhzIAigrYXD+rFmeewD7d20mDnzLbQFYOpkU9mN855w5uHbJEnzjvPPwxAc+4JrjqdT58vnzlQKooCR850kCybpUCt+54ALsufFG/Prd73ZssL0CKJns9PSWFley0GKgWjmL/95eV/KnP5dzyQanZTJsDZR9L5VIJPCb97wHH1y8GNcvXYqPCtQ+HER7ytkNDbiQWONb61/3yAguXbkSl6xcibNXrJDO5aJaJpnhFmX+lkyejGVTpzqeowFUqcqXuEEHUCFCRuNPqavzx0CNTWj2m+3c6dPLMovwwm0XXeR4fL1gQyyq5RJlpHwFUFTCx9zIpml6MlBe9TClnMd5jY3SzR8HusjYM1jbFII8upHz+l2yTDXdJJ49bZqv+jQRlra0uK6bDKIA6gOLFyORSLg2f5999llXh3PORILifwmKcFOJhPA6zqivx5umTEEikWDP5WcZ16gzyeKxcazejjNvoItt2DI+1zGIGChyTYIIoKik8qxp05AWyHwtJPwwUJJNnygw7c/lXD36ADUGipPIyJJmFF4So+F8XmiCIhsntP5L1UQCeCObrFLzRCGS8FGW/PSWFlaZ4Af0vjmL3HPbu7pc4+3yefPw9fPOE2a5RcmMFz3qZbkA6vSWFmEi03L8rEkmccncudLPtuZo0zSlDBTAy/i+unw5HrnmGtx5xRX48vLlxTYhImRSKbxj1izXvcQF1KU00uXWFxUmjoOXhE+mzphcWysOoJixb5imKwm7+fhxR02nVRPtxUABowH23Vdeif//Xe9yySVlECU4ZzU0uBo4W0YSP9q6tdjj69jQEP5dYqzxikC1sUbSh4vuW5ZMmuQOoMi1KKX2Oo7QAVSIEAVQTTU1ePvMmf76QI1Nuj+65BJ8Zfly/M055+CB9743kOMU4c8XLsTHxgK2OQ0N+JtzzmHfN0NgmCEMoHzIlFwmEkwz3Z5sVuhoVQygJHKuBEZ/K8XVY9Kx+lQK/37xxY7Xpo71r7nx9NMdC+UNp58u/jGQ10DJjtHCBbNnOxaho4ODUntsmQsfBV2Qo4JIwmfp4lVkklwNlB31qRTeu3AhyzRNG6sj9IvTJk9mN8x0g/LiWOaYY83oRjBsBmorCbhFgS6V6so27KrND+mG9i1jrIFqDZQsuM+kUq5A7I8HDhQTLrLzysn4vEwkALeRAAAs9rER8DKykckmZa9RO/GW2lplBuq1nh7kDMNTGsxBxEDRBq0qtT9eoGZGpzQ3OxJ5vdmsS7K93GN+44wkTNP0LMjnAvv6dNrVCN7CVJvUlNb4UFiB/IH+fsc4bUynXeeRk/Fxm/O3SwKW82fORF0qpRRABWVjXuq6QxkoKiWTjeGzSG8l4A0JH8dAAcCX1q3DrZs2FQOtjeT+tSSBXAAlS9CqSB8tiAKo2Q0NuJhhoHqyWfxw61bH83ft3CmsjxIpWp4TBFA92axL3vjWGTOkEr5soeBKyPk1lYkLdAAVIkQ0/vtOOQWZdNqXhM8KJJpqavD1887Dt9/xDpe1btBIJBL4+RVXYPcNN+Dl665zZdYtXDFvHrsBFRks+KnzmFJX56g1GMznXRsEWV8Ua1F/VcLuzGtqwjmkoB8Avv/Od2L3DTdg5w034NPLluHGseCoLpUq9mWY19SE71xwAWbU1+P8mTPxZQ+nHHrN7ZtPLzkeMMoY0MBc9Hc92ayvOiCvDUZY4DYg8xsbi/IyFaOOOY2NUtOHt82cidpUCmczY5gzkODwDhIY/dP557PvoxsUK4PNsRpRM1DPEjkSbehpgV6TMBgo655TdeGT1crVMwzUf77yCs5asQJ/eO01aSuAE8PDKBgGtnV2FhMxNCnBMVBcPYFMikID/MeZ+hw7ZGNBNudR1krVRAIAHjtwAI+2tTmaCKuic3iYlSXSjazf+icOVHqaSCRwJpHxUXMEKvOj4KzMdzFNcClE0lLR77RvpkVutxZ6s1kM5/Mu+d65M2a4DHq4AIrbcMskcxePsRhhSfi48XFuiesOrQd6va/PYe4hYlGTiQQ+vnQpZjc0OJh2qxeUqHbq5RMn8L3Nm/H+VaswkMsVE2MWrACKk/DJ+iH6SaSLGO5ZDQ04i/QW6xwexj+uX8++nx67BZGiZc2RI6yd+YsdHY56wDNaWjA1k3ExUHY57aH+foeZ0OyGhrJMUCoJHUCFCBED9aFTTwWg5sYCjG7+yulTUy5meQzwOY2NeM+CBa7ng5DwJRIJV5acZjplm7uDfX0omCa2S4KTRc3N7OZ7WiaDWbYajR9feinWX3stXr7uOrx/8eLi+/76rLPQeuONePKDH/TU8tKF/5G2tiIjp2K7PS2TKVrXWuD+btOxYzh7xQr8/rXXPD/TgmxhDRNcbZ/dlckre55JpTC5thbvO+UUIZN04djGgAuUVS3M/8+ZZxbrDD586qm4ZtEi9n20OPmVzk50DA66+ihxAVSYDFQbab5Yk0jgHSRrWXyNXBOReQswWmvE9WChoOyXbwZKMF8mMBrwcZ9jAvjMM89Ij+tAXx+ufOghvHPlSiy7917sOnnSzUAxmyLqxAYAiyX3//sXLXKMzx1dXVLrb1mdk1TCx9iYq5oMbO/qwiefekrpvRy430M3sqUwUFSi915GMUDfQ0HnTQqOgVqr0E9HJC3l1v9kIuGQEotMAew4NjTkku+9jQk6OMdTytIAo+NBtDexAqiwGCguoPNbR2yhsabGoVD5f+3deVjVZd7H8fdZWGVXBBcWRR1REcV9SUVNLUstzdzKtdTMSqsnm7HJnMrMMm2qUbMcK61cc8nJcUncEKlccskVFFQUZRNlO8vzh3CG5QBH4/D7Cd/XdT3XMx6Rbvic333u/TaZzfx86RJ5JhO38vJKLCl9uVUretWvz5IePQj18UGn1Zbo2JxKTS2zroM7HbWvT50qMQNVsBTR2udJRc1AWcsT7rx39VptiUG+r0+dsvr1m0ppF5Q2GJuYmWnZY3YjO5uBP/5I42++4YmffirydQX7sLycnIpkYzCbLQfTVJXle3CfdKCWLl1Ky5Yt8fPzo3v37uzfv1/pItkksJQ3RnnT9sUNKtRYV6unCh2jXqC0de53s4QPSo7ebMg/XrfA5TIaE9FXr7IyIaHEyTKFNfDwoLmPT5FGY5C7e4lGpEajoam395+6Y6tnvXpFlppcz85mzblz5BiNNi2bCa9Vq0QnoHilZzKbmRIVVe4ei8I8HBz+9AES98paB6pwZ6680Sl/V1c0Gg21XFzoVsqegs75Fbu1UWhbBycGh4QQ88QT/DxoEEsiI0vtrPm5uhZZkpBnMjEjOrrISF0DDw8c8w9RKKysmYV7UXhpa1SxZRjhZRyCUjyTsjYRm8xm0ss5dCAlO7vI99BrNITmN3itnS5aoPDvuLQZKBe9Hk0Zx6GXN2Dzj9hYDuXPjqXl5DAlKqpIfVHanX3WZqDK6kDVdXOjQ7FBiv+WMQtVViep8BK+G9nZvP3LL/wjNpbU7Gyrx5jfayP1bhVvtFbECXwAM9q0sbwXmvn4WP1MLGuGyd3BodzBreKzjFdv32afDR2o0paWFh+FB/j4gQeKzLhoNJpyO37WOlARVga7rA2+lLbP2tq+I0et1jJwVdZ+wgL30oFq7uNTZKXD55GR5f6bshTvgD65dSvd161jZ2Jikfq2oYcHb7Rrx9qHHmJIo0aW14svHfvy5Emb/rszoqOLzGq7OzhYOqU6rZa+hQaUO/n5lbnP825WInk6OlqdDS+YPS2+D6o068+fLzGjlJGbW+JOp8JG79hBWk4OL+7ZQ9Tly1avaehU6L9ffHb1+d27eSMmhjHFBmju5w6U6ufN1q1bx4wZM/jwww/p2LEjS5cu5YknnuDAgQMEWJn1UBNrDawWPj53PV05MH/GSs2K3wEE/2t0TWzenMXHj1teL20vVanfOyCgyNKjxceP0y8oiByjkXa1a5fb6Py4WIeruGB3d9wcHPhbmza8FRuLXqtlRqHjUiuSu6MjTzVtyqe//2557d1ff+UvXl7lXvrXvnZtHgwIKPFhWnwGalNc3F1vAm/t61shpzfeC2tLYAp/wJd3wEfhD6fHGjYssUxNp9FYGgbWRqFr3sUluqWNABbX3s+vyLHO64u9B4fnH8hSvAP1/dmzaPOPgL+bAwmKS8vJYeru3WyOjyfUx4c5HTsSVez30q6MhmxZJ95ZcyM7u8yOUPH3aKiPj6Xh6VXG3rXC3bjSZqAKZld87vEy5OJ7Hoo/X74uLlYHg4o/rVqNpswOVME+vOhCI9f/vXiRbvn7TOMzMph/+DDRSUmYKXmqWGEFs1PxGRkM+PFHy3ttY1xciRFeLycnkstYhra4Rw+WHD9e7gXWtih+lPn17OwijW8Xne6eDux5JDiYqMceIz4jg94BAVZnW8rqQLXw8Sm3fiv+LK47f96mxm1pndO+gYHUdnGxLN39R4cOjLIy0Ph+5848vHlzqd//j9TUEstfre0bKj5QUNaewfZ+fnxVbHaiTe3alqWe1pbw5RiNlu+ZZzKV6ODb8rvSaDRsfuQRdiYmEpB/Ke6f0cjTkz3FOrknUlN5avv2Iq+Vdu9Yez+/IgNLK06fvqdytKldu8h7cnFkJAuPHMFgNvNCOe2d4p9J5R2G1MDDo8Ry8ILDgDqXsqKguCu3b+O9dCmN8gfRBjZoUOIuruJOpKTQ6Ouvy2ynFD4J8NXWrVl19myRgaZ/Hj1a4t+UNtFwP1B9B+rTTz9lxIgRjB49GoB58+axY8cOvvzyS958802FS1e+SS1asOjYMcuf32zf/q7+fS1nZ7uetFdRHLRahjduzLdnzlheK7i/56XwcP5z4QIXMzMJ8fBgTGjoXX3v0U2b8uHhw5a16Dfz8ui9YQNwp3Fd1jIYWxQ0el5q1YphTZrgoNXeVaP6bj3TrBn/OnbMsuzp8q1bPLhxY7n/bmnPnui1Wpr7+KDhfw24s+np/Bgfj2f+h97cMk7ZKU15lac9WZu9KPzB2icggLCaNfn9xg1qOTuX2PRfeCTskeBgXtyzp8jfOxe6MsDakpm8e7xwsCzt/fxKnBRYQK/R8HT+Mh5/K7OZ3545w4/x8bzXuXOpHy5Gk4lLt26RkJlpKX9tFxeC3N25nZfHXw8csDRwTqSkMHDLlpJlLKMDVdZyp0ENGpCQmVmkwf3FyZP0L2VJI8CPxfajFP7+Nt8DVUqDsKABW9b3KayZj0+JY3XLYm3E1xonrRY/Fxdc9Xqrh9q46PV0r1uXWbGxltd2Xb7M1w4OeN26xcIjR0rs7yxN9NWrLDh8mPlHjhSZaba2Ad6rnBmo3gEBDG3UiFf27eMLG0bgV/Xty8rTpwmvVYvMvDw+PHzY8ndLjh8n2N3dMkhYfLVAYxsv17YmrGbNMjtJTb290Wo0VpeTFr8nyhprm/9tuafP2uAh3OlQ7Bs8mC0XLtDM27vU0+8616nDkshINsfH061uXX65do3vCn2OPr97d9FyuriUOFzJmrKOii++zBiKNr6ddDrcHRwshxwZzWaCly9neqtWRCclWT1Yw9aZFFe9vtTlz3erta8vy/74o9yva1rKYNSEZs3459Gjd7WtwJriM3peTk42t/XqubnxTLNmfH7iBHqNhg+LHVhVnLXZrIK6sbWvL846XYmfx1mno5mPT4nLmAsGaaxtAxjUoAFZRiNbC82Sl9V5qu/mVqStGujuzvNhYUXqB2tKO2zlfqDqDlRubi6HDx9m6tSpRV7v2bMnMTExCpXq7rwUHk7s1at31pY3bUrvYtOaE5o1Y2n+TemOWm2JzbsD74PlewXe7tiRA1evEpeRgbeTEyPyR9nr1KjB/iFDOJ+RQYiHx12t+YU7a4SnhoUVaXgUsNZ5qunsfFeXexZe2mFtA2hFC/bw4OGgIDaXccN338BAS8WlAb7q3dvSmHZzcCDE07PICPXIbdts+m+X9rtR6gAJsD7iVnjTu7Nez85BgziZmkqgmxszoqOLNDCGFDrav6azM828vYscmzqi0MmI1hpv9ri8r6yTrvoHB1veZ0Hu7ug1mhIfTBl5eTwXFVXh5Srg4eBA0zIGZsaGhnL0xo0Sa+i71qnDoh49GLdzZ5HX/3XsGP8qNFBUnsIdZJuPMS+lA9U9f0m0LVcKdPTzY0h+Z8FWti7xdNTp0Gg0BLu7lzi2F+68z5p6excZ9MkxGu/MkJczS26NtfqwOE9HR5x0ulIv/XXKvz9Lo9Hweps2NnWg+gQGWjoN64oNEpxOS2NIsX0RhVXEARKlcdHraebtbfU6iPIOkIA7l7ZrgdKGU7rUqUN0UlKRDtpzLVrwchkXhvu6uDC6lOsTChvaqBFD85eWlbVcFu4s37PlGPiyDi6wtly7Y7HZiwENGhSZkckyGnnn11+tfj8Xnc7mPd0VaXBICD+cP8/OYrPrxRW/I6mAn6srY0JDiwxyF/ZMs2ZsT0wk4eZNHg8JYfXZsyVmnsF6h/RuzOvShfHNmt25I62cAfOyDp1w0ukIr1WLmGL7s55p3px2tWvzdLGZubK0qV2bCc2a8fC6dRwqYza8QCcrv4OXwsP55tSpUu+Xgvt7CZ+q90DduHEDo9GIb7HGna+vL9dKOUVEbfxdXdkxaBAJY8Ywt3PnEhXfaxERPN6wIW1r1+aLnj2LdJicdDpeLudUNzWp6ezMrsceY1P//hx68skiHRM3Bwda1qx5152nAuObNbN5hPmr3r35R4cOPGbj0kclRkBeCg+ntI/Apl5efNKtGz88/DAvtGzJxv79ixxaAdwye4D4AAAgAElEQVTV0oeCUfywmjX55sEHS/weXfX6Eh+elal3QECRTe7/6NChxNc4aLW0rFnzzsheu3aWDoizTldi/13h0/G0Gk2JZTOvFHumhhZaE19RmtesWer9aOMKzcB6OjryfxERpb4X7KVr3bplNnj0Wi3/7NaNlX36WEaye9Srx8o+fXDW6y1LEO9V4fevo05X6mh54RJaazh09vdnTqdOgPUZhOLe7dTprvcwljYDVfwo7YKje0tbxlewV8vWC6YrwvD8wYPSBgnq16hh+Uyq5eLC9DI6A9Y8FBR0V/f4lHeQw5/1t7ZtrV4oa+3wmOK8nJzoU8rPMqpJE1b368drERE4aLXUdnHhs+7debdTpwrvOJQ3OxNRys9SvKM2sUWLUr+HVqNhcqG/D/Hw4IFi+2feat/e5n2xXcu5z8peajg4sO7hh0kaO5aksWOJLLa/XJe/HLp3Gds9XmzZstTljsObNOHXoUNJHj+eJZGRVp/dGnr9n+5AwZ3BhfI6T1Byb1HxjLpb2WM/LTycR4ODeb1NG5tmLz0dHRnUsCEuej0ftmhh0zNubf+Vu6Mji3r0KLPTV9ayZ7XTpKWllX98kkKuXLlCaGgoW7ZsoXOhS13fe+891q5dS6yVEbgzhUam70eJWVnM/uMPrufm8mxwMP0q4MGsKtZcusTccvJ11+vZ0qmTpUGenJPDhEOHuJw/6xLs6oqnXs+R/M2Soe7uLI+I+NMXO96L3dev821iIkfS08kzm/HU6xkbFMQT9eqVeWkowG9paUwsZ2rcQaPh67ZtMZhMXMrOprOPD846HRl5eWy5epWfrl7lpsHAxOBg+ij8PjuekcGmpCSCXF15opzGPcD1nByOZmTQ0sODWlY61v+9do3Y1FR61KpFl2KNtoy8PN4+dYpTmZkM8PdnfAUtJylu9aVLfHjmDIUXUzRxc+ObNm1KvN8y8vJIyc1lU1IS3yQklDoKfrdctFrc9HqSiy0Neyc01ObMjWYzaXl5+Dg4FCn3nuvXeef0aW7cxWElAPWdnfm+ffsi7/GNV64w5/TpIjNxYR4efFlsL+ILR48SnT/D0MnHh/ebN7c862azmdG//srJ/BH8MYGBrLp0idv5y1ke9ffn702bkmM08lhMTInfSXtvb2JTU0uMML/VtCkPWxlg2JWczKuF9nb+OyKC5h4erEpMZF7+iVMFtMDaDh2o7+JCnsnEorg4vk1MJK/YzKMGGFqvHs3c3Vl47hwp+Uuoajo60rhGDQ5YmdnSAL19fTmUns71/J/JQaPh2eBgngoMRJe/rO3R6GiuFfuZpzZsyNOFlqBlGgyM/e034vOXfz7XoAFL4+PJzS/nlAYNGJO/NLtAttHI26dOsbWcQc0Grq4sbd261IGFinIoLY3Xjh8nNf93F+zqyrdt29rU0TGZzWy/do09N25wNCMDN72eyQ0a0LVQHZJpMOCs1dp1xmXP9eusv3KFhKwsEm7fttQhTlota9q3x9/KEvPTmZlMPXKElLw8uvj4MD8srMx9X7cNBtZevkxybi6P161LsJUBiKTsbMYfOsQ1K8usfRwcCHBxobmHB2MCA/EuZ+9OZbhtMPDJ+fNEp6TQ0tOTcUFBBNkwsLLw3Dm+SUgo8lovX1/mNGtWpM67bTDwVUICh9LSuJSdjaNWy+QGDXiwEpfA55pMDI6JISk/k7dDQ+lbqC4/d+sWI2NjLe+Z4s843Hlmk3NySM3LY+G5cxwtdHhEmIcHf2/atMj74bbBwMvHjvFL/t5qnUZDC3d3SzvKRatlbYcO+JZxkE+uyUQNvZ6ZJ06wPX8pYXtvbz4ND/9zvxA7alzOYJeqO1C5ubnUqVOHL774gkGDBllef+WVVzhx4gRbrKzrV4szZ86U+8sXd8ecf0xpXEYGPfLvnvrXsWMcT0nBbDZTy8WFF1q2LLGfZ/+xY6xOTeWWwcCrrVvjrNfz/m+/YTSbeS0iQvEp5NsGA+fT0wnx9Lyr5WS/37jB+vPnicvIKHECk7eTE+ObNSv3npHKVt2ei/iMDLZevMiBq1dx1ul4LSKi3NPADl69yhcnTpS7t6+Wi4vlABSD2cylzEwSMjMxmEzoNBo616nDy61aodFo2HP5Mj9fusS59HS61qnD5BYtOHv27J/OIiU7m89+/50DV6/adJR5kLs7z4WFWV1SdeHmTf578SIx+b+rv7ZtW2K2KNtgYH3+5v7+xY4FhzvP0vrz56lfowbd69Vj75UrfH78OA09PJjRpo1lpDktJ4evT52y3PPTwc+PF8PD2RgXx7enT3MzLw8HrZYHAwKYEhZm/RAJs5kvTp5k7+XLPBIczOCQEDQaDUaTiY+OHGH35csYTCbcHR0Z3bQpDxfreFy8eZN/HTtGTEICzi4u1K1RgzGhoXTNH8m9cusW8w8fJiUnh2nh4fi5uvL2L79Y7qnxcnKia5069AkIoJGXF/EZGcz59Ve0Gg1TW7YscQrcyZQU5h8+zC2DgWB3d3rVr0/P+vVL/GzXs7LYmpBAkLs7XevUYdelS3x58iRNvb15uVUrq6P1ZrOZ1efOsfbcOW4W6qTpNBqa+fjQs359IuvVu+vDSe7VpcxMlhw/zo3sbKaEhVlOfCyPGuunjNxc9l65wuVbt+hdv36Z9cfN3FxuZGcT5O5eYYOCF2/eZO5vv3E9O5tANzf+4u1Nt7p1aezpadeBx8rMwmgy8eHhw/yRmkpjLy961a9POxuXSiohJTubjXFxNPLystQXhf0YH8/3Z8/SrnZtni+l/ipgMJn49x9/sPvyZSLr1eOpv/ylyOBAQQ7ZBgOLjh3jyI0bjGjShMh69Xj/0CFOp6YyNjTU6syXNWazmc3x8WTk5TG4YcP79g4oUHkHCqBXr160aNGChQsXWl5r06YNAwYMUPUhEmqsiKsryUI9JAv1kCzUQXJQD8lCPSQLdZAcSqf6rt+UKVOYOHEibdq0oUOHDnz55ZckJSUxduxYpYsmhBBCCCGEqGZU34F6/PHHSUlJYd68eVy9epXQ0FBWrVpFYClHhwohhBBCCCGEvai+AwUwYcIEJkyYoHQxhBBCCCGEENWcqo8xF0IIIYQQQgg1kQ6UEEIIIYQQQthIOlBCCCGEEEIIYSPpQAkhhBBCCCGEjaQDJYQQQgghhBA2kg6UEEIIIYQQQthIOlBCCCGEEEIIYSPpQAkhhBBCCCGEjaQDJYQQQgghhBA2kg6UEEIIIYQQQthIOlBCCCGEEEIIYSPpQAkhhBBCCCGEjTRpaWlmpQshhBBCCCGEEPcDmYESQgghhBBCCBtJB0oIIYQQQgghbCQdKCGEEEIIIYSwkXSghBBCCCGEEMJG0oESQgghhBBCCBtJB0oIIYQQQgghbCQdKBUxm+VEeSGEEEIIIdRMr3QBqrsLFy6g0WgIDAxEo9EAdzpSBf9bVJ5z587h4OCAt7c37u7uShenWktJScHV1RVnZ2cATCYTWq2M94jqS54JIUq6cuUKGo2Ga9euERgYiJeXl9JFqrauXr2KVqslKSmJwMBAPD09lS6SXclFugqLjIykcePGREZG0q5dOwICAnByciIzMxM3Nzeli1dtzJ07l2+++YbExET69+/P559/jouLi9LFqpa+/vprli5dSlxcHL169eL999/H19dX6WJVS8nJydSsWVMa6gqTZ0I95JlQj/nz57Ny5Uri4uJo3rw5tWvXpm3btjzxxBOEhIQoXbxq5ZNPPuG7777j4sWL+Pn5Ua9ePbp168bAgQOrbBa6GTNmzFK6ENXVmTNnmDt3LikpKezatYtDhw6RlpaGv78/AwcOxMPDg+bNmytdzCpv/fr1/POf/+S1115jypQpfP7553Tt2pXVq1ezfft2zp07R+PGjXF0dFS6qFXexo0bmTdvHj169ODZZ59l06ZN7Ny5k2HDhildtGpny5YtTJkyBYBatWrh5uYmjUYFyDOhHvJMqMeaNWuYN28ezz33HG+++Sbu7u5kZmYSGxvLrl270Ov1NGvWTOliVgtr1qzhgw8+YNq0acycOZOUlBTWrVtHWloa0dHR1K9fn4CAAKWLWeFkBkohBcv05s+fj06n48EHH2Tu3Ln88ssveHh4cO7cOT755BP69OkjU9J21qVLF4YNG8bUqVMBmDJlCjExMTg5OeHk5MS1a9eYPn0648aNU7ikVV+XLl0YOnQoL774IgAxMTGMHj2aDz74gEceeQSArKws9u3bR48ePdDrZRWyvfTr14/4+Hhu376Ni4sLI0aMYMiQITRq1AgnJycAkpKS2LJlCyNGjLAsLRMVS54J9ZBnQj0eeughevbsyauvvmp57fbt2+zevZuvvvqKX3/9lUWLFhEZGalgKauHvn37MnDgQJ577jngTvt2zJgx1KxZk+PHj3P16lXWrl1b5WaiZOhEIQV7nB566CGWLFmC0Whk+fLlREdHk5mZiaOjIwsXLuT111/nwIEDCpe26jp+/Di3bt3i0Ucftby2bds2Hn30UXbs2MHOnTvp3r07X3/9Nbm5uQqWtOo7deoUOTk5RbLo0KEDDz74IBs3brS89sEHH7Bw4UJpKNrRhQsXyMnJYeHChRw7dozJkyfz/fff8+CDDzJ16lT279/P7du3mTdvHqtXr5aGop3IM6Ee8kyoR1ZWFr6+vly4cMFy+JbJZMLV1ZV+/fqxcuVKOnbsyMcff6xwSau+1NRUtFqtZctDTk4OGo2Gc+fO0a9fP7Zu3Yq3tzfffvutwiWteNKBUlhoaCgvv/wy7777LgAGg4ErV66wYsUKhg0bxs8//4zJZFK4lFXXlStXePDBB9HpdAAcOnQIb29vXnzxRRwcHAB4/PHH0el0XLlyRcmiVnlJSUk4Oztbfs9GoxGAkSNHEhUVRUpKCgDLly9nzJgxShWzWsjNzaVXr164urri4eHBSy+9xIkTJ1i4cCEnT57kkUceYejQoSxfvpxJkyYpXdwqS54J9ZBnQj1cXFzo06cPu3btYseOHQBotVpMJpOlQzV69GguXrxIfHy8giWt+ry9vWnatCmrVq0iNzcXo9HIhg0bOHHiBO3atQOgW7dunDhxglu3bilc2oolS/gUZjQaycrKYtSoUcyaNYv169fzyy+/8OOPPypdtGojMTERf39/9Ho9169fJz09vchU89dff83ixYvZu3evgqWsHrZu3UrHjh0tp/cYjUbMZjM9e/ZkxIgR1K1bl+nTp3P27FmFS1r1JSUl4ePjg6OjI0aj0TLIAHDw4EEmTJiAs7MzBw8eVLCUVd/WrVvp1KkTHh4egDwTSpJnQj2Sk5N58cUX2b59O6NGjeKFF14gODjY8vfLly9n3rx5HDt2TLlCVhOxsbFMmDCBlJQU/Pz8yM7OZsyYMbzyyisALFmyhO+//97S2a0qZL5fYTqdDjc3N4YPH87IkSO5fPkyK1euBChRQYuKVbAPrX79+pbXatWqRa1atSx/zs7OZtGiRbJhu5L07dsXuPPe12g0lvf/gAED2Lx5MxcuXLBs4hb25e/vb/nfBTkUPDMREREYDAZGjx6tVPGqvILfdcEzUUCeCeUUPBMF9RPIM6EUX19fVq5cycqVK1m4cCFfffUVnTt3pn379uzbt48bN24wffp0pYtZLbRr1459+/axYcMGTp48yeDBgwkPDwfg+vXrfP755zz99NMKl7LiyQyUAgoq3KysrCJHZb/99ttcu3aNOXPmUKNGDQVLWL2Udu/W1atXmTdvHrt375YRRTszGAwYjUYSEhKoW7curq6uwP/uuklMTKRly5Y4ODhw9epVhUtbtRWvn6w9H7GxsUycOJHffvtNoVJWH6XVT/JMVJ7S6iez2YzZbEar1cozUUkKnoebN2/i5uZmuQMqNjaW9evXExcXR9OmTenfvz8PP/yw0sWt0gqei4sXL1KvXj3Lc1EgLS2Nb7/9lh9++IGtW7cqVEr7kQ5UJTtx4gTff/89q1atIjw8nFdffZU2bdoAd95sWVlZ1KlTR+FSVn2pqak4OTkVeeCLN1Ru3brFli1bcHd3p1+/fkoUs1qIiYnhm2++YcOGDTRo0ABXV1fatm3L+PHjiyzJmDt3Lo6OjkybNk25wlZxZdVPhSUnJ3Pjxg2aNm2qQCmrvvLqp4LVCXPmzMHZ2VmeCTuytX66ceMG169f5y9/+Ytyha3ibK2fDAaDHKhiZ4Wfi+DgYFxdXYmIiOCZZ56hQYMGlq87efIkcGe/f1UjHahK1rt3b9zd3enatSs7d+7k+PHjrFu3joiICKWLVq2MHTuWpk2b0rdvX0JCQnB3d1e6SNVWeHg4bdu2JTIykvT0dBISEoiJieHmzZs89thjTJo0iZo1awKlj8aLimGtflq/fj2tW7dWumjVyt3UT/JM2Nfd1E/CvqzVT2vXrqVNmzZFZgOF/clzIRfpVqrVq1ezbds21q9fT8+ePRk5ciR79uzh0qVL9OnTB4PBgFar5cCBA+j1etzc3JQucpW0YcMG3nvvPY4dO8bmzZtJSkrC0dERd3f3IiO+69evx9HRER8fHwVLW7Vt3LiR7du3s3btWtq2bUv79u3p2LEjLVu2RK/Xs3nzZjQaDR06dACQhqIdlVY/JSYm0qdPH4xGo6V+0mq1MuhgJ7bWT+vWrcPJyUnqJzu62/pJ2E957SeTyYROp5P2UyWQ5+IO6apXojVr1vD444/j5eVluVNowoQJbNu2jczMTPR6PampqUyYMIGsrCyFS1t1bd++nXHjxnHw4EEmTZrEf/7zH0aPHs2rr77Kxo0buXTpEsePH2f69OlyhLyd3b59m9q1a5OTk2N5zc3NjY4dOzJz5kyeeuop3nrrLX7//XcFS1k9lFc/6XQ6S/1UOC9RsWytn15++WXLsebCPmytn+SkN/u7m/pJ2k/2Jc/FHdKBqiRpaWk4OjpabisvOAa1V69euLi4sGLFCgA+++wzXFxciqwhFRUnOzubsLAw6tati6+vL88//zxHjx7lo48+Ij4+nkmTJjF16lSmTZtGvXr1aNy4sdJFrtLatWtHYmIin3zyieVOmwJarZZnn32Wdu3aERsbq1AJqwepn9RB6id1sbV+kkOG7EvqJ3WR5+IOWcJXSZydnfH09MTZ2ZlmzZpZ1urqdDrS09NZs2YNw4YNY8KECbz33nuyEdVO9Ho9QUFBNG3aFA8PD3Jzc9HpdISGhjJ69Gi6detGdHQ0e/fuZfHixVIR25mPjw8ODg4sWrSIs2fPUrduXby8vNDpdJaTlubMmcPIkSOL3M0lKpbUT+og9ZO6SP2kDlI/qYs8F3fIIRIKKbzx9+TJk0ycOJEOHTrwww8/cObMGYVLV/3k5eXh4OAAwOeff87ChQur/PSzmmzdupVZs2Zx9uxZOnXqRI8ePUhMTCQ+Pp7k5GT27NmjdBGrFamf1EXqJ2VJ/aQuUj+pQ3V/LmQJXyUym//XVy14+E0mE6GhoQQGBrJ06VLefPNNpYpXrRU0Tm7dusXKlSsZN26cwiWqHgqeib59+xIdHc3atWvx8PBg9erVnDp1irCwMJYuXapwKasHqZ/US+onZUj9pB5SP6mHPBd3yAxUJSu4vyMqKop69erRqFEjADZt2sRf//pX2SxfSUrLwWg0cuLECcLCwhQuYfVRcGdHVFQUTZo0oU6dOmRlZWE0GuUkpUom9ZM6SP2kHlI/qYfUT+ohz4V0oBRhMpkIDg5mzZo1tG/fXuniVFuSg3oUZPH999/TqVMnpYtTrclzoQ6Sg3pI/aQe8lyoR3V/LmQJXyUxGAzk5eUB8NFHHxEcHEzbtm2BO9OhBoNByeJVGyaTqdQcROUq/L4vyKKq3xuhZgVHYkv9VPkKlsSYTKYSz4TUT8op/kxI/aQcqZ/UwVpbtro+F9KBsrOC+wr0er1lHfuuXbsYP3685cZsjUaDXq9XrIzViVarteQQFRVVJAdRuQq/73fv3i1ZKKDwvgKdTgeUzELqJ/sr2NOh1Wotv2upnypf8Xv/Cp6J4p/Zwv6Sk5O5du2a5c+Fsxg3bpzUT5XMlrZsdSNL+Oxo27ZtrF69muPHjzN16lSGDRsGwJUrV6hVq5blTSjs6/Lly8TGxnL27Fl8fX15/PHHcXNz48qVK3h7e+Po6FhtK4DKlpGRwa+//srNmzcJDg6mZcuWGAwGEhMTqV+/vnwQKqCgE6XRaDCbzVy4cEGyqERxcXFERUWRnJxMnz59CA8Px2g0Wj4npH6qPFOmTOGVV14pcTx8UlISXl5ekkUlmjx5MhEREQwePBgfHx/L65cuXcLf3x+tVmsZeBD2JW1Z66QDZSexsbFMnDiRxo0b4+fnR2xsLDt37uTy5ctotVpLBV34OE5R8Q4fPszf/vY3Dh06ROvWrTlz5gzp6ekMHjyYGTNmEBgYqHQRq42TJ08yd+5cNmzYQJMmTQgKCuKDDz6wmoHJZJKGih1dvHiRw4cPExkZibu7e5lfK1nYz5EjR5gxYwanT58mJCQEPz8/vv76a3Jzc8nLy6NGjRpKF7HaiIqKYtCgQVy+fBkXFxcMBgOXL18mISGBsLAwPDw8lC5itbF3715GjBhBVFQUDRo0ID4+nu+++45bt27Ru3dvunfvrnQRqw1py5ZOOlB2MmDAAMLDw3nzzTfJzMxk4sSJuLm58dtvvxEfH0/nzp35+OOPq/QlY2rw6KOPEhwczOuvv46TkxPp6ens3buXJUuWcPr0aaZPn860adMsN5wL+xkyZAje3t688MILGI1Gpk2bhouLCxs2bKi2I1hKeeqpp/jll1/o3r07nTt3plevXtSrV8/y9yaTCZPJJLNQdjZw4ECCg4OZOXMmZ86c4a233mLAgAFs27aNs2fP0qdPH2bOnFlkBF7Yx0MPPUSLFi2YN28ehw8f5ssvv2TVqlUEBASg0WgYNWoUkyZNwtHRUemiVnlPPfUUtWvX5sMPP2Tz5s188MEHZGVl4eLiwtGjR3nggQf49NNPqV+/vtJFrfKkLVs6GVa0g+vXr3P+/HkGDx6MXq/Hy8uLixcvkpmZyezZs9m3bx/p6enMnj1b6aJWaSkpKZw7d44hQ4ZQt25datasScOGDXn66adZu3Ytr7/+OuvWrWP//v1KF7XKS0hIIDY2lr/97W+EhYXRqlUrFi9eTHx8PAcOHLB83aZNm/jwww8VLGnVl5SURGxsLD169OD69essW7aMV155hY8//pgTJ04Ad/bifP7557z22msKl7bqKpgFnDZtGr6+vnTu3Jnk5GQ2b95MWFgYzz33nGXpjLCv+Ph4fv31V2bOnAnA//3f/5GamsqCBQuYNWsWkZGRfPnll0RHRytc0qovJycHZ2dny4DOW2+9xeDBg1m7di27du1iz549JCcns3jxYoVLWvVJW7ZsMrxoBwaDgTp16rBnzx5atWrFjh07iIuLY/Xq1ZYRk9GjR7Ny5UrL3g9R8VxcXGjcuDH/+c9/Skz5+/n5MXnyZHbt2sV3331Hly5dZGTRjnbs2EFERIRlSZLZbKZJkyZ0796drVu38sADDwAwa9YsnnnmGSWLWuUdOHCAoKAgXnjhBYKCgli/fj3//e9/Wb9+PTt37iQiIoLOnTvz6aefMnHiRKWLW2Vt2rSJtm3bWmaXDh06RFJSEitWrCA0NBSz2UxMTAy//vorubm5Uj/Z0fLly8nLy+PYsWNkZ2dz8+ZNlixZQnBwMACRkZHs3r2bHTt2yPIxOzKbzTg5OdG8eXMOHjzIzZs3qVOnDn379qV+/fqYTCaaN2/O0KFD2b59O9evX6dWrVpKF7vKkrZs2WQGyg78/f3p2rUrCxcupFGjRnz66aeEhYUVedADAwNJT0+vdm+4yuTi4kL//v357rvvmDNnDufOnSvy987OzgwZMoQ//vhDGid25u/vj6+vr+UkpYLTrh5++GE2bNiAwWAgKiqKS5cuMWnSJCWLWuV16dKFCRMmULNmTVxdXRk5ciTLli3j9ddfJzAwkP379zNt2jRu3rzJ1KlTlS5uldWmTRuefvppS91z6NAhRowYYek8aTQaevXqxZUrV6R+srM+ffowdOhQnnzySYYMGUK7du0ICgqyLGV1dXVl0KBBJT5DRMUq2EPTs2dPDh8+zKRJk0hJSeHIkSMAlr2YYWFhXL16VTpPdiZt2bLpZsyYMUvpQlQlBR98LVq0ICgoiDZt2jB27FiWLVtGzZo1admyJSkpKbz22ms88MAD9OrVS+kiV2ktW7YkMzOTLVu2cPjwYdLS0sjLy6N+/fqcPn2ad955h06dOkkOdhYUFET9+vUt66QLPgiDg4NZvHgxdevWZcmSJfTo0YM+ffooWdQqr0aNGjRp0gQPDw9LA1Gn0xESEsJDDz1EkyZNWL58OZMnT7bMDIqKV69ePfz9/XFzcwOgdevW9O7dG41GY2lI/v3vf6dNmzb06NFDwZJWfQEBAfTu3Zv+/fsTGBhI8+bNad68eZGT3j744APCw8Pp1q2bwqWt+vz8/AgNDSU6OpojR44QHR2Nq6sroaGh7Nu3j7feeosePXrI57YdSVu2fHKIRCWZP38+W7ZswcPDg4SEBLy9vVm1ahVeXl5KF61a2Lx5M0uXLuXChQt4eXmRlJSEwWAgPDycL774Ak9PT6WLWGWVdzrPJ598wpIlS0hISODcuXOyYV4BZrMZs9mMVqtl//799O/fn/Pnz+Pt7a100aqNwsfJG41Gfv75Z8aOHcvRo0clh0qUk5ODwWCwLDc2Go3s2LGDMWPGcPz4ccmiEsXExLBu3Tp27dpFeno6N27cwNvbm549ezJv3rxyTxAVFU/asv8je6AqUE5ODgkJCcTExODm5kaXLl3w9PTEwcGBJ598klu3bpGSkkKnTp0YMGBAtXzDVSaj0YjZbEav1/PII4/wyCOPcOjQIQ4ePIinpydubm5ERkbKUcF2VtAgLO3ejm7duvHGG28wZswY6XSdSiEAABMTSURBVDzZUUH9dPDgQdzc3OjcuTNeXl7o9foiuVy6dIknnnhCGop2Uvhzwt3dvUgOBWJiYli1ahXjxo2THOyo+Gd2165d8fHxKXIqa3R0NCtWrGDMmDGShR0Vrp9q1KjBAw88QIcOHejQoQPnz5/n1KlTuLm54ejoSIcOHZQubpUmbVnbyAxUBfrrX//K+vXrqVGjBtevXyc3N5d+/foxadIk2rdvD0B2djbOzs4Kl7Rq27NnD+3atbP8no1GIwaDQY4qV0DxLArPdBTIy8tj8eLFDBgwQO7lsiNb6idhf7bkkJqayokTJ2jRooXMjtuRtSz69u3L5MmTi2Rx9OhRwsPDq21DsTIUzyInJ4cHH3yQKVOmSIepkklb1jbSgaogu3fvZvTo0SxdupTg4GCcnJyIiYnhs88+49ChQwwdOpT33nsPLy8vjEajZTO9qFgHDx6kf//+dO3ald69ezN48GD8/f2BO413g8Egdw5VkvKyKN6REvZTXv00YsQI3n33XTw8PMjLy5NnxE7uJgdhX5KFepSXxZNPPsncuXMli0ogbVnbSQeqgkyZMoWsrCy+/PJLoOi+jx9++IE5c+bQt2/fantefmV59tlnOXbsGGFhYZw+fRq9Xk/Xrl154oknaNasGQCXL19m9uzZvP/++1Ih25GtWcyaNYt58+bJSLsdSf2kDpKDekgW6iFZqIdkYTsZ/q0gLVu2JD4+3vLngn0fJpOJQYMGMXLkSNauXSvHoNpRWloaCQkJjBo1irfffpuXX36ZVq1aER0dzeTJk3nhhRfYt28f33//PWvXrpXOkx3dTRbr16+XzpOdSf2kDpKDekgW6iFZqIdkYTs5xryC6HQ6Fi5cyNGjR2nUqBF+fn5FNs2HhoayYsUKOnfuTFBQkMKlrZq0Wi3Ozs54eXnRpk0by0WtISEh6HQ6Tp48yaZNm1i9ejXz58+nVatWShe5ypIs1EXqJ3WQHNRDslAPyUI9JAvbSQeqgtSpU4fmzZuzY8cO9uzZw4ULF9DpdAQEBACwcuVKfvzxRxYsWKBwSasunU5HixYtCA0NBe4cHuHg4EBQUBDdunUjLCyM48ePk5yczLJlyxQubdUmWaiL1E/qIDmoh2ShHpKFekgWtpM9UBXIbDYTFRXFypUrOX78OM7OzqSlpWEymXB2dmbUqFFMmTJF6WJWKwaDAY1GY9no2L17d7p37y7rdxUgWShL6id1kBzUQ7JQD8lCPSQL20gHyk7++OMPdu3axa1bt7h9+zZPPvkkjRo1klPHKoHJZEKr1Vr+f4G4uDiGDBnCjh075DjaSiJZqJPUT+ogOaiHZKEekoV6SBalkw6UHTz77LO88847+Pr6Kl2Uau2ZZ55hxowZhISEWF6TI5qVIVmoh9RP6iA5qIdkoR6ShXpIFmWTLuSfYDb/r+9pNBoBWLNmDTExMdX+grHKVFoOsbGx1KlTp8jfSYPdviQLdZL6SR0kB/WQLNRDslAPycJ20oH6EwpOJQEs+zrmz5/P6NGjcXd3V6pY1U5pOTz99NO4urqW+DthP5KFOty+fZu8vDxMJhNms1nqJ4VIDuohWaiHZKEeksW9kw7UPdq2bRtpaWlFXktOTqZu3boMHz5coVJVP5KDekgW6jF//nx++umnIsfPJicn4+fnx6hRoxQuXfUhOaiHZKEekoV6SBb3TvZA3YO4uDjLTcxDhw61bKYrfGOzsD/JQT0kC/WIi4sjIiICJycn5s6dy9NPP43ZbJZNv5VMclAPyUI9JAv1kCz+HOlA3YNnn32W7OxsvvrqK65du8aaNWv44osvCAgIICwsjMcee4yIiAhpPNqZ5KAekoV6jB07ltTUVJo0acJPP/3EwoULiYyMVLpY1Y7koB6ShXpIFuohWfw50oG6Szk5OXTs2JF58+bRu3dvhg8fTnp6Oq1ateL27dscOnQIHx8fvvjiC3x8fJQubpUlOaiHZKEemZmZBAYGEh0dTaNGjRg/fjy7du3i3XffZcSIEZZDPqQTa1+Sg3pIFuohWaiHZPHn6WbMmDFL6ULcT3Jycti7dy+NGzfGxcWFuXPnsmzZMoYNG0a/fv2IjIxkwYIF6HQ6OnXqpHRxqyzJQT0kC/V4++23AXjppZfQarV06dKFs2fPsnr1asLDwwkMDJQPxEogOaiHZKEekoV6SBZ/nix0vEs1atSgYcOG/PjjjyQnJ9OjRw/8/f2BO/s9goODGTduHIcOHbIcBykqnuSgHpKFeixatIjnnnsOuPO79/X1ZcGCBbRs2ZKnnnqKH374wfJ3wn4kB/WQLNRDslAPyeLPkxmoe1CvXj3ef/99oqKiOHjwIE2aNKF58+aW3vq///1vXFxcePTRRxUuadUmOaiHZKG8W7du0bp1ax555BHgztILs9mMs7Mz7du358iRI2zYsIEWLVoQGBgo+9HsRHJQD8lCPSQL9ZAsKobsgbpHcXFxzJ49m507d+Li4sLw4cNp0qQJUVFR7N69mx9++IEmTZooXcwqT3JQD8lC3TIyMpg4cSIxMTH88ssvsh9NIZKDekgW6iFZqIdkYRuZgboHRqMRHx8f2rdvT6tWrQDYsGED+/fvp1atWkydOpUuXbooXMqqT3JQD8lC3UwmE87OzjRu3JjatWvTs2dPpYtULUkO6iFZqIdkoR6She1kBqoCGAwG9Ho9iYmJ1KtXT6Y6FSI5qIdkIYQQQoiqSg6RsEFSUhLLli0jLS3N8prZbLZsrtPr9QDUr19fGop2JDmoh2ShHtayEJVPclAPyUI9JAv1kCwqlizhs8H06dP56KOPWLlyJUlJSYSEhODt7V2kYZiXl8fFixfx8vKSBqOdSA7qIVmoh7UsvLy8inxNQRaenp6ShZ1IDuohWaiHZKEekkXFkhmocmRnZ3Ps2DHeeustXnjhBX766SfatWvHmDFjiI2NtXzdmjVreOONN+QNZyeSg3pIFupxt1lotVLl24PkoB6ShXpIFuohWVQ8+Q2V448//qBRo0Y0btyY559/nh07drB48WKuXr1Knz596NevH+vXr2fBggXUqVNH6eJWWZKDekgW6iFZqIPkoB6ShXpIFuohWVQ8OUSiHJmZmezbt4+wsDDq1q1reT07O5tffvmFZcuWsW7dOhwcHDh//jxubm4KlrbqkhzUQ7JQD8lCHSQH9ZAs1EOyUA/JouJJB+ouGI1GdDpdkdcMBgP9+vWjadOmfPLJJwqVrHqRHNRDslAPyUIdJAf1kCzUQ7JQD8miYkgH6h4UfvOdOnWKjh07cuDAAf7yl78oXLLqRXJQD8lCPSQLdZAc1EOyUA/JQj0kiz9Hr3QB1OrWrVv89ttv/Pjjj3h5eeHl5UWnTp0IDw8v0nPPyspi9uzZ8oazE8lBPSQL9ZAs1EFyUA/JQj0kC/WQLOxHZqBK8dxzz/Hbb79ZTiJxc3MjNzeX1q1bM3LkSNq2bWv5WmvToaJiSA7qIVmoh2ShDpKDekgW6iFZqIdkYT/SgbLi1KlT9OjRgzVr1tClSxfMZjO7d+9m165dHDx4EL1ezz/+8Q9atmypdFGrNMlBPSQL9ZAs1EFyUA/JQj0kC/WQLOxLOlBWLFq0iM2bN7N58+YSfxcTE8Obb75JYmIi27dvx9/fX4ESVg+Sg3pIFuohWaiD5KAekoV6SBbqIVnYl9wDZUVoaChHjx61vOlMJhNGoxGADh06sHz5clxdXTlx4oSSxazyJAf1kCzUQ7JQB8lBPSQL9ZAs1EOysC/pQFnRvn17HnjgAT788EOioqLQarVF1oX6+vqi0+mIi4tTsJRVn+SgHpKFekgW6iA5qIdkoR6ShXpIFvalmzFjxiylC6EmZrMZBwcHOnbsyN69e3nnnXeIjo7Gw8MDFxcX4uLi2LZtG2vWrGHx4sU4OjoqXeQqSXJQD8lCPSQLdZAc1EOyUA/JQj0kC/uTPVDl2LZtG0uXLmXXrl24u7vj6OiIp6cnY8aMYeLEiUoXr9qQHNRDslAPyUIdJAf1kCzUQ7JQD8mi4kkHqpCsrCy2bduGp6cnDRs2JCAgALPZjNFoJDU1lf3796PRaOjYsSO1atWyHAspKpbkoB6ShXpIFuogOaiHZKEekoV6SBaVQzpQ+Y4cOcJ7771HVFQU2dnZhIeHs3TpUkJCQqx+vdlsRqPRVHIpqz7JQT0kC/WQLNRBclAPyUI9JAv1kCwqj3Q7873xxht4eXmxY8cOLly4gKurK3//+9+LfI3RaMRsvtPflDecfUgO6iFZqIdkoQ6Sg3pIFuohWaiHZFF5pAMFnD17liNHjjBz5kxCQ0Nxd3dn5syZ7N27l5iYGMvX/fTTT3z55ZcKlrRqkxzUQ7JQD8lCHSQH9ZAs1EOyUA/JonJJBwrYvn07Xbp0wcPDw/Jap06diIyMZP369ZbXXnrpJRwcHJQoYrUgOaiHZKEekoU6SA7qIVmoh2ShHpJF5ZIOFHcuG0tJSSEvLw8Ag8EAwIABA9i5cycAmzdvJicnh6efflqxclZ1koN6SBbqIVmog+SgHpKFekgW6iFZVC45RCJfTk4OTk5Olg11ZrOZzMxMOnXqxEcffcTChQuJiIhg9uzZShe1SpMc1EOyUA/JQh0kB/WQLNRDslAPyaLySAeqFAVvvtmzZ7NixQoyMjI4d+4crq6uShetWpEc1EOyUA/JQh0kB/WQLNRDslAPycJ+ZAlfKQpOJhk4cCDXrl3jiSeekDecAiQH9ZAs1EOyUAfJQT0kC/WQLNRDsrAfmYGywaVLl3B2dqZmzZpKF6VakxzUQ7JQD8lCHSQH9ZAs1EOyUA/JomJJB0oIIYQQQgghbCRL+IQQQgghhBDCRtKBEkIIIYQQQggbSQdKCCGEEEIIIWwkHSghhBBCCCGEsJF0oIQQQqjeihUr8PLysvyfn58fTZs25fHHH2fRokXcvHnznr7viRMnmDNnDhcuXKjgEgshhKiq9EoXQAghhLDVjBkzaNCgAXl5eVy7do29e/fy+uuv8+mnn/Ltt9/SokWLu/p+J0+eZO7cuXTt2pWgoCA7lVoIIURVIh0oIYQQ941evXrRrl07y5+nT59OVFQUw4YNY/jw4Rw8eBAXFxcFSyiEEKKqkyV8Qggh7mvdu3fn1VdfJSEhgVWrVgFw7NgxJk+eTKtWrfDz8yMkJITx48eTmJho+XcrVqxg/PjxADz66KOW5YErVqywfM2hQ4d48sknCQwMxN/fn549e/LTTz9V7g8ohBBCVaQDJYQQ4r735JNPArBz504Afv75Z86cOcPQoUN5//33GTVqFNu2bePRRx8lKysLgC5duvDMM88A8PLLL7N48WIWL15Mly5dANi7dy/9+vXj2rVrvPrqq7z11ls4OjoyfPhwNm7cqMBPKYQQQg00aWlpZqULIYQQQpRlxYoVTJkyhW3bthVZwldYYGAgwcHB7N69m9u3b+Pq6lrk76Ojo3nooYdYsmQJQ4cOBWDt2rWMHz+eTZs28cADD1i+1mw20759e/z9/dmwYQNa7Z3xRpPJRN++fUlOTubw4cN2+mmFEEKomcxACSGEqBLc3NzIzMwEKNJ5yszMJCUlhSZNmuDp6WlTx+f333+3zGClpqZy48YNbty4QWpqKr179yY+Pp6LFy/a7WcRQgihXnKIhBBCiCohMzOTWrVqAZCWlsasWbPYsGEDqampRb4uPT293O917tw5AKZOncrUqVOtfs3169cJDAz8k6UWQghxv5EOlBBCiPvepUuXyMjIoGHDhgCMGzeO/fv38/zzz9OyZUvc3d3RaDSMGzcOk8lU7vcr+JpZs2bRqlUrq1/TqFGjivsBhBBC3DekAyWEEOK+9/333wPQs2dP0tLS2LlzJzNmzGDGjBmWr8nOziYtLa3Iv9NoNFa/X4MGDYA7ywJ79Ohhn0ILIYS4L8keKCGEEPe1qKgo5s2bR1BQEEOHDrUc+GA2Fz0j6bPPPisx+1SwV6p4x6pVq1aEhITwz3/+0+qSv+vXr1fkjyCEEOI+IjNQQggh7hs7duzg/PnzGAwGkpOT2b17Nz///DMBAQF8++23ODs74+zsTNeuXfn444/Jy8sjICCA6Oho9u/fj4+PT5HvFx4ejlar5aOPPiI9PR0XFxfatGlDcHAwn3zyCYMHD6Zjx46MHDmSwMBAkpKSiI2NJSEhgQMHDij0WxBCCKEk6UAJIYS4b7z33nsAODo64u3tTbNmzZgzZw4jR47E3d3d8nVLly5lxowZLFu2DIPBQOfOndm4cSMDBw4s8v3q1KnDggULWLBgAS+++CJGo5FPP/2U4OBgOnXqxI4dO3j//ff597//TUZGBr6+vrRo0YLXX3+9Un9uIYQQ6iH3QAkhhBBCCCGEjWQPlBBCCCGEEELYSDpQQgghhBBCCGEj6UAJIYQQQgghhI2kAyWEEEIIIYQQNpIOlBBCCCGEEELYSDpQQgghhBBCCGEj6UAJIYQQQgghhI2kAyWEEEIIIYQQNpIOlBBCCCGEEELYSDpQQgghhBBCCGGj/wfvOFYXbRfnJgAAAABJRU5ErkJggg==\n",
      "text/plain": [
       "<Figure size 864x576 with 1 Axes>"
      ]
     },
     "metadata": {},
     "output_type": "display_data"
    }
   ],
   "source": [
    "# use Pandas Plotting with Matplotlib to plot the dataprecip_df.plot(figsize=(12,8), color='darkcyan')\n",
    "\n",
    "precip_df.plot(figsize=(12,8), color='darkcyan')\n",
=======
   "execution_count": 15,
   "id": "5140a265",
   "metadata": {},
   "outputs": [
    {
     "ename": "NameError",
     "evalue": "name 'precip_index' is not defined",
     "output_type": "error",
     "traceback": [
      "\u001b[1;31m---------------------------------------------------------------------------\u001b[0m",
      "\u001b[1;31mNameError\u001b[0m                                 Traceback (most recent call last)",
      "\u001b[1;32m<ipython-input-15-fc86cc5c2d23>\u001b[0m in \u001b[0;36m<module>\u001b[1;34m\u001b[0m\n\u001b[0;32m      1\u001b[0m \u001b[1;31m# Use Pandas Plotting with Matplotlib to plot the data\u001b[0m\u001b[1;33m\u001b[0m\u001b[1;33m\u001b[0m\u001b[1;33m\u001b[0m\u001b[0m\n\u001b[0;32m      2\u001b[0m \u001b[1;33m\u001b[0m\u001b[0m\n\u001b[1;32m----> 3\u001b[1;33m \u001b[0mprecip_index\u001b[0m\u001b[1;33m.\u001b[0m\u001b[0mplot\u001b[0m\u001b[1;33m(\u001b[0m\u001b[0mfigsize\u001b[0m\u001b[1;33m=\u001b[0m\u001b[1;33m(\u001b[0m\u001b[1;36m12\u001b[0m\u001b[1;33m,\u001b[0m\u001b[1;36m8\u001b[0m\u001b[1;33m)\u001b[0m\u001b[1;33m,\u001b[0m \u001b[0mcolor\u001b[0m\u001b[1;33m=\u001b[0m\u001b[1;34m'darkcyan'\u001b[0m\u001b[1;33m)\u001b[0m\u001b[1;33m\u001b[0m\u001b[1;33m\u001b[0m\u001b[0m\n\u001b[0m\u001b[0;32m      4\u001b[0m \u001b[0mplt\u001b[0m\u001b[1;33m.\u001b[0m\u001b[0mtitle\u001b[0m\u001b[1;33m(\u001b[0m\u001b[1;34m\"Exploratory Precipitation Analysis\"\u001b[0m\u001b[1;33m)\u001b[0m\u001b[1;33m\u001b[0m\u001b[1;33m\u001b[0m\u001b[0m\n\u001b[0;32m      5\u001b[0m \u001b[0mplt\u001b[0m\u001b[1;33m.\u001b[0m\u001b[0mxlabel\u001b[0m\u001b[1;33m(\u001b[0m\u001b[1;34m\"Date\"\u001b[0m\u001b[1;33m)\u001b[0m\u001b[1;33m\u001b[0m\u001b[1;33m\u001b[0m\u001b[0m\n",
      "\u001b[1;31mNameError\u001b[0m: name 'precip_index' is not defined"
     ]
    }
   ],
   "source": [
    "# Use Pandas Plotting with Matplotlib to plot the data\n",
    "\n",
    "precip_index.plot(figsize=(12,8), color='darkcyan')\n",
>>>>>>> 98fad8eb9852b4b7053b39591301554541b3e7b3
    "plt.title(\"Exploratory Precipitation Analysis\")\n",
    "plt.xlabel(\"Date\")\n",
    "plt.ylabel(\"Precipitation (Inches)\")\n",
    "plt.xticks(rotation=66)\n",
    "plt.tight_layout()"
   ]
  },
  {
   "cell_type": "code",
<<<<<<< HEAD
   "execution_count": 17,
   "id": "9b60b87b",
   "metadata": {},
   "outputs": [
    {
     "data": {
      "text/html": [
       "<div>\n",
       "<style scoped>\n",
       "    .dataframe tbody tr th:only-of-type {\n",
       "        vertical-align: middle;\n",
       "    }\n",
       "\n",
       "    .dataframe tbody tr th {\n",
       "        vertical-align: top;\n",
       "    }\n",
       "\n",
       "    .dataframe thead th {\n",
       "        text-align: right;\n",
       "    }\n",
       "</style>\n",
       "<table border=\"1\" class=\"dataframe\">\n",
       "  <thead>\n",
       "    <tr style=\"text-align: right;\">\n",
       "      <th></th>\n",
       "      <th>precipitation</th>\n",
       "    </tr>\n",
       "  </thead>\n",
       "  <tbody>\n",
       "    <tr>\n",
       "      <th>count</th>\n",
       "      <td>365.000000</td>\n",
       "    </tr>\n",
       "    <tr>\n",
       "      <th>mean</th>\n",
       "      <td>0.974164</td>\n",
       "    </tr>\n",
       "    <tr>\n",
       "      <th>std</th>\n",
       "      <td>1.776466</td>\n",
       "    </tr>\n",
       "    <tr>\n",
       "      <th>min</th>\n",
       "      <td>0.000000</td>\n",
       "    </tr>\n",
       "    <tr>\n",
       "      <th>25%</th>\n",
       "      <td>0.050000</td>\n",
       "    </tr>\n",
       "    <tr>\n",
       "      <th>50%</th>\n",
       "      <td>0.400000</td>\n",
       "    </tr>\n",
       "    <tr>\n",
       "      <th>75%</th>\n",
       "      <td>1.080000</td>\n",
       "    </tr>\n",
       "    <tr>\n",
       "      <th>max</th>\n",
       "      <td>14.280000</td>\n",
       "    </tr>\n",
       "  </tbody>\n",
       "</table>\n",
       "</div>"
      ],
      "text/plain": [
       "       precipitation\n",
       "count     365.000000\n",
       "mean        0.974164\n",
       "std         1.776466\n",
       "min         0.000000\n",
       "25%         0.050000\n",
       "50%         0.400000\n",
       "75%         1.080000\n",
       "max        14.280000"
      ]
     },
     "execution_count": 17,
     "metadata": {},
     "output_type": "execute_result"
    }
   ],
   "source": [
    "# use Pandas to calcualte the summary statistics for the precipitation data\n",
    "\n",
    "precip_df.describe()"
=======
   "execution_count": 16,
   "id": "8b6f4560",
   "metadata": {},
   "outputs": [
    {
     "ename": "NameError",
     "evalue": "name 'precip_date' is not defined",
     "output_type": "error",
     "traceback": [
      "\u001b[1;31m---------------------------------------------------------------------------\u001b[0m",
      "\u001b[1;31mNameError\u001b[0m                                 Traceback (most recent call last)",
      "\u001b[1;32m<ipython-input-16-ce2385fcd4bd>\u001b[0m in \u001b[0;36m<module>\u001b[1;34m\u001b[0m\n\u001b[0;32m      1\u001b[0m \u001b[1;31m# Use Pandas to calcualte the summary statistics for the precipitation data\u001b[0m\u001b[1;33m\u001b[0m\u001b[1;33m\u001b[0m\u001b[1;33m\u001b[0m\u001b[0m\n\u001b[0;32m      2\u001b[0m \u001b[1;33m\u001b[0m\u001b[0m\n\u001b[1;32m----> 3\u001b[1;33m \u001b[0mprecip_date\u001b[0m\u001b[1;33m.\u001b[0m\u001b[0mdescribe\u001b[0m\u001b[1;33m(\u001b[0m\u001b[1;33m)\u001b[0m\u001b[1;33m\u001b[0m\u001b[1;33m\u001b[0m\u001b[0m\n\u001b[0m",
      "\u001b[1;31mNameError\u001b[0m: name 'precip_date' is not defined"
     ]
    }
   ],
   "source": [
    " # Use Pandas to calcualte the summary statistics for the precipitation data\n",
    "    \n",
    "precip_date.describe()"
>>>>>>> 98fad8eb9852b4b7053b39591301554541b3e7b3
   ]
  },
  {
   "cell_type": "markdown",
<<<<<<< HEAD
   "id": "ea8db7a4",
   "metadata": {},
   "source": [
    "# Exploratory Station Analysis"
=======
   "id": "352451d3",
   "metadata": {},
   "source": [
    "Exploratory Station Analysis"
   ]
  },
  {
   "cell_type": "code",
   "execution_count": 17,
   "id": "edda0a6e",
   "metadata": {},
   "outputs": [
    {
     "name": "stdout",
     "output_type": "stream",
     "text": [
      "id INTEGER\n",
      "station TEXT\n",
      "name TEXT\n",
      "latitude FLOAT\n",
      "longitude FLOAT\n",
      "elevation FLOAT\n"
     ]
    }
   ],
   "source": [
    "# Design a query to calculate the total number stations in the dataset\n",
    "\n",
    "columns = inspector.get_columns('station')\n",
    "for col in columns:\n",
    "    print(col[\"name\"], col[\"type\"])"
>>>>>>> 98fad8eb9852b4b7053b39591301554541b3e7b3
   ]
  },
  {
   "cell_type": "code",
   "execution_count": 18,
<<<<<<< HEAD
   "id": "f32b0e4f",
=======
   "id": "df605384",
>>>>>>> 98fad8eb9852b4b7053b39591301554541b3e7b3
   "metadata": {},
   "outputs": [
    {
     "data": {
      "text/plain": [
       "9"
      ]
     },
     "execution_count": 18,
     "metadata": {},
     "output_type": "execute_result"
    }
   ],
   "source": [
<<<<<<< HEAD
    "# total number of unique stations\n",
    "\n",
=======
>>>>>>> 98fad8eb9852b4b7053b39591301554541b3e7b3
    "stations_total = session.query(station).filter(station.id).count()\n",
    "stations_total"
   ]
  },
  {
   "cell_type": "code",
   "execution_count": 19,
<<<<<<< HEAD
   "id": "660c3482",
=======
   "id": "7bf8a7ff",
>>>>>>> 98fad8eb9852b4b7053b39591301554541b3e7b3
   "metadata": {},
   "outputs": [
    {
     "data": {
      "text/plain": [
<<<<<<< HEAD
       "('USC00519281', 'WAIKIKI 717.2, HI US', 24948)"
=======
       "[('USC00519281', 2772),\n",
       " ('USC00519397', 2724),\n",
       " ('USC00513117', 2709),\n",
       " ('USC00519523', 2669),\n",
       " ('USC00516128', 2612),\n",
       " ('USC00514830', 2202),\n",
       " ('USC00511918', 1979),\n",
       " ('USC00517948', 1372),\n",
       " ('USC00518838', 511)]"
>>>>>>> 98fad8eb9852b4b7053b39591301554541b3e7b3
      ]
     },
     "execution_count": 19,
     "metadata": {},
     "output_type": "execute_result"
    }
   ],
   "source": [
<<<<<<< HEAD
    "# design a query to find the most active stations \n",
    "# list the stations and the counts in descending order\n",
    "\n",
    "most_active = session.query(measurement.station, station.name, func.count(measurement.station)).group_by(measurement.station).\\\n",
    "order_by(func.count(measurement.station).desc()).first()\n",
    "most_active\n"
=======
    "# Design a query to find the most active stations (i.e. what stations have the most rows?)\n",
    "# List the stations and the counts in descending order.\n",
    "\n",
    "most_active = session.query(measurement.station, func.count(measurement.station)).group_by(measurement.station).\\\n",
    "    order_by(func.count(measurement.station).desc()).all()\n",
    "\n",
    "most_active"
>>>>>>> 98fad8eb9852b4b7053b39591301554541b3e7b3
   ]
  },
  {
   "cell_type": "code",
<<<<<<< HEAD
   "execution_count": 22,
   "id": "d57b76a7",
=======
   "execution_count": 20,
   "id": "f4849dac",
>>>>>>> 98fad8eb9852b4b7053b39591301554541b3e7b3
   "metadata": {},
   "outputs": [
    {
     "name": "stdout",
     "output_type": "stream",
     "text": [
      "(54.0,) (85.0,) (71.66378066378067,)\n"
     ]
    }
   ],
   "source": [
    "# Using the most active station id from the previous query, calculate the lowest, highest, and average temperature.'USC00519281', 2772)\n",
    "\n",
<<<<<<< HEAD
    "most_active_station = most_active[0]\n",
=======
    "most_active_station = most_active[0][0]\n",
>>>>>>> 98fad8eb9852b4b7053b39591301554541b3e7b3
    "\n",
    "lowest_temp = session.query(func.min(measurement.tobs)).\\\n",
    "filter(measurement.station == most_active_station).one()\n",
    "\n",
    "highest_temp = session.query(func.max(measurement.tobs)).\\\n",
    "filter(measurement.station == most_active_station).one()\n",
    "\n",
    "avg_temp = session.query(func.avg(measurement.tobs)).\\\n",
    "filter(measurement.station == most_active_station).one()\n",
    "\n",
    "print(lowest_temp, highest_temp, avg_temp)"
   ]
  },
  {
   "cell_type": "code",
<<<<<<< HEAD
   "execution_count": 23,
   "id": "8455d241",
=======
   "execution_count": 21,
   "id": "98be43c1",
>>>>>>> 98fad8eb9852b4b7053b39591301554541b3e7b3
   "metadata": {},
   "outputs": [],
   "source": [
    "last_year = session.query(measurement.date, measurement.tobs).filter(measurement.date >= \"2016-03-23\").\\\n",
    "filter(measurement.station == most_active_station).order_by(measurement.date).all()"
   ]
  },
  {
   "cell_type": "code",
<<<<<<< HEAD
   "execution_count": 24,
   "id": "32f63be7",
=======
   "execution_count": 22,
   "id": "47d5ce54",
>>>>>>> 98fad8eb9852b4b7053b39591301554541b3e7b3
   "metadata": {},
   "outputs": [
    {
     "data": {
      "text/html": [
       "<div>\n",
       "<style scoped>\n",
       "    .dataframe tbody tr th:only-of-type {\n",
       "        vertical-align: middle;\n",
       "    }\n",
       "\n",
       "    .dataframe tbody tr th {\n",
       "        vertical-align: top;\n",
       "    }\n",
       "\n",
       "    .dataframe thead th {\n",
       "        text-align: right;\n",
       "    }\n",
       "</style>\n",
       "<table border=\"1\" class=\"dataframe\">\n",
       "  <thead>\n",
       "    <tr style=\"text-align: right;\">\n",
       "      <th></th>\n",
       "      <th>tobs</th>\n",
       "    </tr>\n",
       "    <tr>\n",
       "      <th>date</th>\n",
       "      <th></th>\n",
       "    </tr>\n",
       "  </thead>\n",
       "  <tbody>\n",
       "    <tr>\n",
       "      <th>2016-03-23</th>\n",
       "      <td>63.0</td>\n",
       "    </tr>\n",
       "    <tr>\n",
       "      <th>2016-03-24</th>\n",
       "      <td>64.0</td>\n",
       "    </tr>\n",
       "    <tr>\n",
       "      <th>2016-03-25</th>\n",
       "      <td>72.0</td>\n",
       "    </tr>\n",
       "    <tr>\n",
       "      <th>2016-03-26</th>\n",
       "      <td>76.0</td>\n",
       "    </tr>\n",
       "    <tr>\n",
       "      <th>2016-03-27</th>\n",
       "      <td>76.0</td>\n",
       "    </tr>\n",
       "    <tr>\n",
       "      <th>...</th>\n",
       "      <td>...</td>\n",
       "    </tr>\n",
       "    <tr>\n",
       "      <th>2017-08-14</th>\n",
       "      <td>77.0</td>\n",
       "    </tr>\n",
       "    <tr>\n",
       "      <th>2017-08-15</th>\n",
       "      <td>77.0</td>\n",
       "    </tr>\n",
       "    <tr>\n",
       "      <th>2017-08-16</th>\n",
       "      <td>76.0</td>\n",
       "    </tr>\n",
       "    <tr>\n",
       "      <th>2017-08-17</th>\n",
       "      <td>76.0</td>\n",
       "    </tr>\n",
       "    <tr>\n",
       "      <th>2017-08-18</th>\n",
       "      <td>79.0</td>\n",
       "    </tr>\n",
       "  </tbody>\n",
       "</table>\n",
       "<p>505 rows × 1 columns</p>\n",
       "</div>"
      ],
      "text/plain": [
       "            tobs\n",
       "date            \n",
       "2016-03-23  63.0\n",
       "2016-03-24  64.0\n",
       "2016-03-25  72.0\n",
       "2016-03-26  76.0\n",
       "2016-03-27  76.0\n",
       "...          ...\n",
       "2017-08-14  77.0\n",
       "2017-08-15  77.0\n",
       "2017-08-16  76.0\n",
       "2017-08-17  76.0\n",
       "2017-08-18  79.0\n",
       "\n",
       "[505 rows x 1 columns]"
      ]
     },
<<<<<<< HEAD
     "execution_count": 24,
=======
     "execution_count": 22,
>>>>>>> 98fad8eb9852b4b7053b39591301554541b3e7b3
     "metadata": {},
     "output_type": "execute_result"
    }
   ],
   "source": [
    "station = pd.DataFrame(data=last_year).set_index('date')\n",
    "station"
   ]
  },
  {
   "cell_type": "code",
<<<<<<< HEAD
   "execution_count": 25,
   "id": "311b6466",
=======
   "execution_count": 23,
   "id": "715b0c9d",
>>>>>>> 98fad8eb9852b4b7053b39591301554541b3e7b3
   "metadata": {},
   "outputs": [
    {
     "data": {
      "image/png": "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\n",
      "text/plain": [
       "<Figure size 864x576 with 1 Axes>"
      ]
     },
     "metadata": {},
     "output_type": "display_data"
    }
   ],
   "source": [
    "plt.figure(figsize=(12,8))\n",
    "plt.hist(station['tobs'], bins = 12, color='indigo')\n",
    "plt.title(\"Exploratory Station Analysis\")\n",
    "plt.xlabel(\"Temperature\")\n",
    "plt.ylabel(\"Frequency\")\n",
    "plt.legend([\"tobs\"], loc=\"upper left\")\n",
<<<<<<< HEAD
    "plt.tight_layout()"
=======
    "plt.tight_layout()\n"
>>>>>>> 98fad8eb9852b4b7053b39591301554541b3e7b3
   ]
  },
  {
   "cell_type": "code",
<<<<<<< HEAD
   "execution_count": 26,
   "id": "bd0c5c8a",
=======
   "execution_count": null,
   "id": "c3cc121c",
>>>>>>> 98fad8eb9852b4b7053b39591301554541b3e7b3
   "metadata": {},
   "outputs": [],
   "source": [
    "session.close()"
   ]
  },
  {
   "cell_type": "code",
   "execution_count": null,
<<<<<<< HEAD
   "id": "88b99561",
=======
   "id": "2ba85264",
>>>>>>> 98fad8eb9852b4b7053b39591301554541b3e7b3
   "metadata": {},
   "outputs": [],
   "source": []
  }
 ],
 "metadata": {
  "kernelspec": {
   "display_name": "Python 3",
   "language": "python",
   "name": "python3"
  },
  "language_info": {
   "codemirror_mode": {
    "name": "ipython",
    "version": 3
   },
   "file_extension": ".py",
   "mimetype": "text/x-python",
   "name": "python",
   "nbconvert_exporter": "python",
   "pygments_lexer": "ipython3",
   "version": "3.6.10"
  }
 },
 "nbformat": 4,
 "nbformat_minor": 5
}
